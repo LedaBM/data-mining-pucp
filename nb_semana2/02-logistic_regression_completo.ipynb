{
 "cells": [
  {
   "cell_type": "code",
   "execution_count": 1,
   "metadata": {},
   "outputs": [],
   "source": [
    "import utils, math\n",
    "import numpy as np\n",
    "import pandas as pd\n",
    "import matplotlib.pyplot as plt\n",
    "import plotly.graph_objs as go\n",
    "from sklearn.datasets import load_iris\n",
    "from sklearn.model_selection import train_test_split\n",
    "from tqdm import tnrange, tqdm_notebook\n",
    "%matplotlib inline"
   ]
  },
  {
   "cell_type": "markdown",
   "metadata": {},
   "source": [
    "# Load Data"
   ]
  },
  {
   "cell_type": "code",
   "execution_count": 2,
   "metadata": {},
   "outputs": [
    {
     "data": {
      "text/plain": [
       "dict_keys(['data', 'target', 'target_names', 'DESCR', 'feature_names'])"
      ]
     },
     "execution_count": 2,
     "metadata": {},
     "output_type": "execute_result"
    }
   ],
   "source": [
    "data = load_iris()\n",
    "data.keys()"
   ]
  },
  {
   "cell_type": "code",
   "execution_count": 3,
   "metadata": {
    "scrolled": true
   },
   "outputs": [
    {
     "name": "stdout",
     "output_type": "stream",
     "text": [
      "Iris Plants Database\n",
      "====================\n",
      "\n",
      "Notes\n",
      "-----\n",
      "Data Set Characteristics:\n",
      "    :Number of Instances: 150 (50 in each of three classes)\n",
      "    :Number of Attributes: 4 numeric, predictive attributes and the class\n",
      "    :Attribute Information:\n",
      "        - sepal length in cm\n",
      "        - sepal width in cm\n",
      "        - petal length in cm\n",
      "        - petal width in cm\n",
      "        - class:\n",
      "                - Iris-Setosa\n",
      "                - Iris-Versicolour\n",
      "                - Iris-Virginica\n",
      "    :Summary Statistics:\n",
      "\n",
      "    ============== ==== ==== ======= ===== ====================\n",
      "                    Min  Max   Mean    SD   Class Correlation\n",
      "    ============== ==== ==== ======= ===== ====================\n",
      "    sepal length:   4.3  7.9   5.84   0.83    0.7826\n",
      "    sepal width:    2.0  4.4   3.05   0.43   -0.4194\n",
      "    petal length:   1.0  6.9   3.76   1.76    0.9490  (high!)\n",
      "    petal width:    0.1  2.5   1.20  0.76     0.9565  (high!)\n",
      "    ============== ==== ==== ======= ===== ====================\n",
      "\n",
      "    :Missing Attribute Values: None\n",
      "    :Class Distribution: 33.3% for each of 3 classes.\n",
      "    :Creator: R.A. Fisher\n",
      "    :Donor: Michael Marshall (MARSHALL%PLU@io.arc.nasa.gov)\n",
      "    :Date: July, 1988\n",
      "\n",
      "This is a copy of UCI ML iris datasets.\n",
      "http://archive.ics.uci.edu/ml/datasets/Iris\n",
      "\n",
      "The famous Iris database, first used by Sir R.A Fisher\n",
      "\n",
      "This is perhaps the best known database to be found in the\n",
      "pattern recognition literature.  Fisher's paper is a classic in the field and\n",
      "is referenced frequently to this day.  (See Duda & Hart, for example.)  The\n",
      "data set contains 3 classes of 50 instances each, where each class refers to a\n",
      "type of iris plant.  One class is linearly separable from the other 2; the\n",
      "latter are NOT linearly separable from each other.\n",
      "\n",
      "References\n",
      "----------\n",
      "   - Fisher,R.A. \"The use of multiple measurements in taxonomic problems\"\n",
      "     Annual Eugenics, 7, Part II, 179-188 (1936); also in \"Contributions to\n",
      "     Mathematical Statistics\" (John Wiley, NY, 1950).\n",
      "   - Duda,R.O., & Hart,P.E. (1973) Pattern Classification and Scene Analysis.\n",
      "     (Q327.D83) John Wiley & Sons.  ISBN 0-471-22361-1.  See page 218.\n",
      "   - Dasarathy, B.V. (1980) \"Nosing Around the Neighborhood: A New System\n",
      "     Structure and Classification Rule for Recognition in Partially Exposed\n",
      "     Environments\".  IEEE Transactions on Pattern Analysis and Machine\n",
      "     Intelligence, Vol. PAMI-2, No. 1, 67-71.\n",
      "   - Gates, G.W. (1972) \"The Reduced Nearest Neighbor Rule\".  IEEE Transactions\n",
      "     on Information Theory, May 1972, 431-433.\n",
      "   - See also: 1988 MLC Proceedings, 54-64.  Cheeseman et al\"s AUTOCLASS II\n",
      "     conceptual clustering system finds 3 classes in the data.\n",
      "   - Many, many more ...\n",
      "\n"
     ]
    }
   ],
   "source": [
    "print(data['DESCR'])"
   ]
  },
  {
   "cell_type": "code",
   "execution_count": 4,
   "metadata": {},
   "outputs": [
    {
     "data": {
      "text/html": [
       "<div>\n",
       "<style scoped>\n",
       "    .dataframe tbody tr th:only-of-type {\n",
       "        vertical-align: middle;\n",
       "    }\n",
       "\n",
       "    .dataframe tbody tr th {\n",
       "        vertical-align: top;\n",
       "    }\n",
       "\n",
       "    .dataframe thead th {\n",
       "        text-align: right;\n",
       "    }\n",
       "</style>\n",
       "<table border=\"1\" class=\"dataframe\">\n",
       "  <thead>\n",
       "    <tr style=\"text-align: right;\">\n",
       "      <th></th>\n",
       "      <th>sepal length (cm)</th>\n",
       "      <th>sepal width (cm)</th>\n",
       "      <th>petal length (cm)</th>\n",
       "      <th>petal width (cm)</th>\n",
       "    </tr>\n",
       "  </thead>\n",
       "  <tbody>\n",
       "    <tr>\n",
       "      <th>0</th>\n",
       "      <td>5.1</td>\n",
       "      <td>3.5</td>\n",
       "      <td>1.4</td>\n",
       "      <td>0.2</td>\n",
       "    </tr>\n",
       "    <tr>\n",
       "      <th>1</th>\n",
       "      <td>4.9</td>\n",
       "      <td>3.0</td>\n",
       "      <td>1.4</td>\n",
       "      <td>0.2</td>\n",
       "    </tr>\n",
       "    <tr>\n",
       "      <th>2</th>\n",
       "      <td>4.7</td>\n",
       "      <td>3.2</td>\n",
       "      <td>1.3</td>\n",
       "      <td>0.2</td>\n",
       "    </tr>\n",
       "    <tr>\n",
       "      <th>3</th>\n",
       "      <td>4.6</td>\n",
       "      <td>3.1</td>\n",
       "      <td>1.5</td>\n",
       "      <td>0.2</td>\n",
       "    </tr>\n",
       "    <tr>\n",
       "      <th>4</th>\n",
       "      <td>5.0</td>\n",
       "      <td>3.6</td>\n",
       "      <td>1.4</td>\n",
       "      <td>0.2</td>\n",
       "    </tr>\n",
       "  </tbody>\n",
       "</table>\n",
       "</div>"
      ],
      "text/plain": [
       "   sepal length (cm)  sepal width (cm)  petal length (cm)  petal width (cm)\n",
       "0                5.1               3.5                1.4               0.2\n",
       "1                4.9               3.0                1.4               0.2\n",
       "2                4.7               3.2                1.3               0.2\n",
       "3                4.6               3.1                1.5               0.2\n",
       "4                5.0               3.6                1.4               0.2"
      ]
     },
     "execution_count": 4,
     "metadata": {},
     "output_type": "execute_result"
    }
   ],
   "source": [
    "pd.DataFrame(data['data'], columns=data['feature_names']).head()"
   ]
  },
  {
   "cell_type": "code",
   "execution_count": 5,
   "metadata": {},
   "outputs": [
    {
     "name": "stdout",
     "output_type": "stream",
     "text": [
      "(150, 4)\n"
     ]
    },
    {
     "data": {
      "text/plain": [
       "array([[5.1, 3.5, 1.4, 0.2],\n",
       "       [4.9, 3. , 1.4, 0.2],\n",
       "       [4.7, 3.2, 1.3, 0.2]])"
      ]
     },
     "execution_count": 5,
     "metadata": {},
     "output_type": "execute_result"
    }
   ],
   "source": [
    "x = data['data']\n",
    "print(x.shape)\n",
    "x[:3]"
   ]
  },
  {
   "cell_type": "code",
   "execution_count": 6,
   "metadata": {},
   "outputs": [
    {
     "name": "stdout",
     "output_type": "stream",
     "text": [
      "(150,)\n"
     ]
    },
    {
     "data": {
      "text/plain": [
       "array([0, 0, 0])"
      ]
     },
     "execution_count": 6,
     "metadata": {},
     "output_type": "execute_result"
    }
   ],
   "source": [
    "y = data['target']\n",
    "print(y.shape)\n",
    "y[:3]"
   ]
  },
  {
   "cell_type": "code",
   "execution_count": 7,
   "metadata": {},
   "outputs": [
    {
     "data": {
      "text/plain": [
       "array([[1., 0., 0.],\n",
       "       [0., 1., 0.],\n",
       "       [0., 0., 1.]])"
      ]
     },
     "execution_count": 7,
     "metadata": {},
     "output_type": "execute_result"
    }
   ],
   "source": [
    "np.eye(3)"
   ]
  },
  {
   "cell_type": "code",
   "execution_count": 8,
   "metadata": {},
   "outputs": [
    {
     "name": "stdout",
     "output_type": "stream",
     "text": [
      "(150, 3)\n"
     ]
    },
    {
     "data": {
      "text/plain": [
       "array([[1., 0., 0.],\n",
       "       [1., 0., 0.],\n",
       "       [1., 0., 0.]])"
      ]
     },
     "execution_count": 8,
     "metadata": {},
     "output_type": "execute_result"
    }
   ],
   "source": [
    "# Cambiamos la representacion de y a one-hot\n",
    "y = np.eye(3)[y]\n",
    "print(y.shape)\n",
    "y[:3]"
   ]
  },
  {
   "cell_type": "code",
   "execution_count": 9,
   "metadata": {},
   "outputs": [
    {
     "data": {
      "text/plain": [
       "((120, 4), (30, 4), (120, 3), (30, 3))"
      ]
     },
     "execution_count": 9,
     "metadata": {},
     "output_type": "execute_result"
    }
   ],
   "source": [
    "# Train validation split\n",
    "x_train, x_val, y_train, y_val = train_test_split(x, y, test_size=0.2, random_state=42)\n",
    "x_train.shape, x_val.shape, y_train.shape, y_val.shape"
   ]
  },
  {
   "cell_type": "code",
   "execution_count": 10,
   "metadata": {},
   "outputs": [
    {
     "data": {
      "text/plain": [
       "array(['setosa', 'versicolor', 'virginica'], dtype='<U10')"
      ]
     },
     "execution_count": 10,
     "metadata": {},
     "output_type": "execute_result"
    }
   ],
   "source": [
    "data['target_names']"
   ]
  },
  {
   "cell_type": "code",
   "execution_count": 11,
   "metadata": {},
   "outputs": [
    {
     "data": {
      "text/plain": [
       "{0: 'setosa', 1: 'versicolor', 2: 'virginica'}"
      ]
     },
     "execution_count": 11,
     "metadata": {},
     "output_type": "execute_result"
    }
   ],
   "source": [
    "# Armamos un diccionario para el target\n",
    "idx2class = {i:e for i,e in enumerate(data['target_names'])}\n",
    "idx2class"
   ]
  },
  {
   "cell_type": "markdown",
   "metadata": {},
   "source": [
    "# Ejemplo de las diapositivas"
   ]
  },
  {
   "cell_type": "code",
   "execution_count": 12,
   "metadata": {},
   "outputs": [
    {
     "data": {
      "text/plain": [
       "(array([4.6, 3.6, 1. , 0.2]), array([1., 0., 0.]))"
      ]
     },
     "execution_count": 12,
     "metadata": {},
     "output_type": "execute_result"
    }
   ],
   "source": [
    "eg_x = x_train[0]\n",
    "eg_y = y_train[0]\n",
    "eg_x, eg_y"
   ]
  },
  {
   "cell_type": "code",
   "execution_count": 13,
   "metadata": {},
   "outputs": [
    {
     "data": {
      "text/plain": [
       "(4,)"
      ]
     },
     "execution_count": 13,
     "metadata": {},
     "output_type": "execute_result"
    }
   ],
   "source": [
    "eg_x.shape"
   ]
  },
  {
   "cell_type": "code",
   "execution_count": 14,
   "metadata": {},
   "outputs": [
    {
     "data": {
      "text/plain": [
       "(4, 1)"
      ]
     },
     "execution_count": 14,
     "metadata": {},
     "output_type": "execute_result"
    }
   ],
   "source": [
    "# Añadimos una dimension a eg_x\n",
    "eg_x = x_train[0][:,None]\n",
    "eg_x.shape"
   ]
  },
  {
   "cell_type": "code",
   "execution_count": 15,
   "metadata": {},
   "outputs": [
    {
     "data": {
      "text/plain": [
       "(3,)"
      ]
     },
     "execution_count": 15,
     "metadata": {},
     "output_type": "execute_result"
    }
   ],
   "source": [
    "eg_y.shape"
   ]
  },
  {
   "cell_type": "code",
   "execution_count": 16,
   "metadata": {},
   "outputs": [
    {
     "name": "stdout",
     "output_type": "stream",
     "text": [
      "shape: (3, 4)\n"
     ]
    },
    {
     "data": {
      "text/plain": [
       "array([[-0.4, -0.1, -2.1,  1.6],\n",
       "       [-1.8, -0.8,  0.5, -1.2],\n",
       "       [-1.1, -0.9,  0.6,  2.3]])"
      ]
     },
     "execution_count": 16,
     "metadata": {},
     "output_type": "execute_result"
    }
   ],
   "source": [
    "# definimos una matriz de pesos eg_w\n",
    "np.random.seed(2)\n",
    "eg_w = np.random.normal(size=4*3).reshape((3,4)).round(1)\n",
    "print(f'shape: {eg_w.shape}')\n",
    "eg_w"
   ]
  },
  {
   "cell_type": "code",
   "execution_count": 17,
   "metadata": {},
   "outputs": [
    {
     "name": "stdout",
     "output_type": "stream",
     "text": [
      "shape: (3,)\n"
     ]
    },
    {
     "data": {
      "text/plain": [
       "array([1.8, 0.4, 0.1])"
      ]
     },
     "execution_count": 17,
     "metadata": {},
     "output_type": "execute_result"
    }
   ],
   "source": [
    "# definimos una matriz de bias eg_b\n",
    "np.random.seed(3)\n",
    "eg_b = np.random.normal(size=3).round(1)\n",
    "print(f'shape: {eg_b.shape}')\n",
    "eg_b"
   ]
  },
  {
   "cell_type": "markdown",
   "metadata": {},
   "source": [
    "## Definimos el modelo"
   ]
  },
  {
   "cell_type": "markdown",
   "metadata": {},
   "source": [
    "$ \\hat{y} = f(x) = Wx + b $"
   ]
  },
  {
   "cell_type": "code",
   "execution_count": 18,
   "metadata": {},
   "outputs": [
    {
     "name": "stdout",
     "output_type": "stream",
     "text": [
      "data: [1. 0. 0.]\n",
      "model: [ -2.18 -10.5   -7.14]\n"
     ]
    }
   ],
   "source": [
    "def f(x): return (eg_w@x).ravel() + eg_b\n",
    "\n",
    "eg_y_ = f(eg_x)\n",
    "print(f'data: {eg_y}')\n",
    "print(f'model: {eg_y_}')"
   ]
  },
  {
   "cell_type": "markdown",
   "metadata": {},
   "source": [
    "###  Softmax"
   ]
  },
  {
   "cell_type": "markdown",
   "metadata": {},
   "source": [
    "$ softmax(\\hat{y_i}) = \\frac{e^{\\hat{y_i}}}{\\sum\\limits_j e^{\\hat{y_j}}} $"
   ]
  },
  {
   "cell_type": "code",
   "execution_count": 19,
   "metadata": {},
   "outputs": [
    {
     "data": {
      "text/plain": [
       "array([1.13041531e-01, 2.75364493e-05, 7.92752096e-04])"
      ]
     },
     "execution_count": 19,
     "metadata": {},
     "output_type": "execute_result"
    }
   ],
   "source": [
    "np.exp(eg_y_)"
   ]
  },
  {
   "cell_type": "code",
   "execution_count": 20,
   "metadata": {},
   "outputs": [
    {
     "data": {
      "text/plain": [
       "0.1138618191862661"
      ]
     },
     "execution_count": 20,
     "metadata": {},
     "output_type": "execute_result"
    }
   ],
   "source": [
    "np.exp(eg_y_).sum()"
   ]
  },
  {
   "cell_type": "code",
   "execution_count": 21,
   "metadata": {},
   "outputs": [
    {
     "data": {
      "text/plain": [
       "array([9.92795754e-01, 2.41840940e-04, 6.96240498e-03])"
      ]
     },
     "execution_count": 21,
     "metadata": {},
     "output_type": "execute_result"
    }
   ],
   "source": [
    "def softmax(x):\n",
    "    exp = np.exp(x)\n",
    "    return  exp / exp.sum()\n",
    "\n",
    "softmax(eg_y_)"
   ]
  },
  {
   "cell_type": "markdown",
   "metadata": {},
   "source": [
    "### Incluyendo la funcion de activacion\n",
    "\n",
    "$ \\hat{y} = f(x) =  softmax(Wx + b) $"
   ]
  },
  {
   "cell_type": "code",
   "execution_count": 22,
   "metadata": {},
   "outputs": [
    {
     "name": "stdout",
     "output_type": "stream",
     "text": [
      "data: [1. 0. 0.]\n",
      "model: [9.92795754e-01 2.41840940e-04 6.96240498e-03]\n"
     ]
    }
   ],
   "source": [
    "def f(x): return softmax((eg_w@x).ravel() + eg_b)\n",
    "\n",
    "eg_y_ = f(eg_x)\n",
    "print(f'data: {eg_y}')\n",
    "print(f'model: {eg_y_}')"
   ]
  },
  {
   "cell_type": "markdown",
   "metadata": {},
   "source": [
    "## Loss function: Cross entropy\n",
    "\n",
    "$ L = - \\frac{1}{m} \\sum\\limits_{i=1}^m p(x_i) \\log{q(x_i)} $\n",
    "\n",
    "* p(x): real values\n",
    "* q(x): predicted values"
   ]
  },
  {
   "cell_type": "markdown",
   "metadata": {},
   "source": [
    "$ \\log{q(x_i)} = \\log{\\frac{e^{\\hat{y_i}}}{\\sum\\limits_j e^{\\hat{y_j}}}} $"
   ]
  },
  {
   "cell_type": "code",
   "execution_count": 23,
   "metadata": {},
   "outputs": [
    {
     "data": {
      "text/plain": [
       "array([-7.23032181e-03, -8.32723032e+00, -4.96723032e+00])"
      ]
     },
     "execution_count": 23,
     "metadata": {},
     "output_type": "execute_result"
    }
   ],
   "source": [
    "np.log(eg_y_)"
   ]
  },
  {
   "cell_type": "code",
   "execution_count": 24,
   "metadata": {},
   "outputs": [
    {
     "data": {
      "text/plain": [
       "0.007230320801531907"
      ]
     },
     "execution_count": 24,
     "metadata": {},
     "output_type": "execute_result"
    }
   ],
   "source": [
    "def L(y, y_): return -(y * np.log(y_ + 1e-9)).sum()\n",
    "\n",
    "eg_loss = L(eg_y, eg_y_)\n",
    "eg_loss"
   ]
  },
  {
   "cell_type": "markdown",
   "metadata": {},
   "source": [
    "## View example"
   ]
  },
  {
   "cell_type": "code",
   "execution_count": 25,
   "metadata": {},
   "outputs": [
    {
     "data": {
      "image/png": "[encoded data removed]",
      "text/plain": [
       "<Figure size 864x432 with 7 Axes>"
      ]
     },
     "metadata": {},
     "output_type": "display_data"
    }
   ],
   "source": [
    "i = np.random.choice(len(x_train))\n",
    "i = 0\n",
    "eg_x = x_train[i][:,None]\n",
    "eg_y = y_train[i]\n",
    "eg_w = np.random.normal(size=4*3).reshape((3,4)).round(2)\n",
    "eg_b = np.random.normal(size=3).round(2)\n",
    "\n",
    "utils.example(eg_x, eg_y, eg_w, eg_b)"
   ]
  },
  {
   "cell_type": "markdown",
   "metadata": {},
   "source": [
    "# Tensorflow"
   ]
  },
  {
   "cell_type": "markdown",
   "metadata": {},
   "source": [
    "Vamos a usar tensorflow para calcular automaticamente las gradientes de nuestras operaciones."
   ]
  },
  {
   "cell_type": "code",
   "execution_count": 26,
   "metadata": {},
   "outputs": [],
   "source": [
    "import tensorflow as tf\n",
    "\n",
    "# Iniciamos una session de tf, si no existe una\n",
    "if 'sess' not in locals(): sess = tf.InteractiveSession()\n",
    "\n",
    "# tf Graph Input\n",
    "X = tf.placeholder(tf.float32, shape=(None, 4))\n",
    "Y = tf.placeholder(tf.float32, shape=(None, 3))\n",
    "\n",
    "# Set model weights\n",
    "W = tf.Variable(tf.random_normal([4,3]))\n",
    "b = tf.Variable(tf.random_normal([3]))\n",
    "\n",
    "# Output\n",
    "# def f(x): return softmax((eg_w@x).ravel() + eg_b)\n",
    "y_ = tf.nn.softmax((X @ W) + b)\n",
    "\n",
    "# Loss\n",
    "# def L(y, y_): return -(y * np.log(y_ + 1e-9)).sum()\n",
    "loss = tf.reduce_mean(-tf.reduce_sum(Y * tf.log(y_ + 1e-9), axis=1))\n",
    "\n",
    "# Se inicializan las variables\n",
    "sess.run(tf.global_variables_initializer())"
   ]
  },
  {
   "cell_type": "code",
   "execution_count": 27,
   "metadata": {},
   "outputs": [
    {
     "data": {
      "text/plain": [
       "<tf.Variable 'Variable:0' shape=(4, 3) dtype=float32_ref>"
      ]
     },
     "execution_count": 27,
     "metadata": {},
     "output_type": "execute_result"
    }
   ],
   "source": [
    "W"
   ]
  },
  {
   "cell_type": "code",
   "execution_count": 28,
   "metadata": {},
   "outputs": [
    {
     "data": {
      "text/plain": [
       "array([[ 1.697156  , -1.5809501 ,  0.8636052 ],\n",
       "       [ 1.3861477 ,  1.8743316 ,  0.16874357],\n",
       "       [-1.4812206 , -0.13645007, -0.24811591],\n",
       "       [ 0.85772455, -0.15910766,  0.30982268]], dtype=float32)"
      ]
     },
     "execution_count": 28,
     "metadata": {},
     "output_type": "execute_result"
    }
   ],
   "source": [
    "W.eval()"
   ]
  },
  {
   "cell_type": "code",
   "execution_count": 29,
   "metadata": {},
   "outputs": [
    {
     "data": {
      "text/plain": [
       "<tf.Tensor 'Mean:0' shape=() dtype=float32>"
      ]
     },
     "execution_count": 29,
     "metadata": {},
     "output_type": "execute_result"
    }
   ],
   "source": [
    "loss"
   ]
  },
  {
   "cell_type": "code",
   "execution_count": 32,
   "metadata": {},
   "outputs": [],
   "source": [
    "# Si ejecutamos esta linea, tendremos un error dado que tenemos que especificar\n",
    "# los valores de X e Y, que son necesarios para calcular la perdida.\n",
    "loss.eval()"
   ]
  },
  {
   "cell_type": "code",
   "execution_count": 33,
   "metadata": {},
   "outputs": [
    {
     "data": {
      "text/plain": [
       "3.2352738"
      ]
     },
     "execution_count": 33,
     "metadata": {},
     "output_type": "execute_result"
    }
   ],
   "source": [
    "# Obtenemos la perdida con los primeros 5 ejemplos\n",
    "sess.run(loss, feed_dict={X: x_train[:5], Y:y_train[:5]})"
   ]
  },
  {
   "cell_type": "code",
   "execution_count": 34,
   "metadata": {},
   "outputs": [
    {
     "data": {
      "text/plain": [
       "[array([[ 1.3234961e+00, -1.3257896e+00,  2.2934619e-03],\n",
       "        [ 6.1218286e-01, -6.1342043e-01,  1.2376283e-03],\n",
       "        [ 8.6940521e-01, -8.7067395e-01,  1.2688085e-03],\n",
       "        [ 2.7666199e-01, -2.7703342e-01,  3.7141325e-04]], dtype=float32)]"
      ]
     },
     "execution_count": 34,
     "metadata": {},
     "output_type": "execute_result"
    }
   ],
   "source": [
    "# vemos las gradientes\n",
    "sess.run(tf.gradients(loss, W), feed_dict={X: x_train[:5], Y:y_train[:5]})"
   ]
  },
  {
   "cell_type": "markdown",
   "metadata": {},
   "source": [
    "## Optimizacion: Mini-batch gradient descent"
   ]
  },
  {
   "cell_type": "code",
   "execution_count": 35,
   "metadata": {},
   "outputs": [
    {
     "data": {
      "text/plain": [
       "4"
      ]
     },
     "execution_count": 35,
     "metadata": {},
     "output_type": "execute_result"
    }
   ],
   "source": [
    "# Params\n",
    "bs = 32 # Batch size\n",
    "epochs = 25\n",
    "lr = 0.1\n",
    "optimizer = tf.train.GradientDescentOptimizer(lr).minimize(loss)\n",
    "nb = math.ceil(len(x_train) / bs)\n",
    "nb # Numero de batches por epoch"
   ]
  },
  {
   "cell_type": "code",
   "execution_count": 36,
   "metadata": {},
   "outputs": [
    {
     "data": {
      "application/vnd.jupyter.widget-view+json": {
       "model_id": "34738ddf5ecc44838c38cf0d7fa304fc",
       "version_major": 2,
       "version_minor": 0
      },
      "text/plain": [
       "HBox(children=(IntProgress(value=0, max=25), HTML(value='')))"
      ]
     },
     "metadata": {},
     "output_type": "display_data"
    },
    {
     "name": "stdout",
     "output_type": "stream",
     "text": [
      "\n"
     ]
    },
    {
     "data": {
      "image/png": "[encoded data removed]",
      "text/plain": [
       "<Figure size 432x288 with 1 Axes>"
      ]
     },
     "metadata": {},
     "output_type": "display_data"
    }
   ],
   "source": [
    "# Train loop\n",
    "train_losses = []\n",
    "val_losses = []\n",
    "\n",
    "for epoch in tnrange(epochs):\n",
    "    # Cada epoch es un recorrido por todo el train set\n",
    "    for i in range(nb):\n",
    "        batch_x = x_train[i*bs:(i+1)*bs]\n",
    "        batch_y = y_train[i*bs:(i+1)*bs]\n",
    "        sess.run(optimizer, feed_dict={X: batch_x, Y:batch_y})\n",
    "\n",
    "    # Calculamos la perdida en el train y validation set luego de cada epoch\n",
    "    train_loss = sess.run(loss, feed_dict={X: x_train, Y:y_train})\n",
    "    train_losses.append(train_loss)\n",
    "    val_loss = sess.run(loss, feed_dict={X: x_val, Y:y_val})\n",
    "    val_losses.append(val_loss)\n",
    "\n",
    "plt.plot(train_losses, label='train')\n",
    "plt.plot(val_losses, label='validation')\n",
    "plt.legend();"
   ]
  },
  {
   "cell_type": "markdown",
   "metadata": {},
   "source": [
    "## Veamos el resultado"
   ]
  },
  {
   "cell_type": "code",
   "execution_count": 37,
   "metadata": {},
   "outputs": [
    {
     "data": {
      "text/plain": [
       "0.6234311"
      ]
     },
     "execution_count": 37,
     "metadata": {},
     "output_type": "execute_result"
    }
   ],
   "source": [
    "pred, pred_loss = sess.run([y_, loss], feed_dict={X: x_val, Y:y_val})\n",
    "pred_loss"
   ]
  },
  {
   "cell_type": "code",
   "execution_count": 38,
   "metadata": {},
   "outputs": [
    {
     "data": {
      "text/plain": [
       "(array([0., 1., 0.]),\n",
       " array([0.01305561, 0.14704861, 0.8398958 ], dtype=float32))"
      ]
     },
     "execution_count": 38,
     "metadata": {},
     "output_type": "execute_result"
    }
   ],
   "source": [
    "y_val[0], pred[0]"
   ]
  },
  {
   "cell_type": "code",
   "execution_count": 39,
   "metadata": {},
   "outputs": [
    {
     "data": {
      "text/plain": [
       "(1, 2)"
      ]
     },
     "execution_count": 39,
     "metadata": {},
     "output_type": "execute_result"
    }
   ],
   "source": [
    "# Para obtener las predicciones finales vamos a usar np.argmax,\n",
    "# que devuelve el indice con el mayor valor\n",
    "np.argmax(y_val[0]), np.argmax(pred[0])"
   ]
  },
  {
   "cell_type": "code",
   "execution_count": 40,
   "metadata": {},
   "outputs": [
    {
     "data": {
      "text/plain": [
       "(array([1, 0, 2, 1, 1, 0, 1, 2, 1, 1]), array([2, 0, 2, 2, 2, 0, 2, 2, 2, 2]))"
      ]
     },
     "execution_count": 40,
     "metadata": {},
     "output_type": "execute_result"
    }
   ],
   "source": [
    "# Obtenemos todos los labels\n",
    "real_labels = np.argmax(y_val, axis=1)\n",
    "pred_labels = np.argmax(pred, axis=1)\n",
    "real_labels[:10], pred_labels[:10]"
   ]
  },
  {
   "cell_type": "code",
   "execution_count": 41,
   "metadata": {},
   "outputs": [
    {
     "data": {
      "text/plain": [
       "0.7"
      ]
     },
     "execution_count": 41,
     "metadata": {},
     "output_type": "execute_result"
    }
   ],
   "source": [
    "# Vamos a usar una metrica de accuracy para comparar los resultados\n",
    "pred_acc = (real_labels == pred_labels).mean()\n",
    "pred_acc"
   ]
  },
  {
   "cell_type": "code",
   "execution_count": 42,
   "metadata": {},
   "outputs": [
    {
     "name": "stdout",
     "output_type": "stream",
     "text": [
      "Loss = 0.62\n",
      "Accuracy = 0.70\n"
     ]
    }
   ],
   "source": [
    "print(f'Loss = {pred_loss:.2f}\\nAccuracy = {pred_acc:.2f}')"
   ]
  },
  {
   "cell_type": "markdown",
   "metadata": {},
   "source": [
    "# Keras"
   ]
  },
  {
   "cell_type": "markdown",
   "metadata": {},
   "source": [
    "Ahora vamos a ver el codigo equivalente usando keras."
   ]
  },
  {
   "cell_type": "code",
   "execution_count": 43,
   "metadata": {},
   "outputs": [
    {
     "name": "stdout",
     "output_type": "stream",
     "text": [
      "_________________________________________________________________\n",
      "Layer (type)                 Output Shape              Param #   \n",
      "=================================================================\n",
      "dense_1 (Dense)              (None, 3)                 15        \n",
      "=================================================================\n",
      "Total params: 15\n",
      "Trainable params: 15\n",
      "Non-trainable params: 0\n",
      "_________________________________________________________________\n"
     ]
    },
    {
     "name": "stderr",
     "output_type": "stream",
     "text": [
      "Using TensorFlow backend.\n"
     ]
    }
   ],
   "source": [
    "import keras\n",
    "from keras.layers import Dense\n",
    "from keras.models import Sequential\n",
    "from keras.optimizers import SGD\n",
    "\n",
    "# Params\n",
    "bs = 32 # Batch size\n",
    "epochs = 25\n",
    "lr = 0.1\n",
    "\n",
    "# Modelo\n",
    "model = Sequential()\n",
    "model.add(Dense(3, activation='softmax', input_shape=(4,)))\n",
    "\n",
    "model.compile(optimizer=SGD(lr), loss='categorical_crossentropy', metrics=['accuracy'])\n",
    "\n",
    "model.summary()"
   ]
  },
  {
   "cell_type": "code",
   "execution_count": 44,
   "metadata": {
    "scrolled": true
   },
   "outputs": [
    {
     "name": "stdout",
     "output_type": "stream",
     "text": [
      "Train on 120 samples, validate on 30 samples\n",
      "Epoch 1/25\n",
      "120/120 [==============================] - 0s 653us/step - loss: 3.1179 - acc: 0.3583 - val_loss: 0.8858 - val_acc: 0.5000\n",
      "Epoch 2/25\n",
      "120/120 [==============================] - 0s 70us/step - loss: 0.7992 - acc: 0.6000 - val_loss: 0.9868 - val_acc: 0.6333\n",
      "Epoch 3/25\n",
      "120/120 [==============================] - 0s 62us/step - loss: 0.8784 - acc: 0.6250 - val_loss: 1.3607 - val_acc: 0.6333\n",
      "Epoch 4/25\n",
      "120/120 [==============================] - 0s 98us/step - loss: 1.2071 - acc: 0.6250 - val_loss: 0.9084 - val_acc: 0.6333\n",
      "Epoch 5/25\n",
      "120/120 [==============================] - 0s 85us/step - loss: 0.7162 - acc: 0.7083 - val_loss: 0.7615 - val_acc: 0.6333\n",
      "Epoch 6/25\n",
      "120/120 [==============================] - 0s 74us/step - loss: 0.6176 - acc: 0.6583 - val_loss: 0.8301 - val_acc: 0.6333\n",
      "Epoch 7/25\n",
      "120/120 [==============================] - 0s 97us/step - loss: 0.5697 - acc: 0.7083 - val_loss: 0.5339 - val_acc: 0.7333\n",
      "Epoch 8/25\n",
      "120/120 [==============================] - 0s 73us/step - loss: 0.5968 - acc: 0.6917 - val_loss: 0.5617 - val_acc: 0.6333\n",
      "Epoch 9/25\n",
      "120/120 [==============================] - 0s 104us/step - loss: 0.8284 - acc: 0.6250 - val_loss: 1.4501 - val_acc: 0.6333\n",
      "Epoch 10/25\n",
      "120/120 [==============================] - 0s 75us/step - loss: 0.6552 - acc: 0.7583 - val_loss: 0.5699 - val_acc: 0.6333\n",
      "Epoch 11/25\n",
      "120/120 [==============================] - 0s 116us/step - loss: 0.5157 - acc: 0.7250 - val_loss: 1.1425 - val_acc: 0.7000\n",
      "Epoch 12/25\n",
      "120/120 [==============================] - 0s 64us/step - loss: 0.6933 - acc: 0.7083 - val_loss: 0.4771 - val_acc: 0.7000\n",
      "Epoch 13/25\n",
      "120/120 [==============================] - 0s 46us/step - loss: 0.4786 - acc: 0.7250 - val_loss: 0.4447 - val_acc: 0.8333\n",
      "Epoch 14/25\n",
      "120/120 [==============================] - 0s 746us/step - loss: 0.5683 - acc: 0.6917 - val_loss: 0.4673 - val_acc: 0.7000\n",
      "Epoch 15/25\n",
      "120/120 [==============================] - 0s 58us/step - loss: 0.4382 - acc: 0.7917 - val_loss: 0.4356 - val_acc: 0.8333\n",
      "Epoch 16/25\n",
      "120/120 [==============================] - 0s 99us/step - loss: 0.5177 - acc: 0.7417 - val_loss: 0.5208 - val_acc: 0.7000\n",
      "Epoch 17/25\n",
      "120/120 [==============================] - 0s 62us/step - loss: 0.5730 - acc: 0.6833 - val_loss: 0.7817 - val_acc: 0.7000\n",
      "Epoch 18/25\n",
      "120/120 [==============================] - 0s 67us/step - loss: 0.6067 - acc: 0.7333 - val_loss: 0.4037 - val_acc: 0.8333\n",
      "Epoch 19/25\n",
      "120/120 [==============================] - 0s 69us/step - loss: 0.5683 - acc: 0.7250 - val_loss: 0.6372 - val_acc: 0.7000\n",
      "Epoch 20/25\n",
      "120/120 [==============================] - 0s 59us/step - loss: 0.4710 - acc: 0.8167 - val_loss: 0.3898 - val_acc: 0.8333\n",
      "Epoch 21/25\n",
      "120/120 [==============================] - 0s 84us/step - loss: 0.4108 - acc: 0.8417 - val_loss: 0.9689 - val_acc: 0.6333\n",
      "Epoch 22/25\n",
      "120/120 [==============================] - 0s 72us/step - loss: 0.4852 - acc: 0.7833 - val_loss: 0.4111 - val_acc: 0.9000\n",
      "Epoch 23/25\n",
      "120/120 [==============================] - 0s 69us/step - loss: 0.3730 - acc: 0.8833 - val_loss: 0.3841 - val_acc: 0.9000\n",
      "Epoch 24/25\n",
      "120/120 [==============================] - 0s 66us/step - loss: 0.4469 - acc: 0.7750 - val_loss: 0.3763 - val_acc: 0.9000\n",
      "Epoch 25/25\n",
      "120/120 [==============================] - 0s 75us/step - loss: 0.4662 - acc: 0.7833 - val_loss: 0.5328 - val_acc: 0.6333\n"
     ]
    }
   ],
   "source": [
    "# Entrenamiento\n",
    "log = model.fit(x_train, y_train, batch_size=bs, epochs=epochs, validation_data=[x_val, y_val])"
   ]
  },
  {
   "cell_type": "code",
   "execution_count": 45,
   "metadata": {},
   "outputs": [
    {
     "data": {
      "image/png": "[encoded data removed]",
      "text/plain": [
       "<Figure size 432x288 with 1 Axes>"
      ]
     },
     "metadata": {},
     "output_type": "display_data"
    }
   ],
   "source": [
    "plt.plot(log.history['loss'], label='train')\n",
    "plt.plot(log.history['val_loss'], label='validation')\n",
    "plt.legend();"
   ]
  },
  {
   "cell_type": "markdown",
   "metadata": {},
   "source": [
    "## Resultados"
   ]
  },
  {
   "cell_type": "code",
   "execution_count": 46,
   "metadata": {},
   "outputs": [
    {
     "name": "stdout",
     "output_type": "stream",
     "text": [
      "30/30 [==============================] - 0s 33us/step\n",
      "Loss = 0.53\n",
      "Accuracy = 0.63\n"
     ]
    }
   ],
   "source": [
    "val_loss, val_acc = model.evaluate(x_val, y_val)\n",
    "print(f'Loss = {val_loss:.2f}\\nAccuracy = {val_acc:.2f}')"
   ]
  },
  {
   "cell_type": "markdown",
   "metadata": {},
   "source": [
    "# Redes Neuronales"
   ]
  },
  {
   "cell_type": "code",
   "execution_count": 47,
   "metadata": {},
   "outputs": [],
   "source": [
    "i = np.random.choice(len(x_train))\n",
    "i = 0\n",
    "eg_x = x_train[i][:,None]\n",
    "eg_y = y_train[i]\n",
    "eg_w = np.random.normal(size=4*3).reshape((3,4))\n",
    "eg_b = np.random.normal(size=3)"
   ]
  },
  {
   "cell_type": "markdown",
   "metadata": {},
   "source": [
    "Si vemos nuevamente el ejemplo, la capacidad del modelo depende en parte de la cantidad de parametros que puede aprender:"
   ]
  },
  {
   "cell_type": "code",
   "execution_count": 48,
   "metadata": {},
   "outputs": [
    {
     "data": {
      "text/plain": [
       "((4, 1), (3, 4), (3,))"
      ]
     },
     "execution_count": 48,
     "metadata": {},
     "output_type": "execute_result"
    }
   ],
   "source": [
    "eg_x.shape, eg_w.shape, eg_b.shape"
   ]
  },
  {
   "cell_type": "markdown",
   "metadata": {},
   "source": [
    "En este caso la matriz **eg_w** tiene 12 parámetros y **eg_b** tiene 3 parámetros. Por lo que nuestro modelo tiene un **total de 15 parámetros**.\n",
    "\n",
    "**¿Cómo incrementamos el número de parámetros?**\n",
    "\n",
    "Tenemos: `w(3x4) @ x(4x1) = (3x1)` (3x4 = 12 parámetros)\n",
    "\n",
    "Agregamos una matriz intermedia: `w1(10x4) @ x(4x1) = (10x1) -->  w2(3x10) @ (10x1) = (3x1)` (10x4 + 3x10 = 70 parámetros)\n",
    "\n",
    "**Agregando una matriz intermedia incrementamos los parámetros de 12 a 70.**"
   ]
  },
  {
   "cell_type": "code",
   "execution_count": 49,
   "metadata": {},
   "outputs": [],
   "source": [
    "i = np.random.choice(len(x_train))\n",
    "i = 0\n",
    "eg_x = x_train[i][:,None]\n",
    "eg_y = y_train[i]\n",
    "eg_w1 = np.random.normal(size=10*4).reshape((10,4))\n",
    "eg_b1 = np.random.normal(size=10).reshape((10,1))\n",
    "eg_w2 = np.random.normal(size=3*10).reshape((3,10))\n",
    "eg_b2 = np.random.normal(size=3).reshape((3,1))"
   ]
  },
  {
   "cell_type": "code",
   "execution_count": 50,
   "metadata": {},
   "outputs": [
    {
     "data": {
      "text/plain": [
       "(10, 1)"
      ]
     },
     "execution_count": 50,
     "metadata": {},
     "output_type": "execute_result"
    }
   ],
   "source": [
    "temp = ((eg_w1 @ eg_x) + eg_b1)\n",
    "temp.shape"
   ]
  },
  {
   "cell_type": "code",
   "execution_count": 51,
   "metadata": {},
   "outputs": [
    {
     "data": {
      "text/plain": [
       "(3,)"
      ]
     },
     "execution_count": 51,
     "metadata": {},
     "output_type": "execute_result"
    }
   ],
   "source": [
    "y_ = ((eg_w2 @ temp) + eg_b2).ravel()\n",
    "y_.shape"
   ]
  },
  {
   "cell_type": "markdown",
   "metadata": {},
   "source": [
    "**Pero hay un problema con esta formulación:** un conjunto de operaciones lineales (multiplicaciones y sumas), se pueden reducir a una sola multiplicacion y suma:\n",
    "\n",
    "$ y_1 = 2x + 10 $\n",
    "\n",
    "$ y_2 = softmax(3y_1 - 5) = softmax(((2x + 10) * 3) - 5) = softmax(6x + 25) $\n",
    "\n",
    "<br>\n",
    "\n",
    "**Solucion: Funciones de activación**\n",
    "\n",
    "La idea de las funciones de activación es agregar funciones no lineales entre capa y capa (capa = multiplicacion+suma).\n",
    "\n",
    "$ y_1 = \\sigma(2x + 10) $\n",
    "\n",
    "$ y_2 = softmax(3y_1 - 5) $\n",
    "\n",
    "\\* *La funcion softmax se considera una funcion de activación.*"
   ]
  },
  {
   "cell_type": "markdown",
   "metadata": {},
   "source": [
    "## Tensorflow"
   ]
  },
  {
   "cell_type": "code",
   "execution_count": 52,
   "metadata": {},
   "outputs": [],
   "source": [
    "import tensorflow as tf\n",
    "\n",
    "# Iniciamos una session de tf, si no existe una\n",
    "if 'sess' not in locals(): sess = tf.InteractiveSession()\n",
    "\n",
    "# tf Graph Input\n",
    "X = tf.placeholder(tf.float32, shape=(None, 4))\n",
    "Y = tf.placeholder(tf.float32, shape=(None, 3))\n",
    "\n",
    "# Set model weights\n",
    "W1 = tf.Variable(tf.random_normal([4,10]))\n",
    "b1 = tf.Variable(tf.random_normal([10]))\n",
    "\n",
    "W2 = tf.Variable(tf.random_normal([10,3]))\n",
    "b2 = tf.Variable(tf.random_normal([3]))\n",
    "\n",
    "# Outputs\n",
    "y_ = tf.nn.relu((X @ W1) + b1)\n",
    "y_ = tf.nn.softmax((y_ @ W2) + b2)\n",
    "\n",
    "# Loss\n",
    "loss = tf.reduce_mean(-tf.reduce_sum(Y * tf.log(y_ + 1e-9), axis=1))\n",
    "\n",
    "# Se inicializan las variables\n",
    "sess.run(tf.global_variables_initializer())"
   ]
  },
  {
   "cell_type": "code",
   "execution_count": 53,
   "metadata": {},
   "outputs": [
    {
     "data": {
      "text/plain": [
       "4"
      ]
     },
     "execution_count": 53,
     "metadata": {},
     "output_type": "execute_result"
    }
   ],
   "source": [
    "# Params\n",
    "bs = 32 # Batch size\n",
    "epochs = 100\n",
    "lr = 0.01\n",
    "optimizer = tf.train.GradientDescentOptimizer(lr).minimize(loss)\n",
    "nb = math.ceil(len(x_train) / bs)\n",
    "nb # Numero de batches por epoch"
   ]
  },
  {
   "cell_type": "code",
   "execution_count": 54,
   "metadata": {},
   "outputs": [
    {
     "data": {
      "application/vnd.jupyter.widget-view+json": {
       "model_id": "bc2b33789ef94ca1ae0d2c60e45018d2",
       "version_major": 2,
       "version_minor": 0
      },
      "text/plain": [
       "HBox(children=(IntProgress(value=0), HTML(value='')))"
      ]
     },
     "metadata": {},
     "output_type": "display_data"
    },
    {
     "name": "stdout",
     "output_type": "stream",
     "text": [
      "\n"
     ]
    },
    {
     "data": {
      "image/png": "[encoded data removed]",
      "text/plain": [
       "<Figure size 432x288 with 1 Axes>"
      ]
     },
     "metadata": {},
     "output_type": "display_data"
    }
   ],
   "source": [
    "# Train loop\n",
    "train_losses = []\n",
    "val_losses = []\n",
    "\n",
    "for epoch in tnrange(epochs):\n",
    "    # Cada epoch es un recorrido por todo el train set\n",
    "    for i in range(nb):\n",
    "        batch_x = x_train[i*bs:(i+1)*bs]\n",
    "        batch_y = y_train[i*bs:(i+1)*bs]\n",
    "        sess.run(optimizer, feed_dict={X: batch_x, Y:batch_y})\n",
    "\n",
    "    # Calculamos la perdida en el train y validation set luego de cada epoch\n",
    "    train_loss = sess.run(loss, feed_dict={X: x_train, Y:y_train})\n",
    "    train_losses.append(train_loss)\n",
    "    val_loss = sess.run(loss, feed_dict={X: x_val, Y:y_val})\n",
    "    val_losses.append(val_loss)\n",
    "\n",
    "plt.plot(train_losses, label='train')\n",
    "plt.plot(val_losses, label='validation')\n",
    "plt.legend();"
   ]
  },
  {
   "cell_type": "code",
   "execution_count": 55,
   "metadata": {},
   "outputs": [
    {
     "name": "stdout",
     "output_type": "stream",
     "text": [
      "Loss = 0.18\n",
      "Accuracy = 0.97\n"
     ]
    }
   ],
   "source": [
    "pred, pred_loss = sess.run([y_, loss], feed_dict={X: x_val, Y:y_val})\n",
    "\n",
    "real_labels = np.argmax(y_val, axis=1)\n",
    "pred_labels = np.argmax(pred, axis=1)\n",
    "\n",
    "pred_acc = (real_labels == pred_labels).mean()\n",
    "\n",
    "print(f'Loss = {pred_loss:.2f}\\nAccuracy = {pred_acc:.2f}')"
   ]
  },
  {
   "cell_type": "markdown",
   "metadata": {},
   "source": [
    "## Keras"
   ]
  },
  {
   "cell_type": "code",
   "execution_count": 56,
   "metadata": {},
   "outputs": [
    {
     "name": "stdout",
     "output_type": "stream",
     "text": [
      "_________________________________________________________________\n",
      "Layer (type)                 Output Shape              Param #   \n",
      "=================================================================\n",
      "dense_2 (Dense)              (None, 10)                50        \n",
      "_________________________________________________________________\n",
      "dense_3 (Dense)              (None, 3)                 33        \n",
      "=================================================================\n",
      "Total params: 83\n",
      "Trainable params: 83\n",
      "Non-trainable params: 0\n",
      "_________________________________________________________________\n"
     ]
    }
   ],
   "source": [
    "import keras\n",
    "from keras.layers import Dense\n",
    "from keras.models import Sequential\n",
    "from keras.optimizers import SGD\n",
    "\n",
    "# Params\n",
    "bs = 32 # Batch size\n",
    "epochs = 100\n",
    "lr = 0.01\n",
    "\n",
    "# Modelo\n",
    "model = Sequential()\n",
    "model.add(Dense(10, activation='relu', input_shape=(4,)))\n",
    "model.add(Dense(3, activation='softmax'))\n",
    "\n",
    "model.compile(optimizer=SGD(lr), loss='categorical_crossentropy', metrics=['accuracy'])\n",
    "\n",
    "model.summary()"
   ]
  },
  {
   "cell_type": "code",
   "execution_count": 57,
   "metadata": {},
   "outputs": [
    {
     "name": "stdout",
     "output_type": "stream",
     "text": [
      "Train on 120 samples, validate on 30 samples\n",
      "Epoch 1/100\n",
      "120/120 [==============================] - 0s 838us/step - loss: 1.4524 - acc: 0.5083 - val_loss: 0.8505 - val_acc: 0.7000\n",
      "Epoch 2/100\n",
      "120/120 [==============================] - 0s 63us/step - loss: 0.8653 - acc: 0.6583 - val_loss: 0.7876 - val_acc: 0.7333\n",
      "Epoch 3/100\n",
      "120/120 [==============================] - 0s 70us/step - loss: 0.7973 - acc: 0.6833 - val_loss: 0.7650 - val_acc: 0.8000\n",
      "Epoch 4/100\n",
      "120/120 [==============================] - 0s 67us/step - loss: 0.7592 - acc: 0.8000 - val_loss: 0.7313 - val_acc: 0.7000\n",
      "Epoch 5/100\n",
      "120/120 [==============================] - 0s 68us/step - loss: 0.7401 - acc: 0.7000 - val_loss: 0.7149 - val_acc: 0.7000\n",
      "Epoch 6/100\n",
      "120/120 [==============================] - 0s 73us/step - loss: 0.7211 - acc: 0.7083 - val_loss: 0.6990 - val_acc: 0.8000\n",
      "Epoch 7/100\n",
      "120/120 [==============================] - 0s 92us/step - loss: 0.7001 - acc: 0.7917 - val_loss: 0.6807 - val_acc: 0.7000\n",
      "Epoch 8/100\n",
      "120/120 [==============================] - 0s 60us/step - loss: 0.6917 - acc: 0.7333 - val_loss: 0.6615 - val_acc: 0.7333\n",
      "Epoch 9/100\n",
      "120/120 [==============================] - 0s 101us/step - loss: 0.6676 - acc: 0.7083 - val_loss: 0.6509 - val_acc: 0.8000\n",
      "Epoch 10/100\n",
      "120/120 [==============================] - 0s 53us/step - loss: 0.6506 - acc: 0.7500 - val_loss: 0.6398 - val_acc: 0.8000\n",
      "Epoch 11/100\n",
      "120/120 [==============================] - 0s 66us/step - loss: 0.6419 - acc: 0.8333 - val_loss: 0.6261 - val_acc: 0.7333\n",
      "Epoch 12/100\n",
      "120/120 [==============================] - 0s 72us/step - loss: 0.6263 - acc: 0.7000 - val_loss: 0.6241 - val_acc: 0.8333\n",
      "Epoch 13/100\n",
      "120/120 [==============================] - 0s 127us/step - loss: 0.6153 - acc: 0.8500 - val_loss: 0.6032 - val_acc: 0.8000\n",
      "Epoch 14/100\n",
      "120/120 [==============================] - 0s 67us/step - loss: 0.6092 - acc: 0.8083 - val_loss: 0.5928 - val_acc: 0.8000\n",
      "Epoch 15/100\n",
      "120/120 [==============================] - 0s 115us/step - loss: 0.5962 - acc: 0.8000 - val_loss: 0.5897 - val_acc: 0.8667\n",
      "Epoch 16/100\n",
      "120/120 [==============================] - 0s 82us/step - loss: 0.5875 - acc: 0.7667 - val_loss: 0.5987 - val_acc: 0.8000\n",
      "Epoch 17/100\n",
      "120/120 [==============================] - 0s 97us/step - loss: 0.5852 - acc: 0.8167 - val_loss: 0.5675 - val_acc: 0.8000\n",
      "Epoch 18/100\n",
      "120/120 [==============================] - 0s 75us/step - loss: 0.5667 - acc: 0.8417 - val_loss: 0.5627 - val_acc: 0.8667\n",
      "Epoch 19/100\n",
      "120/120 [==============================] - 0s 80us/step - loss: 0.5646 - acc: 0.8750 - val_loss: 0.5514 - val_acc: 0.7333\n",
      "Epoch 20/100\n",
      "120/120 [==============================] - 0s 70us/step - loss: 0.5639 - acc: 0.7833 - val_loss: 0.5507 - val_acc: 0.8333\n",
      "Epoch 21/100\n",
      "120/120 [==============================] - 0s 115us/step - loss: 0.5516 - acc: 0.8250 - val_loss: 0.5464 - val_acc: 0.8667\n",
      "Epoch 22/100\n",
      "120/120 [==============================] - 0s 90us/step - loss: 0.5441 - acc: 0.8417 - val_loss: 0.5494 - val_acc: 0.8000\n",
      "Epoch 23/100\n",
      "120/120 [==============================] - 0s 51us/step - loss: 0.5457 - acc: 0.7750 - val_loss: 0.5277 - val_acc: 0.9000\n",
      "Epoch 24/100\n",
      "120/120 [==============================] - 0s 64us/step - loss: 0.5330 - acc: 0.8917 - val_loss: 0.5171 - val_acc: 0.7333\n",
      "Epoch 25/100\n",
      "120/120 [==============================] - 0s 55us/step - loss: 0.5203 - acc: 0.7500 - val_loss: 0.5316 - val_acc: 0.8000\n",
      "Epoch 26/100\n",
      "120/120 [==============================] - 0s 50us/step - loss: 0.5177 - acc: 0.9167 - val_loss: 0.5045 - val_acc: 0.8000\n",
      "Epoch 27/100\n",
      "120/120 [==============================] - 0s 60us/step - loss: 0.5196 - acc: 0.8250 - val_loss: 0.5000 - val_acc: 0.7333\n",
      "Epoch 28/100\n",
      "120/120 [==============================] - 0s 56us/step - loss: 0.5024 - acc: 0.8167 - val_loss: 0.4987 - val_acc: 0.8667\n",
      "Epoch 29/100\n",
      "120/120 [==============================] - 0s 55us/step - loss: 0.4983 - acc: 0.8667 - val_loss: 0.4993 - val_acc: 0.8667\n",
      "Epoch 30/100\n",
      "120/120 [==============================] - 0s 60us/step - loss: 0.4922 - acc: 0.9083 - val_loss: 0.4894 - val_acc: 0.9000\n",
      "Epoch 31/100\n",
      "120/120 [==============================] - 0s 54us/step - loss: 0.4874 - acc: 0.9333 - val_loss: 0.4799 - val_acc: 0.8000\n",
      "Epoch 32/100\n",
      "120/120 [==============================] - 0s 47us/step - loss: 0.5100 - acc: 0.7500 - val_loss: 0.4747 - val_acc: 0.8000\n",
      "Epoch 33/100\n",
      "120/120 [==============================] - 0s 90us/step - loss: 0.4849 - acc: 0.8333 - val_loss: 0.4888 - val_acc: 0.8333\n",
      "Epoch 34/100\n",
      "120/120 [==============================] - 0s 64us/step - loss: 0.4765 - acc: 0.9167 - val_loss: 0.4692 - val_acc: 0.8667\n",
      "Epoch 35/100\n",
      "120/120 [==============================] - 0s 62us/step - loss: 0.4759 - acc: 0.8500 - val_loss: 0.4642 - val_acc: 0.8667\n",
      "Epoch 36/100\n",
      "120/120 [==============================] - 0s 101us/step - loss: 0.4660 - acc: 0.9000 - val_loss: 0.4594 - val_acc: 0.8667\n",
      "Epoch 37/100\n",
      "120/120 [==============================] - 0s 71us/step - loss: 0.4593 - acc: 0.8750 - val_loss: 0.4662 - val_acc: 0.8333\n",
      "Epoch 38/100\n",
      "120/120 [==============================] - 0s 57us/step - loss: 0.4588 - acc: 0.9500 - val_loss: 0.4523 - val_acc: 0.8333\n",
      "Epoch 39/100\n",
      "120/120 [==============================] - 0s 56us/step - loss: 0.4624 - acc: 0.8667 - val_loss: 0.4494 - val_acc: 0.8667\n",
      "Epoch 40/100\n",
      "120/120 [==============================] - 0s 102us/step - loss: 0.4552 - acc: 0.8833 - val_loss: 0.4474 - val_acc: 0.9000\n",
      "Epoch 41/100\n",
      "120/120 [==============================] - 0s 55us/step - loss: 0.4478 - acc: 0.8917 - val_loss: 0.4446 - val_acc: 0.9000\n",
      "Epoch 42/100\n",
      "120/120 [==============================] - 0s 50us/step - loss: 0.4425 - acc: 0.9167 - val_loss: 0.4488 - val_acc: 0.7333\n",
      "Epoch 43/100\n",
      "120/120 [==============================] - 0s 54us/step - loss: 0.4523 - acc: 0.8083 - val_loss: 0.4442 - val_acc: 0.8667\n",
      "Epoch 44/100\n",
      "120/120 [==============================] - 0s 95us/step - loss: 0.4372 - acc: 0.9167 - val_loss: 0.4333 - val_acc: 0.8667\n",
      "Epoch 45/100\n",
      "120/120 [==============================] - 0s 73us/step - loss: 0.4341 - acc: 0.8917 - val_loss: 0.4433 - val_acc: 0.8333\n",
      "Epoch 46/100\n",
      "120/120 [==============================] - 0s 59us/step - loss: 0.4285 - acc: 0.9583 - val_loss: 0.4280 - val_acc: 0.9000\n",
      "Epoch 47/100\n",
      "120/120 [==============================] - 0s 135us/step - loss: 0.4264 - acc: 0.9167 - val_loss: 0.4260 - val_acc: 0.9000\n",
      "Epoch 48/100\n",
      "120/120 [==============================] - 0s 81us/step - loss: 0.4287 - acc: 0.9167 - val_loss: 0.4233 - val_acc: 0.8000\n",
      "Epoch 49/100\n",
      "120/120 [==============================] - 0s 85us/step - loss: 0.4222 - acc: 0.8833 - val_loss: 0.4189 - val_acc: 0.8667\n",
      "Epoch 50/100\n",
      "120/120 [==============================] - 0s 88us/step - loss: 0.4183 - acc: 0.8833 - val_loss: 0.4391 - val_acc: 0.8000\n",
      "Epoch 51/100\n",
      "120/120 [==============================] - 0s 59us/step - loss: 0.4192 - acc: 0.9333 - val_loss: 0.4188 - val_acc: 0.9333\n",
      "Epoch 52/100\n",
      "120/120 [==============================] - 0s 87us/step - loss: 0.4252 - acc: 0.9083 - val_loss: 0.4126 - val_acc: 0.9000\n",
      "Epoch 53/100\n",
      "120/120 [==============================] - 0s 73us/step - loss: 0.4080 - acc: 0.9583 - val_loss: 0.4084 - val_acc: 0.8667\n",
      "Epoch 54/100\n",
      "120/120 [==============================] - 0s 63us/step - loss: 0.4058 - acc: 0.9000 - val_loss: 0.4276 - val_acc: 0.8000\n",
      "Epoch 55/100\n",
      "120/120 [==============================] - 0s 70us/step - loss: 0.4210 - acc: 0.8917 - val_loss: 0.4048 - val_acc: 0.9000\n",
      "Epoch 56/100\n",
      "120/120 [==============================] - 0s 88us/step - loss: 0.4038 - acc: 0.9167 - val_loss: 0.4134 - val_acc: 0.8333\n",
      "Epoch 57/100\n",
      "120/120 [==============================] - 0s 107us/step - loss: 0.3996 - acc: 0.9333 - val_loss: 0.3990 - val_acc: 0.8667\n",
      "Epoch 58/100\n",
      "120/120 [==============================] - 0s 98us/step - loss: 0.4001 - acc: 0.9000 - val_loss: 0.4019 - val_acc: 0.9333\n",
      "Epoch 59/100\n",
      "120/120 [==============================] - 0s 96us/step - loss: 0.3973 - acc: 0.9417 - val_loss: 0.3959 - val_acc: 0.9667\n",
      "Epoch 60/100\n",
      "120/120 [==============================] - 0s 64us/step - loss: 0.3954 - acc: 0.9500 - val_loss: 0.3951 - val_acc: 0.8333\n",
      "Epoch 61/100\n",
      "120/120 [==============================] - 0s 76us/step - loss: 0.3920 - acc: 0.9083 - val_loss: 0.3907 - val_acc: 0.9000\n",
      "Epoch 62/100\n",
      "120/120 [==============================] - 0s 60us/step - loss: 0.3895 - acc: 0.9500 - val_loss: 0.3999 - val_acc: 0.8333\n",
      "Epoch 63/100\n",
      "120/120 [==============================] - 0s 56us/step - loss: 0.3855 - acc: 0.9583 - val_loss: 0.3911 - val_acc: 0.9333\n",
      "Epoch 64/100\n",
      "120/120 [==============================] - 0s 81us/step - loss: 0.3887 - acc: 0.9500 - val_loss: 0.3959 - val_acc: 0.7667\n",
      "Epoch 65/100\n",
      "120/120 [==============================] - 0s 60us/step - loss: 0.3880 - acc: 0.8750 - val_loss: 0.3860 - val_acc: 0.9333\n",
      "Epoch 66/100\n",
      "120/120 [==============================] - 0s 62us/step - loss: 0.3782 - acc: 0.9667 - val_loss: 0.3875 - val_acc: 0.8000\n",
      "Epoch 67/100\n",
      "120/120 [==============================] - 0s 82us/step - loss: 0.3820 - acc: 0.8750 - val_loss: 0.3804 - val_acc: 0.9667\n",
      "Epoch 68/100\n",
      "120/120 [==============================] - 0s 95us/step - loss: 0.3727 - acc: 0.9583 - val_loss: 0.3779 - val_acc: 0.9667\n",
      "Epoch 69/100\n",
      "120/120 [==============================] - 0s 105us/step - loss: 0.3861 - acc: 0.8833 - val_loss: 0.3759 - val_acc: 0.8333\n",
      "Epoch 70/100\n",
      "120/120 [==============================] - 0s 62us/step - loss: 0.3821 - acc: 0.9250 - val_loss: 0.3727 - val_acc: 0.9000\n",
      "Epoch 71/100\n",
      "120/120 [==============================] - 0s 82us/step - loss: 0.3670 - acc: 0.9417 - val_loss: 0.3806 - val_acc: 0.8333\n",
      "Epoch 72/100\n",
      "120/120 [==============================] - 0s 86us/step - loss: 0.3697 - acc: 0.9167 - val_loss: 0.3923 - val_acc: 0.8000\n",
      "Epoch 73/100\n",
      "120/120 [==============================] - 0s 56us/step - loss: 0.3647 - acc: 0.9250 - val_loss: 0.3679 - val_acc: 0.8667\n",
      "Epoch 74/100\n",
      "120/120 [==============================] - 0s 58us/step - loss: 0.3712 - acc: 0.9083 - val_loss: 0.3669 - val_acc: 0.9667\n",
      "Epoch 75/100\n",
      "120/120 [==============================] - 0s 77us/step - loss: 0.3614 - acc: 0.9500 - val_loss: 0.3646 - val_acc: 0.8667\n",
      "Epoch 76/100\n",
      "120/120 [==============================] - 0s 98us/step - loss: 0.3775 - acc: 0.8917 - val_loss: 0.3625 - val_acc: 0.8667\n",
      "Epoch 77/100\n",
      "120/120 [==============================] - 0s 69us/step - loss: 0.3629 - acc: 0.9417 - val_loss: 0.3605 - val_acc: 0.8667\n",
      "Epoch 78/100\n",
      "120/120 [==============================] - 0s 99us/step - loss: 0.3570 - acc: 0.9583 - val_loss: 0.3599 - val_acc: 0.8667\n",
      "Epoch 79/100\n",
      "120/120 [==============================] - 0s 100us/step - loss: 0.3539 - acc: 0.9667 - val_loss: 0.3571 - val_acc: 0.9000\n",
      "Epoch 80/100\n",
      "120/120 [==============================] - 0s 89us/step - loss: 0.3555 - acc: 0.9333 - val_loss: 0.3614 - val_acc: 0.8333\n",
      "Epoch 81/100\n",
      "120/120 [==============================] - 0s 100us/step - loss: 0.3637 - acc: 0.9000 - val_loss: 0.3584 - val_acc: 0.8333\n",
      "Epoch 82/100\n",
      "120/120 [==============================] - 0s 79us/step - loss: 0.3529 - acc: 0.9333 - val_loss: 0.3532 - val_acc: 0.9667\n",
      "Epoch 83/100\n",
      "120/120 [==============================] - 0s 69us/step - loss: 0.3473 - acc: 0.9667 - val_loss: 0.3521 - val_acc: 0.8667\n",
      "Epoch 84/100\n",
      "120/120 [==============================] - 0s 63us/step - loss: 0.3446 - acc: 0.9500 - val_loss: 0.3491 - val_acc: 0.9667\n",
      "Epoch 85/100\n",
      "120/120 [==============================] - 0s 66us/step - loss: 0.3460 - acc: 0.9500 - val_loss: 0.3483 - val_acc: 0.8667\n",
      "Epoch 86/100\n",
      "120/120 [==============================] - 0s 57us/step - loss: 0.3418 - acc: 0.9333 - val_loss: 0.3518 - val_acc: 0.8667\n",
      "Epoch 87/100\n",
      "120/120 [==============================] - 0s 71us/step - loss: 0.3364 - acc: 0.9667 - val_loss: 0.3447 - val_acc: 0.9333\n",
      "Epoch 88/100\n",
      "120/120 [==============================] - 0s 64us/step - loss: 0.3365 - acc: 0.9750 - val_loss: 0.3433 - val_acc: 0.9667\n",
      "Epoch 89/100\n",
      "120/120 [==============================] - 0s 59us/step - loss: 0.3388 - acc: 0.9667 - val_loss: 0.3415 - val_acc: 0.9667\n",
      "Epoch 90/100\n",
      "120/120 [==============================] - 0s 55us/step - loss: 0.3388 - acc: 0.9250 - val_loss: 0.3465 - val_acc: 0.8667\n",
      "Epoch 91/100\n",
      "120/120 [==============================] - 0s 63us/step - loss: 0.3335 - acc: 0.9667 - val_loss: 0.3410 - val_acc: 0.9333\n",
      "Epoch 92/100\n",
      "120/120 [==============================] - 0s 71us/step - loss: 0.3332 - acc: 0.9583 - val_loss: 0.3390 - val_acc: 0.9667\n",
      "Epoch 93/100\n",
      "120/120 [==============================] - 0s 144us/step - loss: 0.3276 - acc: 0.9667 - val_loss: 0.3450 - val_acc: 0.8333\n",
      "Epoch 94/100\n",
      "120/120 [==============================] - 0s 114us/step - loss: 0.3268 - acc: 0.9667 - val_loss: 0.3380 - val_acc: 0.9333\n",
      "Epoch 95/100\n",
      "120/120 [==============================] - 0s 68us/step - loss: 0.3264 - acc: 0.9417 - val_loss: 0.3439 - val_acc: 0.8333\n",
      "Epoch 96/100\n",
      "120/120 [==============================] - 0s 82us/step - loss: 0.3262 - acc: 0.9417 - val_loss: 0.3353 - val_acc: 0.9333\n",
      "Epoch 97/100\n",
      "120/120 [==============================] - 0s 99us/step - loss: 0.3198 - acc: 0.9750 - val_loss: 0.3309 - val_acc: 0.9000\n",
      "Epoch 98/100\n",
      "120/120 [==============================] - 0s 78us/step - loss: 0.3326 - acc: 0.9083 - val_loss: 0.3338 - val_acc: 0.9000\n",
      "Epoch 99/100\n",
      "120/120 [==============================] - 0s 59us/step - loss: 0.3183 - acc: 0.9583 - val_loss: 0.3298 - val_acc: 0.9333\n",
      "Epoch 100/100\n",
      "120/120 [==============================] - 0s 86us/step - loss: 0.3164 - acc: 0.9833 - val_loss: 0.3296 - val_acc: 0.9333\n"
     ]
    }
   ],
   "source": [
    "# Entrenamiento\n",
    "log = model.fit(x_train, y_train, batch_size=bs, epochs=epochs, validation_data=[x_val, y_val])"
   ]
  },
  {
   "cell_type": "code",
   "execution_count": 58,
   "metadata": {},
   "outputs": [
    {
     "data": {
      "image/png": "[encoded data removed]",
      "text/plain": [
       "<Figure size 432x288 with 1 Axes>"
      ]
     },
     "metadata": {},
     "output_type": "display_data"
    }
   ],
   "source": [
    "plt.plot(log.history['loss'], label='train')\n",
    "plt.plot(log.history['val_loss'], label='validation')\n",
    "plt.legend();"
   ]
  },
  {
   "cell_type": "code",
   "execution_count": 59,
   "metadata": {},
   "outputs": [
    {
     "name": "stdout",
     "output_type": "stream",
     "text": [
      "30/30 [==============================] - 0s 102us/step\n",
      "Loss = 0.33\n",
      "Accuracy = 0.93\n"
     ]
    }
   ],
   "source": [
    "val_loss, val_acc = model.evaluate(x_val, y_val)\n",
    "print(f'Loss = {val_loss:.2f}\\nAccuracy = {val_acc:.2f}')"
   ]
  },
  {
   "cell_type": "markdown",
   "metadata": {},
   "source": [
    "# Ejercicio"
   ]
  },
  {
   "cell_type": "markdown",
   "metadata": {},
   "source": [
    "**Faulty Steel Plates**\n",
    "\n",
    "Steel plate faults classified into seven types\n",
    "\n",
    "This dataset comes from research by Semeion, Research Center of Sciences of Communication. The original aim of the research was to correctly classify the type of surface defects in stainless steel plates, with six types of possible defects (plus \"other\"). The Input vector was made up of 27 indicators that approximately describe the geometric shape of the defect and its outline. According to the research paper, Semeion was commissioned by the Centro Sviluppo Materiali (Italy) for this task and therefore it is not possible to provide details on the nature of the 27 indicators used as Input vectors or the types of the 6 classes of defects. "
   ]
  },
  {
   "cell_type": "code",
   "execution_count": 60,
   "metadata": {},
   "outputs": [
    {
     "name": "stdout",
     "output_type": "stream",
     "text": [
      "(1941, 34)\n"
     ]
    },
    {
     "data": {
      "text/html": [
       "<div>\n",
       "<style scoped>\n",
       "    .dataframe tbody tr th:only-of-type {\n",
       "        vertical-align: middle;\n",
       "    }\n",
       "\n",
       "    .dataframe tbody tr th {\n",
       "        vertical-align: top;\n",
       "    }\n",
       "\n",
       "    .dataframe thead th {\n",
       "        text-align: right;\n",
       "    }\n",
       "</style>\n",
       "<table border=\"1\" class=\"dataframe\">\n",
       "  <thead>\n",
       "    <tr style=\"text-align: right;\">\n",
       "      <th></th>\n",
       "      <th>X_Minimum</th>\n",
       "      <th>X_Maximum</th>\n",
       "      <th>Y_Minimum</th>\n",
       "      <th>Y_Maximum</th>\n",
       "      <th>Pixels_Areas</th>\n",
       "      <th>X_Perimeter</th>\n",
       "      <th>Y_Perimeter</th>\n",
       "      <th>Sum_of_Luminosity</th>\n",
       "      <th>Minimum_of_Luminosity</th>\n",
       "      <th>Maximum_of_Luminosity</th>\n",
       "      <th>...</th>\n",
       "      <th>Orientation_Index</th>\n",
       "      <th>Luminosity_Index</th>\n",
       "      <th>SigmoidOfAreas</th>\n",
       "      <th>Pastry</th>\n",
       "      <th>Z_Scratch</th>\n",
       "      <th>K_Scatch</th>\n",
       "      <th>Stains</th>\n",
       "      <th>Dirtiness</th>\n",
       "      <th>Bumps</th>\n",
       "      <th>Other_Faults</th>\n",
       "    </tr>\n",
       "  </thead>\n",
       "  <tbody>\n",
       "    <tr>\n",
       "      <th>0</th>\n",
       "      <td>42</td>\n",
       "      <td>50</td>\n",
       "      <td>270900</td>\n",
       "      <td>270944</td>\n",
       "      <td>267</td>\n",
       "      <td>17</td>\n",
       "      <td>44</td>\n",
       "      <td>24220</td>\n",
       "      <td>76</td>\n",
       "      <td>108</td>\n",
       "      <td>...</td>\n",
       "      <td>0.8182</td>\n",
       "      <td>-0.2913</td>\n",
       "      <td>0.5822</td>\n",
       "      <td>1</td>\n",
       "      <td>0</td>\n",
       "      <td>0</td>\n",
       "      <td>0</td>\n",
       "      <td>0</td>\n",
       "      <td>0</td>\n",
       "      <td>0</td>\n",
       "    </tr>\n",
       "    <tr>\n",
       "      <th>1</th>\n",
       "      <td>645</td>\n",
       "      <td>651</td>\n",
       "      <td>2538079</td>\n",
       "      <td>2538108</td>\n",
       "      <td>108</td>\n",
       "      <td>10</td>\n",
       "      <td>30</td>\n",
       "      <td>11397</td>\n",
       "      <td>84</td>\n",
       "      <td>123</td>\n",
       "      <td>...</td>\n",
       "      <td>0.7931</td>\n",
       "      <td>-0.1756</td>\n",
       "      <td>0.2984</td>\n",
       "      <td>1</td>\n",
       "      <td>0</td>\n",
       "      <td>0</td>\n",
       "      <td>0</td>\n",
       "      <td>0</td>\n",
       "      <td>0</td>\n",
       "      <td>0</td>\n",
       "    </tr>\n",
       "    <tr>\n",
       "      <th>2</th>\n",
       "      <td>829</td>\n",
       "      <td>835</td>\n",
       "      <td>1553913</td>\n",
       "      <td>1553931</td>\n",
       "      <td>71</td>\n",
       "      <td>8</td>\n",
       "      <td>19</td>\n",
       "      <td>7972</td>\n",
       "      <td>99</td>\n",
       "      <td>125</td>\n",
       "      <td>...</td>\n",
       "      <td>0.6667</td>\n",
       "      <td>-0.1228</td>\n",
       "      <td>0.2150</td>\n",
       "      <td>1</td>\n",
       "      <td>0</td>\n",
       "      <td>0</td>\n",
       "      <td>0</td>\n",
       "      <td>0</td>\n",
       "      <td>0</td>\n",
       "      <td>0</td>\n",
       "    </tr>\n",
       "    <tr>\n",
       "      <th>3</th>\n",
       "      <td>853</td>\n",
       "      <td>860</td>\n",
       "      <td>369370</td>\n",
       "      <td>369415</td>\n",
       "      <td>176</td>\n",
       "      <td>13</td>\n",
       "      <td>45</td>\n",
       "      <td>18996</td>\n",
       "      <td>99</td>\n",
       "      <td>126</td>\n",
       "      <td>...</td>\n",
       "      <td>0.8444</td>\n",
       "      <td>-0.1568</td>\n",
       "      <td>0.5212</td>\n",
       "      <td>1</td>\n",
       "      <td>0</td>\n",
       "      <td>0</td>\n",
       "      <td>0</td>\n",
       "      <td>0</td>\n",
       "      <td>0</td>\n",
       "      <td>0</td>\n",
       "    </tr>\n",
       "    <tr>\n",
       "      <th>4</th>\n",
       "      <td>1289</td>\n",
       "      <td>1306</td>\n",
       "      <td>498078</td>\n",
       "      <td>498335</td>\n",
       "      <td>2409</td>\n",
       "      <td>60</td>\n",
       "      <td>260</td>\n",
       "      <td>246930</td>\n",
       "      <td>37</td>\n",
       "      <td>126</td>\n",
       "      <td>...</td>\n",
       "      <td>0.9338</td>\n",
       "      <td>-0.1992</td>\n",
       "      <td>1.0000</td>\n",
       "      <td>1</td>\n",
       "      <td>0</td>\n",
       "      <td>0</td>\n",
       "      <td>0</td>\n",
       "      <td>0</td>\n",
       "      <td>0</td>\n",
       "      <td>0</td>\n",
       "    </tr>\n",
       "  </tbody>\n",
       "</table>\n",
       "<p>5 rows × 34 columns</p>\n",
       "</div>"
      ],
      "text/plain": [
       "   X_Minimum  X_Maximum  Y_Minimum  Y_Maximum  Pixels_Areas  X_Perimeter  \\\n",
       "0         42         50     270900     270944           267           17   \n",
       "1        645        651    2538079    2538108           108           10   \n",
       "2        829        835    1553913    1553931            71            8   \n",
       "3        853        860     369370     369415           176           13   \n",
       "4       1289       1306     498078     498335          2409           60   \n",
       "\n",
       "   Y_Perimeter  Sum_of_Luminosity  Minimum_of_Luminosity  \\\n",
       "0           44              24220                     76   \n",
       "1           30              11397                     84   \n",
       "2           19               7972                     99   \n",
       "3           45              18996                     99   \n",
       "4          260             246930                     37   \n",
       "\n",
       "   Maximum_of_Luminosity      ...       Orientation_Index  Luminosity_Index  \\\n",
       "0                    108      ...                  0.8182           -0.2913   \n",
       "1                    123      ...                  0.7931           -0.1756   \n",
       "2                    125      ...                  0.6667           -0.1228   \n",
       "3                    126      ...                  0.8444           -0.1568   \n",
       "4                    126      ...                  0.9338           -0.1992   \n",
       "\n",
       "   SigmoidOfAreas  Pastry  Z_Scratch  K_Scatch  Stains  Dirtiness  Bumps  \\\n",
       "0          0.5822       1          0         0       0          0      0   \n",
       "1          0.2984       1          0         0       0          0      0   \n",
       "2          0.2150       1          0         0       0          0      0   \n",
       "3          0.5212       1          0         0       0          0      0   \n",
       "4          1.0000       1          0         0       0          0      0   \n",
       "\n",
       "   Other_Faults  \n",
       "0             0  \n",
       "1             0  \n",
       "2             0  \n",
       "3             0  \n",
       "4             0  \n",
       "\n",
       "[5 rows x 34 columns]"
      ]
     },
     "execution_count": 60,
     "metadata": {},
     "output_type": "execute_result"
    }
   ],
   "source": [
    "data = pd.read_csv('data/faults.csv')\n",
    "print(data.shape)\n",
    "data.head()"
   ]
  },
  {
   "cell_type": "code",
   "execution_count": 61,
   "metadata": {},
   "outputs": [
    {
     "data": {
      "text/plain": [
       "(Index(['X_Minimum', 'X_Maximum', 'Y_Minimum', 'Y_Maximum', 'Pixels_Areas',\n",
       "        'X_Perimeter', 'Y_Perimeter', 'Sum_of_Luminosity',\n",
       "        'Minimum_of_Luminosity', 'Maximum_of_Luminosity', 'Length_of_Conveyer',\n",
       "        'TypeOfSteel_A300', 'TypeOfSteel_A400', 'Steel_Plate_Thickness',\n",
       "        'Edges_Index', 'Empty_Index', 'Square_Index', 'Outside_X_Index',\n",
       "        'Edges_X_Index', 'Edges_Y_Index', 'Outside_Global_Index', 'LogOfAreas',\n",
       "        'Log_X_Index', 'Log_Y_Index', 'Orientation_Index', 'Luminosity_Index',\n",
       "        'SigmoidOfAreas'],\n",
       "       dtype='object'),\n",
       " Index(['Pastry', 'Z_Scratch', 'K_Scatch', 'Stains', 'Dirtiness', 'Bumps',\n",
       "        'Other_Faults'],\n",
       "       dtype='object'))"
      ]
     },
     "execution_count": 61,
     "metadata": {},
     "output_type": "execute_result"
    }
   ],
   "source": [
    "x = data.iloc[:, :-7]\n",
    "y = data.iloc[:, -7:]\n",
    "\n",
    "x.columns, y.columns"
   ]
  },
  {
   "cell_type": "code",
   "execution_count": 62,
   "metadata": {},
   "outputs": [
    {
     "data": {
      "text/plain": [
       "{0: 'Pastry',\n",
       " 1: 'Z_Scratch',\n",
       " 2: 'K_Scatch',\n",
       " 3: 'Stains',\n",
       " 4: 'Dirtiness',\n",
       " 5: 'Bumps',\n",
       " 6: 'Other_Faults'}"
      ]
     },
     "execution_count": 62,
     "metadata": {},
     "output_type": "execute_result"
    }
   ],
   "source": [
    "# Armamos un diccionario para el target\n",
    "idx2class = {i:e for i,e in enumerate(y.columns)}\n",
    "idx2class"
   ]
  },
  {
   "cell_type": "code",
   "execution_count": 63,
   "metadata": {},
   "outputs": [
    {
     "data": {
      "text/plain": [
       "((1358, 27), (583, 27), (1358, 7), (583, 7))"
      ]
     },
     "execution_count": 63,
     "metadata": {},
     "output_type": "execute_result"
    }
   ],
   "source": [
    "# Train validation split\n",
    "x_train, x_val, y_train, y_val = train_test_split(x, y.values, test_size=0.3, random_state=42)\n",
    "x_train.shape, x_val.shape, y_train.shape, y_val.shape"
   ]
  },
  {
   "cell_type": "code",
   "execution_count": 64,
   "metadata": {},
   "outputs": [],
   "source": [
    "# preprocess\n",
    "from sklearn.preprocessing import StandardScaler\n",
    "\n",
    "scaler = StandardScaler()\n",
    "x_train = scaler.fit_transform(x_train)\n",
    "x_val = scaler.transform(x_val)"
   ]
  },
  {
   "cell_type": "code",
   "execution_count": 65,
   "metadata": {},
   "outputs": [
    {
     "data": {
      "text/plain": [
       "array([-0.98092525, -0.84116281,  3.63697701,  3.6369304 ,  0.34403919,\n",
       "        0.20960252,  0.03001974,  0.38907196, -0.45348069, -0.17247613,\n",
       "       -0.69354383, -0.81249412,  0.81249412, -0.70407447, -0.75996547,\n",
       "        0.32012064, -0.77876817,  1.10514645,  0.60609727, -1.40193739,\n",
       "       -1.20118935,  1.39360954,  1.69611176,  0.66368059, -1.47692834,\n",
       "       -0.15336504,  1.24210091])"
      ]
     },
     "execution_count": 65,
     "metadata": {},
     "output_type": "execute_result"
    }
   ],
   "source": [
    "x_train[0]"
   ]
  },
  {
   "cell_type": "code",
   "execution_count": 66,
   "metadata": {},
   "outputs": [
    {
     "data": {
      "text/plain": [
       "(array([0, 0, 1, 0, 0, 0, 0]), 'K_Scatch')"
      ]
     },
     "execution_count": 66,
     "metadata": {},
     "output_type": "execute_result"
    }
   ],
   "source": [
    "y_train[0], idx2class[np.argmax(y_train[0])]"
   ]
  },
  {
   "cell_type": "markdown",
   "metadata": {},
   "source": [
    "**Entrenar una red neuronal para predecir el tipo de fallo usando Tensorflow o Keras**"
   ]
  },
  {
   "cell_type": "markdown",
   "metadata": {},
   "source": [
    "## Tensorflow"
   ]
  },
  {
   "cell_type": "code",
   "execution_count": 67,
   "metadata": {},
   "outputs": [],
   "source": [
    "import tensorflow as tf\n",
    "\n",
    "# Iniciamos una session de tf, si no existe una\n",
    "if 'sess' not in locals(): sess = tf.InteractiveSession()\n",
    "\n",
    "# tf Graph Input\n",
    "X = tf.placeholder(tf.float32, shape=(None, 27))\n",
    "Y = tf.placeholder(tf.float32, shape=(None, 7))\n",
    "\n",
    "# Set model weights\n",
    "W1 = tf.Variable(tf.random_normal([27,64]))\n",
    "b1 = tf.Variable(tf.random_normal([64]))\n",
    "\n",
    "W2 = tf.Variable(tf.random_normal([64,32]))\n",
    "b2 = tf.Variable(tf.random_normal([32]))\n",
    "\n",
    "W3 = tf.Variable(tf.random_normal([32,7]))\n",
    "b3 = tf.Variable(tf.random_normal([7]))\n",
    "\n",
    "# Outputs\n",
    "y_ = tf.nn.relu((X @ W1) + b1)\n",
    "y_ = tf.nn.relu((y_ @ W2) + b2)\n",
    "y_ = tf.nn.softmax((y_ @ W3) + b3)\n",
    "\n",
    "# Loss\n",
    "loss = tf.reduce_mean(-tf.reduce_sum(Y * tf.log(y_ + 1e-9), axis=1))\n",
    "\n",
    "# Se inicializan las variables\n",
    "sess.run(tf.global_variables_initializer())"
   ]
  },
  {
   "cell_type": "code",
   "execution_count": 68,
   "metadata": {},
   "outputs": [],
   "source": [
    "# Params\n",
    "bs = 128 # Batch size\n",
    "epochs = 100\n",
    "lr = 0.01\n",
    "optimizer = tf.train.GradientDescentOptimizer(lr).minimize(loss)\n",
    "nb = math.ceil(len(x_train) / bs)"
   ]
  },
  {
   "cell_type": "code",
   "execution_count": 69,
   "metadata": {},
   "outputs": [
    {
     "data": {
      "application/vnd.jupyter.widget-view+json": {
       "model_id": "445c8c05d16d44e4af612bcb01be380f",
       "version_major": 2,
       "version_minor": 0
      },
      "text/plain": [
       "HBox(children=(IntProgress(value=0), HTML(value='')))"
      ]
     },
     "metadata": {},
     "output_type": "display_data"
    },
    {
     "name": "stdout",
     "output_type": "stream",
     "text": [
      "\n"
     ]
    },
    {
     "data": {
      "image/png": "[encoded data removed]",
      "text/plain": [
       "<Figure size 432x288 with 1 Axes>"
      ]
     },
     "metadata": {},
     "output_type": "display_data"
    }
   ],
   "source": [
    "# Train loop\n",
    "train_losses = []\n",
    "val_losses = []\n",
    "\n",
    "for epoch in tnrange(epochs):\n",
    "    # Cada epoch es un recorrido por todo el train set\n",
    "    for i in range(nb):\n",
    "        batch_x = x_train[i*bs:(i+1)*bs]\n",
    "        batch_y = y_train[i*bs:(i+1)*bs]\n",
    "        sess.run(optimizer, feed_dict={X: batch_x, Y:batch_y})\n",
    "\n",
    "    # Calculamos la perdida en el train y validation set luego de cada epoch\n",
    "    train_loss = sess.run(loss, feed_dict={X: x_train, Y:y_train})\n",
    "    train_losses.append(train_loss)\n",
    "    val_loss = sess.run(loss, feed_dict={X: x_val, Y:y_val})\n",
    "    val_losses.append(val_loss)\n",
    "\n",
    "plt.plot(train_losses, label='train')\n",
    "plt.plot(val_losses, label='validation')\n",
    "plt.legend();"
   ]
  },
  {
   "cell_type": "code",
   "execution_count": 70,
   "metadata": {},
   "outputs": [
    {
     "name": "stdout",
     "output_type": "stream",
     "text": [
      "Train\n",
      "Loss = 9.83\n",
      "Accuracy = 0.53\n",
      "\n",
      "Validation\n",
      "Loss = 9.57\n",
      "Accuracy = 0.52\n"
     ]
    }
   ],
   "source": [
    "def metrics(x, y):\n",
    "    pred, pred_loss = sess.run([y_, loss], feed_dict={X: x, Y:y})\n",
    "    real_labels = np.argmax(y, axis=1)\n",
    "    pred_labels = np.argmax(pred, axis=1)\n",
    "    pred_acc = (real_labels == pred_labels).mean()\n",
    "    print(f'Loss = {pred_loss:.2f}\\nAccuracy = {pred_acc:.2f}')\n",
    "    \n",
    "print('Train')\n",
    "metrics(x_train, y_train)\n",
    "print('\\nValidation')\n",
    "metrics(x_val, y_val)"
   ]
  },
  {
   "cell_type": "markdown",
   "metadata": {},
   "source": [
    "## Keras"
   ]
  },
  {
   "cell_type": "code",
   "execution_count": 71,
   "metadata": {},
   "outputs": [
    {
     "name": "stdout",
     "output_type": "stream",
     "text": [
      "_________________________________________________________________\n",
      "Layer (type)                 Output Shape              Param #   \n",
      "=================================================================\n",
      "dense_4 (Dense)              (None, 64)                1792      \n",
      "_________________________________________________________________\n",
      "dense_5 (Dense)              (None, 32)                2080      \n",
      "_________________________________________________________________\n",
      "dense_6 (Dense)              (None, 7)                 231       \n",
      "=================================================================\n",
      "Total params: 4,103\n",
      "Trainable params: 4,103\n",
      "Non-trainable params: 0\n",
      "_________________________________________________________________\n"
     ]
    }
   ],
   "source": [
    "import keras\n",
    "from keras.layers import Dense\n",
    "from keras.models import Sequential\n",
    "from keras.optimizers import SGD\n",
    "\n",
    "# Params\n",
    "bs = 128 # Batch size\n",
    "epochs = 100\n",
    "lr = 0.01\n",
    "\n",
    "# Modelo\n",
    "model = Sequential()\n",
    "model.add(Dense(64, activation='relu', input_shape=(27,)))\n",
    "model.add(Dense(32, activation='relu'))\n",
    "model.add(Dense(7, activation='softmax'))\n",
    "\n",
    "model.compile(optimizer=SGD(lr), loss='categorical_crossentropy', metrics=['accuracy'])\n",
    "\n",
    "model.summary()"
   ]
  },
  {
   "cell_type": "code",
   "execution_count": 72,
   "metadata": {
    "scrolled": true
   },
   "outputs": [
    {
     "name": "stdout",
     "output_type": "stream",
     "text": [
      "Train on 1358 samples, validate on 583 samples\n",
      "Epoch 1/100\n",
      "1358/1358 [==============================] - 0s 112us/step - loss: 1.9206 - acc: 0.0825 - val_loss: 1.8535 - val_acc: 0.1544\n",
      "Epoch 2/100\n",
      "1358/1358 [==============================] - 0s 18us/step - loss: 1.8082 - acc: 0.2555 - val_loss: 1.7506 - val_acc: 0.3310\n",
      "Epoch 3/100\n",
      "1358/1358 [==============================] - 0s 17us/step - loss: 1.7201 - acc: 0.3520 - val_loss: 1.6678 - val_acc: 0.3877\n",
      "Epoch 4/100\n",
      "1358/1358 [==============================] - 0s 23us/step - loss: 1.6494 - acc: 0.4212 - val_loss: 1.6017 - val_acc: 0.4220\n",
      "Epoch 5/100\n",
      "1358/1358 [==============================] - 0s 23us/step - loss: 1.5927 - acc: 0.4492 - val_loss: 1.5482 - val_acc: 0.4700\n",
      "Epoch 6/100\n",
      "1358/1358 [==============================] - 0s 19us/step - loss: 1.5468 - acc: 0.4647 - val_loss: 1.5036 - val_acc: 0.5026\n",
      "Epoch 7/100\n",
      "1358/1358 [==============================] - 0s 18us/step - loss: 1.5082 - acc: 0.4728 - val_loss: 1.4656 - val_acc: 0.5094\n",
      "Epoch 8/100\n",
      "1358/1358 [==============================] - 0s 24us/step - loss: 1.4753 - acc: 0.4772 - val_loss: 1.4332 - val_acc: 0.5146\n",
      "Epoch 9/100\n",
      "1358/1358 [==============================] - 0s 26us/step - loss: 1.4472 - acc: 0.4809 - val_loss: 1.4051 - val_acc: 0.5129\n",
      "Epoch 10/100\n",
      "1358/1358 [==============================] - 0s 21us/step - loss: 1.4229 - acc: 0.4838 - val_loss: 1.3803 - val_acc: 0.5163\n",
      "Epoch 11/100\n",
      "1358/1358 [==============================] - 0s 20us/step - loss: 1.4013 - acc: 0.4860 - val_loss: 1.3585 - val_acc: 0.5214\n",
      "Epoch 12/100\n",
      "1358/1358 [==============================] - 0s 17us/step - loss: 1.3821 - acc: 0.4890 - val_loss: 1.3392 - val_acc: 0.5214\n",
      "Epoch 13/100\n",
      "1358/1358 [==============================] - 0s 16us/step - loss: 1.3648 - acc: 0.4882 - val_loss: 1.3209 - val_acc: 0.5232\n",
      "Epoch 14/100\n",
      "1358/1358 [==============================] - 0s 18us/step - loss: 1.3485 - acc: 0.4912 - val_loss: 1.3045 - val_acc: 0.5300\n",
      "Epoch 15/100\n",
      "1358/1358 [==============================] - 0s 19us/step - loss: 1.3336 - acc: 0.4948 - val_loss: 1.2890 - val_acc: 0.5317\n",
      "Epoch 16/100\n",
      "1358/1358 [==============================] - 0s 18us/step - loss: 1.3196 - acc: 0.4985 - val_loss: 1.2743 - val_acc: 0.5317\n",
      "Epoch 17/100\n",
      "1358/1358 [==============================] - 0s 17us/step - loss: 1.3062 - acc: 0.5022 - val_loss: 1.2606 - val_acc: 0.5420\n",
      "Epoch 18/100\n",
      "1358/1358 [==============================] - 0s 18us/step - loss: 1.2934 - acc: 0.5088 - val_loss: 1.2473 - val_acc: 0.5592\n",
      "Epoch 19/100\n",
      "1358/1358 [==============================] - 0s 25us/step - loss: 1.2810 - acc: 0.5110 - val_loss: 1.2345 - val_acc: 0.5695\n",
      "Epoch 20/100\n",
      "1358/1358 [==============================] - 0s 24us/step - loss: 1.2691 - acc: 0.5140 - val_loss: 1.2223 - val_acc: 0.5763\n",
      "Epoch 21/100\n",
      "1358/1358 [==============================] - 0s 28us/step - loss: 1.2575 - acc: 0.5191 - val_loss: 1.2105 - val_acc: 0.5832\n",
      "Epoch 22/100\n",
      "1358/1358 [==============================] - 0s 24us/step - loss: 1.2463 - acc: 0.5228 - val_loss: 1.1989 - val_acc: 0.5832\n",
      "Epoch 23/100\n",
      "1358/1358 [==============================] - 0s 24us/step - loss: 1.2355 - acc: 0.5287 - val_loss: 1.1879 - val_acc: 0.5815\n",
      "Epoch 24/100\n",
      "1358/1358 [==============================] - 0s 25us/step - loss: 1.2249 - acc: 0.5376 - val_loss: 1.1769 - val_acc: 0.5832\n",
      "Epoch 25/100\n",
      "1358/1358 [==============================] - 0s 27us/step - loss: 1.2146 - acc: 0.5412 - val_loss: 1.1663 - val_acc: 0.5832\n",
      "Epoch 26/100\n",
      "1358/1358 [==============================] - 0s 25us/step - loss: 1.2048 - acc: 0.5479 - val_loss: 1.1562 - val_acc: 0.5918\n",
      "Epoch 27/100\n",
      "1358/1358 [==============================] - 0s 22us/step - loss: 1.1951 - acc: 0.5515 - val_loss: 1.1465 - val_acc: 0.5901\n",
      "Epoch 28/100\n",
      "1358/1358 [==============================] - 0s 22us/step - loss: 1.1857 - acc: 0.5611 - val_loss: 1.1370 - val_acc: 0.5952\n",
      "Epoch 29/100\n",
      "1358/1358 [==============================] - 0s 19us/step - loss: 1.1766 - acc: 0.5619 - val_loss: 1.1279 - val_acc: 0.5969\n",
      "Epoch 30/100\n",
      "1358/1358 [==============================] - 0s 23us/step - loss: 1.1678 - acc: 0.5670 - val_loss: 1.1189 - val_acc: 0.6021\n",
      "Epoch 31/100\n",
      "1358/1358 [==============================] - 0s 26us/step - loss: 1.1591 - acc: 0.5736 - val_loss: 1.1103 - val_acc: 0.6055\n",
      "Epoch 32/100\n",
      "1358/1358 [==============================] - 0s 21us/step - loss: 1.1507 - acc: 0.5751 - val_loss: 1.1017 - val_acc: 0.6089\n",
      "Epoch 33/100\n",
      "1358/1358 [==============================] - 0s 21us/step - loss: 1.1424 - acc: 0.5810 - val_loss: 1.0933 - val_acc: 0.6123\n",
      "Epoch 34/100\n",
      "1358/1358 [==============================] - 0s 20us/step - loss: 1.1343 - acc: 0.5869 - val_loss: 1.0854 - val_acc: 0.6175\n",
      "Epoch 35/100\n",
      "1358/1358 [==============================] - 0s 23us/step - loss: 1.1265 - acc: 0.5920 - val_loss: 1.0777 - val_acc: 0.6192\n",
      "Epoch 36/100\n",
      "1358/1358 [==============================] - 0s 18us/step - loss: 1.1188 - acc: 0.5943 - val_loss: 1.0702 - val_acc: 0.6158\n",
      "Epoch 37/100\n",
      "1358/1358 [==============================] - 0s 21us/step - loss: 1.1112 - acc: 0.5965 - val_loss: 1.0626 - val_acc: 0.6209\n",
      "Epoch 38/100\n",
      "1358/1358 [==============================] - 0s 21us/step - loss: 1.1037 - acc: 0.5957 - val_loss: 1.0553 - val_acc: 0.6226\n",
      "Epoch 39/100\n",
      "1358/1358 [==============================] - 0s 18us/step - loss: 1.0965 - acc: 0.6016 - val_loss: 1.0481 - val_acc: 0.6244\n",
      "Epoch 40/100\n",
      "1358/1358 [==============================] - 0s 25us/step - loss: 1.0894 - acc: 0.6097 - val_loss: 1.0411 - val_acc: 0.6261\n",
      "Epoch 41/100\n",
      "1358/1358 [==============================] - 0s 18us/step - loss: 1.0826 - acc: 0.6119 - val_loss: 1.0339 - val_acc: 0.6295\n",
      "Epoch 42/100\n",
      "1358/1358 [==============================] - 0s 16us/step - loss: 1.0757 - acc: 0.6097 - val_loss: 1.0270 - val_acc: 0.6295\n",
      "Epoch 43/100\n",
      "1358/1358 [==============================] - 0s 22us/step - loss: 1.0691 - acc: 0.6105 - val_loss: 1.0206 - val_acc: 0.6295\n",
      "Epoch 44/100\n",
      "1358/1358 [==============================] - 0s 25us/step - loss: 1.0623 - acc: 0.6127 - val_loss: 1.0139 - val_acc: 0.6295\n",
      "Epoch 45/100\n",
      "1358/1358 [==============================] - 0s 22us/step - loss: 1.0561 - acc: 0.6149 - val_loss: 1.0075 - val_acc: 0.6312\n",
      "Epoch 46/100\n",
      "1358/1358 [==============================] - 0s 26us/step - loss: 1.0497 - acc: 0.6149 - val_loss: 1.0013 - val_acc: 0.6261\n",
      "Epoch 47/100\n",
      "1358/1358 [==============================] - 0s 23us/step - loss: 1.0434 - acc: 0.6171 - val_loss: 0.9952 - val_acc: 0.6312\n",
      "Epoch 48/100\n",
      "1358/1358 [==============================] - 0s 21us/step - loss: 1.0373 - acc: 0.6186 - val_loss: 0.9893 - val_acc: 0.6346\n",
      "Epoch 49/100\n",
      "1358/1358 [==============================] - 0s 23us/step - loss: 1.0316 - acc: 0.6208 - val_loss: 0.9834 - val_acc: 0.6346\n",
      "Epoch 50/100\n",
      "1358/1358 [==============================] - 0s 20us/step - loss: 1.0256 - acc: 0.6186 - val_loss: 0.9777 - val_acc: 0.6346\n",
      "Epoch 51/100\n",
      "1358/1358 [==============================] - 0s 19us/step - loss: 1.0200 - acc: 0.6222 - val_loss: 0.9718 - val_acc: 0.6346\n",
      "Epoch 52/100\n",
      "1358/1358 [==============================] - 0s 20us/step - loss: 1.0143 - acc: 0.6215 - val_loss: 0.9664 - val_acc: 0.6364\n",
      "Epoch 53/100\n",
      "1358/1358 [==============================] - 0s 22us/step - loss: 1.0088 - acc: 0.6252 - val_loss: 0.9609 - val_acc: 0.6381\n",
      "Epoch 54/100\n",
      "1358/1358 [==============================] - 0s 24us/step - loss: 1.0034 - acc: 0.6267 - val_loss: 0.9555 - val_acc: 0.6364\n",
      "Epoch 55/100\n",
      "1358/1358 [==============================] - 0s 19us/step - loss: 0.9978 - acc: 0.6303 - val_loss: 0.9501 - val_acc: 0.6398\n",
      "Epoch 56/100\n",
      "1358/1358 [==============================] - 0s 20us/step - loss: 0.9927 - acc: 0.6303 - val_loss: 0.9448 - val_acc: 0.6398\n",
      "Epoch 57/100\n",
      "1358/1358 [==============================] - 0s 19us/step - loss: 0.9875 - acc: 0.6348 - val_loss: 0.9398 - val_acc: 0.6432\n",
      "Epoch 58/100\n",
      "1358/1358 [==============================] - 0s 19us/step - loss: 0.9822 - acc: 0.6362 - val_loss: 0.9349 - val_acc: 0.6398\n",
      "Epoch 59/100\n",
      "1358/1358 [==============================] - 0s 28us/step - loss: 0.9773 - acc: 0.6377 - val_loss: 0.9301 - val_acc: 0.6398\n",
      "Epoch 60/100\n",
      "1358/1358 [==============================] - 0s 23us/step - loss: 0.9723 - acc: 0.6421 - val_loss: 0.9250 - val_acc: 0.6415\n",
      "Epoch 61/100\n",
      "1358/1358 [==============================] - 0s 23us/step - loss: 0.9674 - acc: 0.6429 - val_loss: 0.9199 - val_acc: 0.6449\n",
      "Epoch 62/100\n",
      "1358/1358 [==============================] - 0s 27us/step - loss: 0.9624 - acc: 0.6399 - val_loss: 0.9155 - val_acc: 0.6449\n",
      "Epoch 63/100\n",
      "1358/1358 [==============================] - 0s 26us/step - loss: 0.9577 - acc: 0.6436 - val_loss: 0.9108 - val_acc: 0.6432\n",
      "Epoch 64/100\n",
      "1358/1358 [==============================] - 0s 20us/step - loss: 0.9529 - acc: 0.6458 - val_loss: 0.9063 - val_acc: 0.6501\n",
      "Epoch 65/100\n",
      "1358/1358 [==============================] - 0s 20us/step - loss: 0.9483 - acc: 0.6480 - val_loss: 0.9018 - val_acc: 0.6501\n",
      "Epoch 66/100\n",
      "1358/1358 [==============================] - 0s 18us/step - loss: 0.9438 - acc: 0.6480 - val_loss: 0.8973 - val_acc: 0.6518\n",
      "Epoch 67/100\n",
      "1358/1358 [==============================] - 0s 20us/step - loss: 0.9394 - acc: 0.6487 - val_loss: 0.8928 - val_acc: 0.6552\n",
      "Epoch 68/100\n",
      "1358/1358 [==============================] - 0s 17us/step - loss: 0.9348 - acc: 0.6532 - val_loss: 0.8883 - val_acc: 0.6552\n",
      "Epoch 69/100\n",
      "1358/1358 [==============================] - 0s 20us/step - loss: 0.9306 - acc: 0.6524 - val_loss: 0.8841 - val_acc: 0.6569\n",
      "Epoch 70/100\n",
      "1358/1358 [==============================] - 0s 16us/step - loss: 0.9262 - acc: 0.6568 - val_loss: 0.8797 - val_acc: 0.6569\n",
      "Epoch 71/100\n",
      "1358/1358 [==============================] - 0s 18us/step - loss: 0.9222 - acc: 0.6568 - val_loss: 0.8759 - val_acc: 0.6587\n",
      "Epoch 72/100\n",
      "1358/1358 [==============================] - 0s 17us/step - loss: 0.9179 - acc: 0.6568 - val_loss: 0.8719 - val_acc: 0.6621\n",
      "Epoch 73/100\n",
      "1358/1358 [==============================] - 0s 19us/step - loss: 0.9138 - acc: 0.6598 - val_loss: 0.8682 - val_acc: 0.6707\n",
      "Epoch 74/100\n",
      "1358/1358 [==============================] - 0s 18us/step - loss: 0.9095 - acc: 0.6620 - val_loss: 0.8641 - val_acc: 0.6741\n",
      "Epoch 75/100\n",
      "1358/1358 [==============================] - 0s 18us/step - loss: 0.9055 - acc: 0.6635 - val_loss: 0.8601 - val_acc: 0.6741\n",
      "Epoch 76/100\n",
      "1358/1358 [==============================] - 0s 16us/step - loss: 0.9016 - acc: 0.6613 - val_loss: 0.8559 - val_acc: 0.6758\n",
      "Epoch 77/100\n",
      "1358/1358 [==============================] - 0s 20us/step - loss: 0.8975 - acc: 0.6672 - val_loss: 0.8522 - val_acc: 0.6775\n",
      "Epoch 78/100\n",
      "1358/1358 [==============================] - 0s 16us/step - loss: 0.8936 - acc: 0.6686 - val_loss: 0.8484 - val_acc: 0.6810\n",
      "Epoch 79/100\n",
      "1358/1358 [==============================] - 0s 16us/step - loss: 0.8898 - acc: 0.6723 - val_loss: 0.8450 - val_acc: 0.6758\n",
      "Epoch 80/100\n",
      "1358/1358 [==============================] - 0s 16us/step - loss: 0.8860 - acc: 0.6767 - val_loss: 0.8412 - val_acc: 0.6775\n",
      "Epoch 81/100\n",
      "1358/1358 [==============================] - 0s 19us/step - loss: 0.8823 - acc: 0.6782 - val_loss: 0.8378 - val_acc: 0.6792\n",
      "Epoch 82/100\n",
      "1358/1358 [==============================] - 0s 17us/step - loss: 0.8787 - acc: 0.6834 - val_loss: 0.8343 - val_acc: 0.6827\n",
      "Epoch 83/100\n",
      "1358/1358 [==============================] - 0s 16us/step - loss: 0.8751 - acc: 0.6826 - val_loss: 0.8308 - val_acc: 0.6878\n",
      "Epoch 84/100\n",
      "1358/1358 [==============================] - 0s 18us/step - loss: 0.8714 - acc: 0.6878 - val_loss: 0.8274 - val_acc: 0.6861\n",
      "Epoch 85/100\n",
      "1358/1358 [==============================] - 0s 18us/step - loss: 0.8680 - acc: 0.6907 - val_loss: 0.8236 - val_acc: 0.6844\n",
      "Epoch 86/100\n",
      "1358/1358 [==============================] - 0s 19us/step - loss: 0.8647 - acc: 0.6900 - val_loss: 0.8203 - val_acc: 0.6861\n",
      "Epoch 87/100\n",
      "1358/1358 [==============================] - 0s 23us/step - loss: 0.8610 - acc: 0.6944 - val_loss: 0.8170 - val_acc: 0.6878\n",
      "Epoch 88/100\n",
      "1358/1358 [==============================] - 0s 20us/step - loss: 0.8575 - acc: 0.6981 - val_loss: 0.8140 - val_acc: 0.6947\n",
      "Epoch 89/100\n",
      "1358/1358 [==============================] - 0s 17us/step - loss: 0.8543 - acc: 0.7018 - val_loss: 0.8110 - val_acc: 0.6964\n",
      "Epoch 90/100\n",
      "1358/1358 [==============================] - 0s 21us/step - loss: 0.8510 - acc: 0.6996 - val_loss: 0.8079 - val_acc: 0.6981\n",
      "Epoch 91/100\n",
      "1358/1358 [==============================] - 0s 19us/step - loss: 0.8477 - acc: 0.7047 - val_loss: 0.8049 - val_acc: 0.6981\n",
      "Epoch 92/100\n",
      "1358/1358 [==============================] - 0s 25us/step - loss: 0.8445 - acc: 0.7032 - val_loss: 0.8018 - val_acc: 0.7015\n",
      "Epoch 93/100\n",
      "1358/1358 [==============================] - 0s 19us/step - loss: 0.8413 - acc: 0.7099 - val_loss: 0.7989 - val_acc: 0.7033\n",
      "Epoch 94/100\n",
      "1358/1358 [==============================] - 0s 22us/step - loss: 0.8382 - acc: 0.7106 - val_loss: 0.7965 - val_acc: 0.7118\n",
      "Epoch 95/100\n",
      "1358/1358 [==============================] - 0s 21us/step - loss: 0.8351 - acc: 0.7069 - val_loss: 0.7933 - val_acc: 0.7067\n",
      "Epoch 96/100\n",
      "1358/1358 [==============================] - 0s 18us/step - loss: 0.8320 - acc: 0.7099 - val_loss: 0.7906 - val_acc: 0.7136\n",
      "Epoch 97/100\n",
      "1358/1358 [==============================] - 0s 20us/step - loss: 0.8289 - acc: 0.7091 - val_loss: 0.7878 - val_acc: 0.7136\n",
      "Epoch 98/100\n",
      "1358/1358 [==============================] - 0s 18us/step - loss: 0.8261 - acc: 0.7106 - val_loss: 0.7852 - val_acc: 0.7170\n",
      "Epoch 99/100\n",
      "1358/1358 [==============================] - 0s 18us/step - loss: 0.8232 - acc: 0.7121 - val_loss: 0.7829 - val_acc: 0.7204\n",
      "Epoch 100/100\n",
      "1358/1358 [==============================] - 0s 28us/step - loss: 0.8204 - acc: 0.7128 - val_loss: 0.7803 - val_acc: 0.7187\n"
     ]
    }
   ],
   "source": [
    "# Entrenamiento\n",
    "log = model.fit(x_train, y_train, batch_size=bs, epochs=epochs, validation_data=[x_val, y_val])"
   ]
  },
  {
   "cell_type": "code",
   "execution_count": 73,
   "metadata": {},
   "outputs": [
    {
     "data": {
      "image/png": "[encoded data removed]",
      "text/plain": [
       "<Figure size 432x288 with 1 Axes>"
      ]
     },
     "metadata": {},
     "output_type": "display_data"
    }
   ],
   "source": [
    "plt.plot(log.history['loss'], label='train')\n",
    "plt.plot(log.history['val_loss'], label='validation')\n",
    "plt.legend();"
   ]
  },
  {
   "cell_type": "code",
   "execution_count": 74,
   "metadata": {},
   "outputs": [
    {
     "name": "stdout",
     "output_type": "stream",
     "text": [
      "Train\n",
      "Loss = 0.82\n",
      "Accuracy = 0.71\n",
      "\n",
      "Validation\n",
      "Loss = 0.78\n",
      "Accuracy = 0.72\n"
     ]
    }
   ],
   "source": [
    "train_loss, train_acc = model.evaluate(x_train, y_train, verbose=0)\n",
    "val_loss, val_acc = model.evaluate(x_val, y_val, verbose=0)\n",
    "print(f'Train\\nLoss = {train_loss:.2f}\\nAccuracy = {train_acc:.2f}')\n",
    "print(f'\\nValidation\\nLoss = {val_loss:.2f}\\nAccuracy = {val_acc:.2f}')"
   ]
  },
  {
   "cell_type": "code",
   "execution_count": null,
   "metadata": {},
   "outputs": [],
   "source": []
  }
 ],
 "metadata": {
  "kernelspec": {
   "display_name": "Python 3",
   "language": "python",
   "name": "python3"
  },
  "language_info": {
   "codemirror_mode": {
    "name": "ipython",
    "version": 3
   },
   "file_extension": ".py",
   "mimetype": "text/x-python",
   "name": "python",
   "nbconvert_exporter": "python",
   "pygments_lexer": "ipython3",
   "version": "3.6.6"
  },
  "toc": {
   "base_numbering": 1,
   "nav_menu": {},
   "number_sections": true,
   "sideBar": true,
   "skip_h1_title": false,
   "title_cell": "Table of Contents",
   "title_sidebar": "Contents",
   "toc_cell": false,
   "toc_position": {
    "height": "calc(100% - 180px)",
    "left": "10px",
    "top": "150px",
    "width": "294px"
   },
   "toc_section_display": true,
   "toc_window_display": true
  }
 },
 "nbformat": 4,
 "nbformat_minor": 2
}
