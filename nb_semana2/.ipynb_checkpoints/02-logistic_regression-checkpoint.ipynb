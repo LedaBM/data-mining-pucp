{
 "cells": [
  {
   "cell_type": "code",
   "execution_count": 1,
   "metadata": {},
   "outputs": [],
   "source": [
    "import utils, math\n",
    "import numpy as np\n",
    "import pandas as pd\n",
    "import matplotlib.pyplot as plt\n",
    "import plotly.graph_objs as go\n",
    "from sklearn.datasets import load_iris\n",
    "from sklearn.model_selection import train_test_split\n",
    "from tqdm import tnrange, tqdm_notebook\n",
    "%matplotlib inline"
   ]
  },
  {
   "cell_type": "markdown",
   "metadata": {},
   "source": [
    "# Load Data"
   ]
  },
  {
   "cell_type": "code",
   "execution_count": 2,
   "metadata": {},
   "outputs": [
    {
     "data": {
      "text/plain": [
       "dict_keys(['data', 'target', 'target_names', 'DESCR', 'feature_names'])"
      ]
     },
     "execution_count": 2,
     "metadata": {},
     "output_type": "execute_result"
    }
   ],
   "source": [
    "data = load_iris()\n",
    "data.keys()"
   ]
  },
  {
   "cell_type": "code",
   "execution_count": 3,
   "metadata": {
    "scrolled": true
   },
   "outputs": [
    {
     "name": "stdout",
     "output_type": "stream",
     "text": [
      "Iris Plants Database\n",
      "====================\n",
      "\n",
      "Notes\n",
      "-----\n",
      "Data Set Characteristics:\n",
      "    :Number of Instances: 150 (50 in each of three classes)\n",
      "    :Number of Attributes: 4 numeric, predictive attributes and the class\n",
      "    :Attribute Information:\n",
      "        - sepal length in cm\n",
      "        - sepal width in cm\n",
      "        - petal length in cm\n",
      "        - petal width in cm\n",
      "        - class:\n",
      "                - Iris-Setosa\n",
      "                - Iris-Versicolour\n",
      "                - Iris-Virginica\n",
      "    :Summary Statistics:\n",
      "\n",
      "    ============== ==== ==== ======= ===== ====================\n",
      "                    Min  Max   Mean    SD   Class Correlation\n",
      "    ============== ==== ==== ======= ===== ====================\n",
      "    sepal length:   4.3  7.9   5.84   0.83    0.7826\n",
      "    sepal width:    2.0  4.4   3.05   0.43   -0.4194\n",
      "    petal length:   1.0  6.9   3.76   1.76    0.9490  (high!)\n",
      "    petal width:    0.1  2.5   1.20  0.76     0.9565  (high!)\n",
      "    ============== ==== ==== ======= ===== ====================\n",
      "\n",
      "    :Missing Attribute Values: None\n",
      "    :Class Distribution: 33.3% for each of 3 classes.\n",
      "    :Creator: R.A. Fisher\n",
      "    :Donor: Michael Marshall (MARSHALL%PLU@io.arc.nasa.gov)\n",
      "    :Date: July, 1988\n",
      "\n",
      "This is a copy of UCI ML iris datasets.\n",
      "http://archive.ics.uci.edu/ml/datasets/Iris\n",
      "\n",
      "The famous Iris database, first used by Sir R.A Fisher\n",
      "\n",
      "This is perhaps the best known database to be found in the\n",
      "pattern recognition literature.  Fisher's paper is a classic in the field and\n",
      "is referenced frequently to this day.  (See Duda & Hart, for example.)  The\n",
      "data set contains 3 classes of 50 instances each, where each class refers to a\n",
      "type of iris plant.  One class is linearly separable from the other 2; the\n",
      "latter are NOT linearly separable from each other.\n",
      "\n",
      "References\n",
      "----------\n",
      "   - Fisher,R.A. \"The use of multiple measurements in taxonomic problems\"\n",
      "     Annual Eugenics, 7, Part II, 179-188 (1936); also in \"Contributions to\n",
      "     Mathematical Statistics\" (John Wiley, NY, 1950).\n",
      "   - Duda,R.O., & Hart,P.E. (1973) Pattern Classification and Scene Analysis.\n",
      "     (Q327.D83) John Wiley & Sons.  ISBN 0-471-22361-1.  See page 218.\n",
      "   - Dasarathy, B.V. (1980) \"Nosing Around the Neighborhood: A New System\n",
      "     Structure and Classification Rule for Recognition in Partially Exposed\n",
      "     Environments\".  IEEE Transactions on Pattern Analysis and Machine\n",
      "     Intelligence, Vol. PAMI-2, No. 1, 67-71.\n",
      "   - Gates, G.W. (1972) \"The Reduced Nearest Neighbor Rule\".  IEEE Transactions\n",
      "     on Information Theory, May 1972, 431-433.\n",
      "   - See also: 1988 MLC Proceedings, 54-64.  Cheeseman et al\"s AUTOCLASS II\n",
      "     conceptual clustering system finds 3 classes in the data.\n",
      "   - Many, many more ...\n",
      "\n"
     ]
    }
   ],
   "source": [
    "print(data['DESCR'])"
   ]
  },
  {
   "cell_type": "code",
   "execution_count": 4,
   "metadata": {},
   "outputs": [
    {
     "data": {
      "text/html": [
       "<div>\n",
       "<style scoped>\n",
       "    .dataframe tbody tr th:only-of-type {\n",
       "        vertical-align: middle;\n",
       "    }\n",
       "\n",
       "    .dataframe tbody tr th {\n",
       "        vertical-align: top;\n",
       "    }\n",
       "\n",
       "    .dataframe thead th {\n",
       "        text-align: right;\n",
       "    }\n",
       "</style>\n",
       "<table border=\"1\" class=\"dataframe\">\n",
       "  <thead>\n",
       "    <tr style=\"text-align: right;\">\n",
       "      <th></th>\n",
       "      <th>sepal length (cm)</th>\n",
       "      <th>sepal width (cm)</th>\n",
       "      <th>petal length (cm)</th>\n",
       "      <th>petal width (cm)</th>\n",
       "    </tr>\n",
       "  </thead>\n",
       "  <tbody>\n",
       "    <tr>\n",
       "      <th>0</th>\n",
       "      <td>5.1</td>\n",
       "      <td>3.5</td>\n",
       "      <td>1.4</td>\n",
       "      <td>0.2</td>\n",
       "    </tr>\n",
       "    <tr>\n",
       "      <th>1</th>\n",
       "      <td>4.9</td>\n",
       "      <td>3.0</td>\n",
       "      <td>1.4</td>\n",
       "      <td>0.2</td>\n",
       "    </tr>\n",
       "    <tr>\n",
       "      <th>2</th>\n",
       "      <td>4.7</td>\n",
       "      <td>3.2</td>\n",
       "      <td>1.3</td>\n",
       "      <td>0.2</td>\n",
       "    </tr>\n",
       "    <tr>\n",
       "      <th>3</th>\n",
       "      <td>4.6</td>\n",
       "      <td>3.1</td>\n",
       "      <td>1.5</td>\n",
       "      <td>0.2</td>\n",
       "    </tr>\n",
       "    <tr>\n",
       "      <th>4</th>\n",
       "      <td>5.0</td>\n",
       "      <td>3.6</td>\n",
       "      <td>1.4</td>\n",
       "      <td>0.2</td>\n",
       "    </tr>\n",
       "  </tbody>\n",
       "</table>\n",
       "</div>"
      ],
      "text/plain": [
       "   sepal length (cm)  sepal width (cm)  petal length (cm)  petal width (cm)\n",
       "0                5.1               3.5                1.4               0.2\n",
       "1                4.9               3.0                1.4               0.2\n",
       "2                4.7               3.2                1.3               0.2\n",
       "3                4.6               3.1                1.5               0.2\n",
       "4                5.0               3.6                1.4               0.2"
      ]
     },
     "execution_count": 4,
     "metadata": {},
     "output_type": "execute_result"
    }
   ],
   "source": [
    "pd.DataFrame(data['data'], columns=data['feature_names']).head()"
   ]
  },
  {
   "cell_type": "code",
   "execution_count": 5,
   "metadata": {},
   "outputs": [
    {
     "name": "stdout",
     "output_type": "stream",
     "text": [
      "(150, 4)\n"
     ]
    },
    {
     "data": {
      "text/plain": [
       "array([[5.1, 3.5, 1.4, 0.2],\n",
       "       [4.9, 3. , 1.4, 0.2],\n",
       "       [4.7, 3.2, 1.3, 0.2]])"
      ]
     },
     "execution_count": 5,
     "metadata": {},
     "output_type": "execute_result"
    }
   ],
   "source": [
    "x = data['data']\n",
    "print(x.shape)\n",
    "x[:3]"
   ]
  },
  {
   "cell_type": "code",
   "execution_count": 6,
   "metadata": {},
   "outputs": [
    {
     "name": "stdout",
     "output_type": "stream",
     "text": [
      "(150,)\n"
     ]
    },
    {
     "data": {
      "text/plain": [
       "array([0, 0, 0])"
      ]
     },
     "execution_count": 6,
     "metadata": {},
     "output_type": "execute_result"
    }
   ],
   "source": [
    "y = data['target']\n",
    "print(y.shape)\n",
    "y[:3]"
   ]
  },
  {
   "cell_type": "code",
   "execution_count": 7,
   "metadata": {},
   "outputs": [
    {
     "data": {
      "text/plain": [
       "array([[1., 0., 0.],\n",
       "       [0., 1., 0.],\n",
       "       [0., 0., 1.]])"
      ]
     },
     "execution_count": 7,
     "metadata": {},
     "output_type": "execute_result"
    }
   ],
   "source": [
    "np.eye(3)"
   ]
  },
  {
   "cell_type": "code",
   "execution_count": 8,
   "metadata": {},
   "outputs": [
    {
     "name": "stdout",
     "output_type": "stream",
     "text": [
      "(150, 3)\n"
     ]
    },
    {
     "data": {
      "text/plain": [
       "array([[1., 0., 0.],\n",
       "       [1., 0., 0.],\n",
       "       [1., 0., 0.]])"
      ]
     },
     "execution_count": 8,
     "metadata": {},
     "output_type": "execute_result"
    }
   ],
   "source": [
    "# Cambiamos la representacion de y a one-hot\n",
    "y = np.eye(3)[y]\n",
    "print(y.shape)\n",
    "y[:3]"
   ]
  },
  {
   "cell_type": "code",
   "execution_count": 9,
   "metadata": {},
   "outputs": [
    {
     "data": {
      "text/plain": [
       "((120, 4), (30, 4), (120, 3), (30, 3))"
      ]
     },
     "execution_count": 9,
     "metadata": {},
     "output_type": "execute_result"
    }
   ],
   "source": [
    "# Train validation split\n",
    "x_train, x_val, y_train, y_val = train_test_split(x, y, test_size=0.2, random_state=42)\n",
    "x_train.shape, x_val.shape, y_train.shape, y_val.shape"
   ]
  },
  {
   "cell_type": "code",
   "execution_count": 10,
   "metadata": {},
   "outputs": [
    {
     "data": {
      "text/plain": [
       "array(['setosa', 'versicolor', 'virginica'], dtype='<U10')"
      ]
     },
     "execution_count": 10,
     "metadata": {},
     "output_type": "execute_result"
    }
   ],
   "source": [
    "data['target_names']"
   ]
  },
  {
   "cell_type": "code",
   "execution_count": 11,
   "metadata": {},
   "outputs": [
    {
     "data": {
      "text/plain": [
       "{0: 'setosa', 1: 'versicolor', 2: 'virginica'}"
      ]
     },
     "execution_count": 11,
     "metadata": {},
     "output_type": "execute_result"
    }
   ],
   "source": [
    "# Armamos un diccionario para el target\n",
    "idx2class = {i:e for i,e in enumerate(data['target_names'])}\n",
    "idx2class"
   ]
  },
  {
   "cell_type": "markdown",
   "metadata": {},
   "source": [
    "# Ejemplo de las diapositivas"
   ]
  },
  {
   "cell_type": "code",
   "execution_count": 12,
   "metadata": {},
   "outputs": [
    {
     "data": {
      "text/plain": [
       "(array([4.6, 3.6, 1. , 0.2]), array([1., 0., 0.]))"
      ]
     },
     "execution_count": 12,
     "metadata": {},
     "output_type": "execute_result"
    }
   ],
   "source": [
    "eg_x = x_train[0]\n",
    "eg_y = y_train[0]\n",
    "eg_x, eg_y"
   ]
  },
  {
   "cell_type": "code",
   "execution_count": 13,
   "metadata": {},
   "outputs": [
    {
     "data": {
      "text/plain": [
       "(4,)"
      ]
     },
     "execution_count": 13,
     "metadata": {},
     "output_type": "execute_result"
    }
   ],
   "source": [
    "eg_x.shape"
   ]
  },
  {
   "cell_type": "code",
   "execution_count": 14,
   "metadata": {},
   "outputs": [
    {
     "data": {
      "text/plain": [
       "(4, 1)"
      ]
     },
     "execution_count": 14,
     "metadata": {},
     "output_type": "execute_result"
    }
   ],
   "source": [
    "# Añadimos una dimension a eg_x\n",
    "eg_x = x_train[0][:,None]\n",
    "eg_x.shape"
   ]
  },
  {
   "cell_type": "code",
   "execution_count": 15,
   "metadata": {},
   "outputs": [
    {
     "data": {
      "text/plain": [
       "(3,)"
      ]
     },
     "execution_count": 15,
     "metadata": {},
     "output_type": "execute_result"
    }
   ],
   "source": [
    "eg_y.shape"
   ]
  },
  {
   "cell_type": "code",
   "execution_count": 16,
   "metadata": {},
   "outputs": [
    {
     "name": "stdout",
     "output_type": "stream",
     "text": [
      "shape: (3, 4)\n"
     ]
    },
    {
     "data": {
      "text/plain": [
       "array([[-0.4, -0.1, -2.1,  1.6],\n",
       "       [-1.8, -0.8,  0.5, -1.2],\n",
       "       [-1.1, -0.9,  0.6,  2.3]])"
      ]
     },
     "execution_count": 16,
     "metadata": {},
     "output_type": "execute_result"
    }
   ],
   "source": [
    "# definimos una matriz de pesos eg_w\n",
    "np.random.seed(2)\n",
    "eg_w = np.random.normal(size=4*3).reshape((3,4)).round(1)\n",
    "print(f'shape: {eg_w.shape}')\n",
    "eg_w"
   ]
  },
  {
   "cell_type": "code",
   "execution_count": 17,
   "metadata": {},
   "outputs": [
    {
     "name": "stdout",
     "output_type": "stream",
     "text": [
      "shape: (3,)\n"
     ]
    },
    {
     "data": {
      "text/plain": [
       "array([1.8, 0.4, 0.1])"
      ]
     },
     "execution_count": 17,
     "metadata": {},
     "output_type": "execute_result"
    }
   ],
   "source": [
    "# definimos una matriz de bias eg_b\n",
    "np.random.seed(3)\n",
    "eg_b = np.random.normal(size=3).round(1)\n",
    "print(f'shape: {eg_b.shape}')\n",
    "eg_b"
   ]
  },
  {
   "cell_type": "markdown",
   "metadata": {},
   "source": [
    "## Definimos el modelo"
   ]
  },
  {
   "cell_type": "markdown",
   "metadata": {},
   "source": [
    "$ \\hat{y} = f(x) = Wx + b $"
   ]
  },
  {
   "cell_type": "code",
   "execution_count": 18,
   "metadata": {},
   "outputs": [],
   "source": [
    "#@ es la notacion en python para la multiplicacion de matrices\n",
    "#ravel elimina la dimensión extra"
   ]
  },
  {
   "cell_type": "code",
   "execution_count": 19,
   "metadata": {},
   "outputs": [
    {
     "name": "stdout",
     "output_type": "stream",
     "text": [
      "data: [1. 0. 0.]\n",
      "model: [ -2.18 -10.5   -7.14]\n"
     ]
    }
   ],
   "source": [
    "def f(x): return (eg_w@x).ravel() + eg_b\n",
    "\n",
    "eg_y_ = f(eg_x)\n",
    "print(f'data: {eg_y}')\n",
    "print(f'model: {eg_y_}')"
   ]
  },
  {
   "cell_type": "markdown",
   "metadata": {},
   "source": [
    "###  Softmax"
   ]
  },
  {
   "cell_type": "markdown",
   "metadata": {},
   "source": [
    "$ softmax(\\hat{y_i}) = \\frac{e^{\\hat{y_i}}}{\\sum\\limits_j e^{\\hat{y_j}}} $"
   ]
  },
  {
   "cell_type": "code",
   "execution_count": 20,
   "metadata": {},
   "outputs": [
    {
     "data": {
      "text/plain": [
       "array([1.13041531e-01, 2.75364493e-05, 7.92752096e-04])"
      ]
     },
     "execution_count": 20,
     "metadata": {},
     "output_type": "execute_result"
    }
   ],
   "source": [
    "np.exp(eg_y_)"
   ]
  },
  {
   "cell_type": "code",
   "execution_count": 21,
   "metadata": {},
   "outputs": [
    {
     "data": {
      "text/plain": [
       "0.1138618191862661"
      ]
     },
     "execution_count": 21,
     "metadata": {},
     "output_type": "execute_result"
    }
   ],
   "source": [
    "np.exp(eg_y_).sum()"
   ]
  },
  {
   "cell_type": "code",
   "execution_count": 22,
   "metadata": {},
   "outputs": [
    {
     "data": {
      "text/plain": [
       "array([9.92795754e-01, 2.41840940e-04, 6.96240498e-03])"
      ]
     },
     "execution_count": 22,
     "metadata": {},
     "output_type": "execute_result"
    }
   ],
   "source": [
    "def softmax(x):\n",
    "    exp = np.exp(x)\n",
    "    return  exp / exp.sum()\n",
    "\n",
    "softmax(eg_y_)"
   ]
  },
  {
   "cell_type": "markdown",
   "metadata": {
    "heading_collapsed": true
   },
   "source": [
    "### Incluyendo la funcion de activacion\n",
    "\n",
    "$ \\hat{y} = f(x) =  softmax(Wx + b) $"
   ]
  },
  {
   "cell_type": "code",
   "execution_count": 23,
   "metadata": {
    "hidden": true
   },
   "outputs": [
    {
     "name": "stdout",
     "output_type": "stream",
     "text": [
      "data: [1. 0. 0.]\n",
      "model: [9.92795754e-01 2.41840940e-04 6.96240498e-03]\n"
     ]
    }
   ],
   "source": [
    "def f(x): return softmax((eg_w@x).ravel() + eg_b)\n",
    "\n",
    "eg_y_ = f(eg_x)\n",
    "print(f'data: {eg_y}')\n",
    "print(f'model: {eg_y_}')"
   ]
  },
  {
   "cell_type": "markdown",
   "metadata": {},
   "source": [
    "## Loss function: Cross entropy\n",
    "\n",
    "$ L = - \\frac{1}{m} \\sum\\limits_{i=1}^m p(x_i) \\log{q(x_i)} $\n",
    "\n",
    "* p(x): real values\n",
    "* q(x): predicted values"
   ]
  },
  {
   "cell_type": "markdown",
   "metadata": {},
   "source": [
    "$ \\log{q(x_i)} = \\log{\\frac{e^{\\hat{y_i}}}{\\sum\\limits_j e^{\\hat{y_j}}}} $"
   ]
  },
  {
   "cell_type": "code",
   "execution_count": 24,
   "metadata": {},
   "outputs": [
    {
     "data": {
      "text/plain": [
       "array([-7.23032181e-03, -8.32723032e+00, -4.96723032e+00])"
      ]
     },
     "execution_count": 24,
     "metadata": {},
     "output_type": "execute_result"
    }
   ],
   "source": [
    "np.log(eg_y_)"
   ]
  },
  {
   "cell_type": "code",
   "execution_count": 25,
   "metadata": {},
   "outputs": [
    {
     "data": {
      "text/plain": [
       "0.007230320801531907"
      ]
     },
     "execution_count": 25,
     "metadata": {},
     "output_type": "execute_result"
    }
   ],
   "source": [
    "def L(y, y_): return -(y * np.log(y_ + 1e-9)).sum()\n",
    "\n",
    "eg_loss = L(eg_y, eg_y_)\n",
    "eg_loss"
   ]
  },
  {
   "cell_type": "markdown",
   "metadata": {},
   "source": [
    "## View example"
   ]
  },
  {
   "cell_type": "code",
   "execution_count": 26,
   "metadata": {},
   "outputs": [
    {
     "data": {
      "image/png": "[encoded data removed]",
      "text/plain": [
       "<Figure size 864x432 with 7 Axes>"
      ]
     },
     "metadata": {},
     "output_type": "display_data"
    }
   ],
   "source": [
    "i = np.random.choice(len(x_train))\n",
    "i = 0\n",
    "eg_x = x_train[i][:,None]\n",
    "eg_y = y_train[i]\n",
    "eg_w = np.random.normal(size=4*3).reshape((3,4)).round(2)\n",
    "eg_b = np.random.normal(size=3).round(2)\n",
    "\n",
    "utils.example(eg_x, eg_y, eg_w, eg_b)"
   ]
  },
  {
   "cell_type": "markdown",
   "metadata": {},
   "source": [
    "# Tensorflow"
   ]
  },
  {
   "cell_type": "markdown",
   "metadata": {},
   "source": [
    "Vamos a usar tensorflow para calcular automaticamente las gradientes de nuestras operaciones."
   ]
  },
  {
   "cell_type": "code",
   "execution_count": 27,
   "metadata": {},
   "outputs": [
    {
     "name": "stderr",
     "output_type": "stream",
     "text": [
      "/home/manuel/anaconda3/lib/python3.6/site-packages/h5py/__init__.py:36: FutureWarning:\n",
      "\n",
      "Conversion of the second argument of issubdtype from `float` to `np.floating` is deprecated. In future, it will be treated as `np.float64 == np.dtype(float).type`.\n",
      "\n"
     ]
    }
   ],
   "source": [
    "import tensorflow as tf\n",
    "\n",
    "# Iniciamos una session de tf, si no existe una\n",
    "if 'sess' not in locals(): sess = tf.InteractiveSession()\n",
    "\n",
    "# tf Graph Input\n",
    "X = tf.placeholder(tf.float32, shape=(None, 4))\n",
    "Y = tf.placeholder(tf.float32, shape=(None, 3))\n",
    "\n",
    "# Set model weights\n",
    "W = tf.Variable(tf.random_normal([4,3]))\n",
    "b = tf.Variable(tf.random_normal([3]))\n",
    "\n",
    "# Output\n",
    "# def f(x): return softmax((eg_w@x).ravel() + eg_b)\n",
    "y_ = tf.nn.softmax((X @ W) + b)\n",
    "\n",
    "# Loss\n",
    "# def L(y, y_): return -(y * np.log(y_ + 1e-9)).sum()\n",
    "loss = tf.reduce_mean(-tf.reduce_sum(Y * tf.log(y_ + 1e-9), axis=1))\n",
    "\n",
    "# Se inicializan las variables\n",
    "sess.run(tf.global_variables_initializer())"
   ]
  },
  {
   "cell_type": "code",
   "execution_count": 28,
   "metadata": {},
   "outputs": [
    {
     "data": {
      "text/plain": [
       "<tf.Variable 'Variable:0' shape=(4, 3) dtype=float32_ref>"
      ]
     },
     "execution_count": 28,
     "metadata": {},
     "output_type": "execute_result"
    }
   ],
   "source": [
    "W"
   ]
  },
  {
   "cell_type": "code",
   "execution_count": 29,
   "metadata": {},
   "outputs": [
    {
     "data": {
      "text/plain": [
       "array([[-1.3939749 ,  0.02321146,  0.84351903],\n",
       "       [-0.4583518 , -0.15884651,  0.22572751],\n",
       "       [-1.1258165 ,  0.9382907 ,  0.07228691],\n",
       "       [-0.37623242, -0.6337783 , -0.8529184 ]], dtype=float32)"
      ]
     },
     "execution_count": 29,
     "metadata": {},
     "output_type": "execute_result"
    }
   ],
   "source": [
    "W.eval()"
   ]
  },
  {
   "cell_type": "code",
   "execution_count": 30,
   "metadata": {},
   "outputs": [
    {
     "data": {
      "text/plain": [
       "<tf.Tensor 'Mean:0' shape=() dtype=float32>"
      ]
     },
     "execution_count": 30,
     "metadata": {},
     "output_type": "execute_result"
    }
   ],
   "source": [
    "loss"
   ]
  },
  {
   "cell_type": "code",
   "execution_count": 31,
   "metadata": {},
   "outputs": [
    {
     "ename": "InvalidArgumentError",
     "evalue": "You must feed a value for placeholder tensor 'Placeholder' with dtype float and shape [?,4]\n\t [[Node: Placeholder = Placeholder[dtype=DT_FLOAT, shape=[?,4], _device=\"/job:localhost/replica:0/task:0/device:CPU:0\"]()]]\n\nCaused by op 'Placeholder', defined at:\n  File \"/home/manuel/anaconda3/lib/python3.6/runpy.py\", line 193, in _run_module_as_main\n    \"__main__\", mod_spec)\n  File \"/home/manuel/anaconda3/lib/python3.6/runpy.py\", line 85, in _run_code\n    exec(code, run_globals)\n  File \"/home/manuel/anaconda3/lib/python3.6/site-packages/ipykernel_launcher.py\", line 16, in <module>\n    app.launch_new_instance()\n  File \"/home/manuel/anaconda3/lib/python3.6/site-packages/traitlets/config/application.py\", line 658, in launch_instance\n    app.start()\n  File \"/home/manuel/anaconda3/lib/python3.6/site-packages/ipykernel/kernelapp.py\", line 486, in start\n    self.io_loop.start()\n  File \"/home/manuel/anaconda3/lib/python3.6/site-packages/tornado/platform/asyncio.py\", line 127, in start\n    self.asyncio_loop.run_forever()\n  File \"/home/manuel/anaconda3/lib/python3.6/asyncio/base_events.py\", line 422, in run_forever\n    self._run_once()\n  File \"/home/manuel/anaconda3/lib/python3.6/asyncio/base_events.py\", line 1432, in _run_once\n    handle._run()\n  File \"/home/manuel/anaconda3/lib/python3.6/asyncio/events.py\", line 145, in _run\n    self._callback(*self._args)\n  File \"/home/manuel/anaconda3/lib/python3.6/site-packages/tornado/platform/asyncio.py\", line 117, in _handle_events\n    handler_func(fileobj, events)\n  File \"/home/manuel/anaconda3/lib/python3.6/site-packages/tornado/stack_context.py\", line 276, in null_wrapper\n    return fn(*args, **kwargs)\n  File \"/home/manuel/anaconda3/lib/python3.6/site-packages/zmq/eventloop/zmqstream.py\", line 450, in _handle_events\n    self._handle_recv()\n  File \"/home/manuel/anaconda3/lib/python3.6/site-packages/zmq/eventloop/zmqstream.py\", line 480, in _handle_recv\n    self._run_callback(callback, msg)\n  File \"/home/manuel/anaconda3/lib/python3.6/site-packages/zmq/eventloop/zmqstream.py\", line 432, in _run_callback\n    callback(*args, **kwargs)\n  File \"/home/manuel/anaconda3/lib/python3.6/site-packages/tornado/stack_context.py\", line 276, in null_wrapper\n    return fn(*args, **kwargs)\n  File \"/home/manuel/anaconda3/lib/python3.6/site-packages/ipykernel/kernelbase.py\", line 283, in dispatcher\n    return self.dispatch_shell(stream, msg)\n  File \"/home/manuel/anaconda3/lib/python3.6/site-packages/ipykernel/kernelbase.py\", line 233, in dispatch_shell\n    handler(stream, idents, msg)\n  File \"/home/manuel/anaconda3/lib/python3.6/site-packages/ipykernel/kernelbase.py\", line 399, in execute_request\n    user_expressions, allow_stdin)\n  File \"/home/manuel/anaconda3/lib/python3.6/site-packages/ipykernel/ipkernel.py\", line 208, in do_execute\n    res = shell.run_cell(code, store_history=store_history, silent=silent)\n  File \"/home/manuel/anaconda3/lib/python3.6/site-packages/ipykernel/zmqshell.py\", line 537, in run_cell\n    return super(ZMQInteractiveShell, self).run_cell(*args, **kwargs)\n  File \"/home/manuel/anaconda3/lib/python3.6/site-packages/IPython/core/interactiveshell.py\", line 2662, in run_cell\n    raw_cell, store_history, silent, shell_futures)\n  File \"/home/manuel/anaconda3/lib/python3.6/site-packages/IPython/core/interactiveshell.py\", line 2785, in _run_cell\n    interactivity=interactivity, compiler=compiler, result=result)\n  File \"/home/manuel/anaconda3/lib/python3.6/site-packages/IPython/core/interactiveshell.py\", line 2903, in run_ast_nodes\n    if self.run_code(code, result):\n  File \"/home/manuel/anaconda3/lib/python3.6/site-packages/IPython/core/interactiveshell.py\", line 2963, in run_code\n    exec(code_obj, self.user_global_ns, self.user_ns)\n  File \"<ipython-input-27-01cf3570a977>\", line 7, in <module>\n    X = tf.placeholder(tf.float32, shape=(None, 4))\n  File \"/home/manuel/anaconda3/lib/python3.6/site-packages/tensorflow/python/ops/array_ops.py\", line 1735, in placeholder\n    return gen_array_ops.placeholder(dtype=dtype, shape=shape, name=name)\n  File \"/home/manuel/anaconda3/lib/python3.6/site-packages/tensorflow/python/ops/gen_array_ops.py\", line 4925, in placeholder\n    \"Placeholder\", dtype=dtype, shape=shape, name=name)\n  File \"/home/manuel/anaconda3/lib/python3.6/site-packages/tensorflow/python/framework/op_def_library.py\", line 787, in _apply_op_helper\n    op_def=op_def)\n  File \"/home/manuel/anaconda3/lib/python3.6/site-packages/tensorflow/python/util/deprecation.py\", line 454, in new_func\n    return func(*args, **kwargs)\n  File \"/home/manuel/anaconda3/lib/python3.6/site-packages/tensorflow/python/framework/ops.py\", line 3155, in create_op\n    op_def=op_def)\n  File \"/home/manuel/anaconda3/lib/python3.6/site-packages/tensorflow/python/framework/ops.py\", line 1717, in __init__\n    self._traceback = tf_stack.extract_stack()\n\nInvalidArgumentError (see above for traceback): You must feed a value for placeholder tensor 'Placeholder' with dtype float and shape [?,4]\n\t [[Node: Placeholder = Placeholder[dtype=DT_FLOAT, shape=[?,4], _device=\"/job:localhost/replica:0/task:0/device:CPU:0\"]()]]\n",
     "output_type": "error",
     "traceback": [
      "\u001b[0;31m---------------------------------------------------------------------------\u001b[0m",
      "\u001b[0;31mInvalidArgumentError\u001b[0m                      Traceback (most recent call last)",
      "\u001b[0;32m~/anaconda3/lib/python3.6/site-packages/tensorflow/python/client/session.py\u001b[0m in \u001b[0;36m_do_call\u001b[0;34m(self, fn, *args)\u001b[0m\n\u001b[1;32m   1277\u001b[0m     \u001b[0;32mtry\u001b[0m\u001b[0;34m:\u001b[0m\u001b[0;34m\u001b[0m\u001b[0m\n\u001b[0;32m-> 1278\u001b[0;31m       \u001b[0;32mreturn\u001b[0m \u001b[0mfn\u001b[0m\u001b[0;34m(\u001b[0m\u001b[0;34m*\u001b[0m\u001b[0margs\u001b[0m\u001b[0;34m)\u001b[0m\u001b[0;34m\u001b[0m\u001b[0m\n\u001b[0m\u001b[1;32m   1279\u001b[0m     \u001b[0;32mexcept\u001b[0m \u001b[0merrors\u001b[0m\u001b[0;34m.\u001b[0m\u001b[0mOpError\u001b[0m \u001b[0;32mas\u001b[0m \u001b[0me\u001b[0m\u001b[0;34m:\u001b[0m\u001b[0;34m\u001b[0m\u001b[0m\n",
      "\u001b[0;32m~/anaconda3/lib/python3.6/site-packages/tensorflow/python/client/session.py\u001b[0m in \u001b[0;36m_run_fn\u001b[0;34m(feed_dict, fetch_list, target_list, options, run_metadata)\u001b[0m\n\u001b[1;32m   1262\u001b[0m       return self._call_tf_sessionrun(\n\u001b[0;32m-> 1263\u001b[0;31m           options, feed_dict, fetch_list, target_list, run_metadata)\n\u001b[0m\u001b[1;32m   1264\u001b[0m \u001b[0;34m\u001b[0m\u001b[0m\n",
      "\u001b[0;32m~/anaconda3/lib/python3.6/site-packages/tensorflow/python/client/session.py\u001b[0m in \u001b[0;36m_call_tf_sessionrun\u001b[0;34m(self, options, feed_dict, fetch_list, target_list, run_metadata)\u001b[0m\n\u001b[1;32m   1349\u001b[0m         \u001b[0mself\u001b[0m\u001b[0;34m.\u001b[0m\u001b[0m_session\u001b[0m\u001b[0;34m,\u001b[0m \u001b[0moptions\u001b[0m\u001b[0;34m,\u001b[0m \u001b[0mfeed_dict\u001b[0m\u001b[0;34m,\u001b[0m \u001b[0mfetch_list\u001b[0m\u001b[0;34m,\u001b[0m \u001b[0mtarget_list\u001b[0m\u001b[0;34m,\u001b[0m\u001b[0;34m\u001b[0m\u001b[0m\n\u001b[0;32m-> 1350\u001b[0;31m         run_metadata)\n\u001b[0m\u001b[1;32m   1351\u001b[0m \u001b[0;34m\u001b[0m\u001b[0m\n",
      "\u001b[0;31mInvalidArgumentError\u001b[0m: You must feed a value for placeholder tensor 'Placeholder' with dtype float and shape [?,4]\n\t [[Node: Placeholder = Placeholder[dtype=DT_FLOAT, shape=[?,4], _device=\"/job:localhost/replica:0/task:0/device:CPU:0\"]()]]",
      "\nDuring handling of the above exception, another exception occurred:\n",
      "\u001b[0;31mInvalidArgumentError\u001b[0m                      Traceback (most recent call last)",
      "\u001b[0;32m<ipython-input-31-dd3f6fd346b3>\u001b[0m in \u001b[0;36m<module>\u001b[0;34m()\u001b[0m\n\u001b[1;32m      1\u001b[0m \u001b[0;31m# Si ejecutamos esta linea, tendremos un error dado que tenemos que especificar\u001b[0m\u001b[0;34m\u001b[0m\u001b[0;34m\u001b[0m\u001b[0m\n\u001b[1;32m      2\u001b[0m \u001b[0;31m# los valores de X e Y, que son necesarios para calcular la perdida.\u001b[0m\u001b[0;34m\u001b[0m\u001b[0;34m\u001b[0m\u001b[0m\n\u001b[0;32m----> 3\u001b[0;31m \u001b[0mloss\u001b[0m\u001b[0;34m.\u001b[0m\u001b[0meval\u001b[0m\u001b[0;34m(\u001b[0m\u001b[0;34m)\u001b[0m\u001b[0;34m\u001b[0m\u001b[0m\n\u001b[0m",
      "\u001b[0;32m~/anaconda3/lib/python3.6/site-packages/tensorflow/python/framework/ops.py\u001b[0m in \u001b[0;36meval\u001b[0;34m(self, feed_dict, session)\u001b[0m\n\u001b[1;32m    678\u001b[0m \u001b[0;34m\u001b[0m\u001b[0m\n\u001b[1;32m    679\u001b[0m     \"\"\"\n\u001b[0;32m--> 680\u001b[0;31m     \u001b[0;32mreturn\u001b[0m \u001b[0m_eval_using_default_session\u001b[0m\u001b[0;34m(\u001b[0m\u001b[0mself\u001b[0m\u001b[0;34m,\u001b[0m \u001b[0mfeed_dict\u001b[0m\u001b[0;34m,\u001b[0m \u001b[0mself\u001b[0m\u001b[0;34m.\u001b[0m\u001b[0mgraph\u001b[0m\u001b[0;34m,\u001b[0m \u001b[0msession\u001b[0m\u001b[0;34m)\u001b[0m\u001b[0;34m\u001b[0m\u001b[0m\n\u001b[0m\u001b[1;32m    681\u001b[0m \u001b[0;34m\u001b[0m\u001b[0m\n\u001b[1;32m    682\u001b[0m \u001b[0;34m\u001b[0m\u001b[0m\n",
      "\u001b[0;32m~/anaconda3/lib/python3.6/site-packages/tensorflow/python/framework/ops.py\u001b[0m in \u001b[0;36m_eval_using_default_session\u001b[0;34m(tensors, feed_dict, graph, session)\u001b[0m\n\u001b[1;32m   4949\u001b[0m                        \u001b[0;34m\"the tensor's graph is different from the session's \"\u001b[0m\u001b[0;34m\u001b[0m\u001b[0m\n\u001b[1;32m   4950\u001b[0m                        \"graph.\")\n\u001b[0;32m-> 4951\u001b[0;31m   \u001b[0;32mreturn\u001b[0m \u001b[0msession\u001b[0m\u001b[0;34m.\u001b[0m\u001b[0mrun\u001b[0m\u001b[0;34m(\u001b[0m\u001b[0mtensors\u001b[0m\u001b[0;34m,\u001b[0m \u001b[0mfeed_dict\u001b[0m\u001b[0;34m)\u001b[0m\u001b[0;34m\u001b[0m\u001b[0m\n\u001b[0m\u001b[1;32m   4952\u001b[0m \u001b[0;34m\u001b[0m\u001b[0m\n\u001b[1;32m   4953\u001b[0m \u001b[0;34m\u001b[0m\u001b[0m\n",
      "\u001b[0;32m~/anaconda3/lib/python3.6/site-packages/tensorflow/python/client/session.py\u001b[0m in \u001b[0;36mrun\u001b[0;34m(self, fetches, feed_dict, options, run_metadata)\u001b[0m\n\u001b[1;32m    875\u001b[0m     \u001b[0;32mtry\u001b[0m\u001b[0;34m:\u001b[0m\u001b[0;34m\u001b[0m\u001b[0m\n\u001b[1;32m    876\u001b[0m       result = self._run(None, fetches, feed_dict, options_ptr,\n\u001b[0;32m--> 877\u001b[0;31m                          run_metadata_ptr)\n\u001b[0m\u001b[1;32m    878\u001b[0m       \u001b[0;32mif\u001b[0m \u001b[0mrun_metadata\u001b[0m\u001b[0;34m:\u001b[0m\u001b[0;34m\u001b[0m\u001b[0m\n\u001b[1;32m    879\u001b[0m         \u001b[0mproto_data\u001b[0m \u001b[0;34m=\u001b[0m \u001b[0mtf_session\u001b[0m\u001b[0;34m.\u001b[0m\u001b[0mTF_GetBuffer\u001b[0m\u001b[0;34m(\u001b[0m\u001b[0mrun_metadata_ptr\u001b[0m\u001b[0;34m)\u001b[0m\u001b[0;34m\u001b[0m\u001b[0m\n",
      "\u001b[0;32m~/anaconda3/lib/python3.6/site-packages/tensorflow/python/client/session.py\u001b[0m in \u001b[0;36m_run\u001b[0;34m(self, handle, fetches, feed_dict, options, run_metadata)\u001b[0m\n\u001b[1;32m   1098\u001b[0m     \u001b[0;32mif\u001b[0m \u001b[0mfinal_fetches\u001b[0m \u001b[0;32mor\u001b[0m \u001b[0mfinal_targets\u001b[0m \u001b[0;32mor\u001b[0m \u001b[0;34m(\u001b[0m\u001b[0mhandle\u001b[0m \u001b[0;32mand\u001b[0m \u001b[0mfeed_dict_tensor\u001b[0m\u001b[0;34m)\u001b[0m\u001b[0;34m:\u001b[0m\u001b[0;34m\u001b[0m\u001b[0m\n\u001b[1;32m   1099\u001b[0m       results = self._do_run(handle, final_targets, final_fetches,\n\u001b[0;32m-> 1100\u001b[0;31m                              feed_dict_tensor, options, run_metadata)\n\u001b[0m\u001b[1;32m   1101\u001b[0m     \u001b[0;32melse\u001b[0m\u001b[0;34m:\u001b[0m\u001b[0;34m\u001b[0m\u001b[0m\n\u001b[1;32m   1102\u001b[0m       \u001b[0mresults\u001b[0m \u001b[0;34m=\u001b[0m \u001b[0;34m[\u001b[0m\u001b[0;34m]\u001b[0m\u001b[0;34m\u001b[0m\u001b[0m\n",
      "\u001b[0;32m~/anaconda3/lib/python3.6/site-packages/tensorflow/python/client/session.py\u001b[0m in \u001b[0;36m_do_run\u001b[0;34m(self, handle, target_list, fetch_list, feed_dict, options, run_metadata)\u001b[0m\n\u001b[1;32m   1270\u001b[0m     \u001b[0;32mif\u001b[0m \u001b[0mhandle\u001b[0m \u001b[0;32mis\u001b[0m \u001b[0;32mNone\u001b[0m\u001b[0;34m:\u001b[0m\u001b[0;34m\u001b[0m\u001b[0m\n\u001b[1;32m   1271\u001b[0m       return self._do_call(_run_fn, feeds, fetches, targets, options,\n\u001b[0;32m-> 1272\u001b[0;31m                            run_metadata)\n\u001b[0m\u001b[1;32m   1273\u001b[0m     \u001b[0;32melse\u001b[0m\u001b[0;34m:\u001b[0m\u001b[0;34m\u001b[0m\u001b[0m\n\u001b[1;32m   1274\u001b[0m       \u001b[0;32mreturn\u001b[0m \u001b[0mself\u001b[0m\u001b[0;34m.\u001b[0m\u001b[0m_do_call\u001b[0m\u001b[0;34m(\u001b[0m\u001b[0m_prun_fn\u001b[0m\u001b[0;34m,\u001b[0m \u001b[0mhandle\u001b[0m\u001b[0;34m,\u001b[0m \u001b[0mfeeds\u001b[0m\u001b[0;34m,\u001b[0m \u001b[0mfetches\u001b[0m\u001b[0;34m)\u001b[0m\u001b[0;34m\u001b[0m\u001b[0m\n",
      "\u001b[0;32m~/anaconda3/lib/python3.6/site-packages/tensorflow/python/client/session.py\u001b[0m in \u001b[0;36m_do_call\u001b[0;34m(self, fn, *args)\u001b[0m\n\u001b[1;32m   1289\u001b[0m         \u001b[0;32mexcept\u001b[0m \u001b[0mKeyError\u001b[0m\u001b[0;34m:\u001b[0m\u001b[0;34m\u001b[0m\u001b[0m\n\u001b[1;32m   1290\u001b[0m           \u001b[0;32mpass\u001b[0m\u001b[0;34m\u001b[0m\u001b[0m\n\u001b[0;32m-> 1291\u001b[0;31m       \u001b[0;32mraise\u001b[0m \u001b[0mtype\u001b[0m\u001b[0;34m(\u001b[0m\u001b[0me\u001b[0m\u001b[0;34m)\u001b[0m\u001b[0;34m(\u001b[0m\u001b[0mnode_def\u001b[0m\u001b[0;34m,\u001b[0m \u001b[0mop\u001b[0m\u001b[0;34m,\u001b[0m \u001b[0mmessage\u001b[0m\u001b[0;34m)\u001b[0m\u001b[0;34m\u001b[0m\u001b[0m\n\u001b[0m\u001b[1;32m   1292\u001b[0m \u001b[0;34m\u001b[0m\u001b[0m\n\u001b[1;32m   1293\u001b[0m   \u001b[0;32mdef\u001b[0m \u001b[0m_extend_graph\u001b[0m\u001b[0;34m(\u001b[0m\u001b[0mself\u001b[0m\u001b[0;34m)\u001b[0m\u001b[0;34m:\u001b[0m\u001b[0;34m\u001b[0m\u001b[0m\n",
      "\u001b[0;31mInvalidArgumentError\u001b[0m: You must feed a value for placeholder tensor 'Placeholder' with dtype float and shape [?,4]\n\t [[Node: Placeholder = Placeholder[dtype=DT_FLOAT, shape=[?,4], _device=\"/job:localhost/replica:0/task:0/device:CPU:0\"]()]]\n\nCaused by op 'Placeholder', defined at:\n  File \"/home/manuel/anaconda3/lib/python3.6/runpy.py\", line 193, in _run_module_as_main\n    \"__main__\", mod_spec)\n  File \"/home/manuel/anaconda3/lib/python3.6/runpy.py\", line 85, in _run_code\n    exec(code, run_globals)\n  File \"/home/manuel/anaconda3/lib/python3.6/site-packages/ipykernel_launcher.py\", line 16, in <module>\n    app.launch_new_instance()\n  File \"/home/manuel/anaconda3/lib/python3.6/site-packages/traitlets/config/application.py\", line 658, in launch_instance\n    app.start()\n  File \"/home/manuel/anaconda3/lib/python3.6/site-packages/ipykernel/kernelapp.py\", line 486, in start\n    self.io_loop.start()\n  File \"/home/manuel/anaconda3/lib/python3.6/site-packages/tornado/platform/asyncio.py\", line 127, in start\n    self.asyncio_loop.run_forever()\n  File \"/home/manuel/anaconda3/lib/python3.6/asyncio/base_events.py\", line 422, in run_forever\n    self._run_once()\n  File \"/home/manuel/anaconda3/lib/python3.6/asyncio/base_events.py\", line 1432, in _run_once\n    handle._run()\n  File \"/home/manuel/anaconda3/lib/python3.6/asyncio/events.py\", line 145, in _run\n    self._callback(*self._args)\n  File \"/home/manuel/anaconda3/lib/python3.6/site-packages/tornado/platform/asyncio.py\", line 117, in _handle_events\n    handler_func(fileobj, events)\n  File \"/home/manuel/anaconda3/lib/python3.6/site-packages/tornado/stack_context.py\", line 276, in null_wrapper\n    return fn(*args, **kwargs)\n  File \"/home/manuel/anaconda3/lib/python3.6/site-packages/zmq/eventloop/zmqstream.py\", line 450, in _handle_events\n    self._handle_recv()\n  File \"/home/manuel/anaconda3/lib/python3.6/site-packages/zmq/eventloop/zmqstream.py\", line 480, in _handle_recv\n    self._run_callback(callback, msg)\n  File \"/home/manuel/anaconda3/lib/python3.6/site-packages/zmq/eventloop/zmqstream.py\", line 432, in _run_callback\n    callback(*args, **kwargs)\n  File \"/home/manuel/anaconda3/lib/python3.6/site-packages/tornado/stack_context.py\", line 276, in null_wrapper\n    return fn(*args, **kwargs)\n  File \"/home/manuel/anaconda3/lib/python3.6/site-packages/ipykernel/kernelbase.py\", line 283, in dispatcher\n    return self.dispatch_shell(stream, msg)\n  File \"/home/manuel/anaconda3/lib/python3.6/site-packages/ipykernel/kernelbase.py\", line 233, in dispatch_shell\n    handler(stream, idents, msg)\n  File \"/home/manuel/anaconda3/lib/python3.6/site-packages/ipykernel/kernelbase.py\", line 399, in execute_request\n    user_expressions, allow_stdin)\n  File \"/home/manuel/anaconda3/lib/python3.6/site-packages/ipykernel/ipkernel.py\", line 208, in do_execute\n    res = shell.run_cell(code, store_history=store_history, silent=silent)\n  File \"/home/manuel/anaconda3/lib/python3.6/site-packages/ipykernel/zmqshell.py\", line 537, in run_cell\n    return super(ZMQInteractiveShell, self).run_cell(*args, **kwargs)\n  File \"/home/manuel/anaconda3/lib/python3.6/site-packages/IPython/core/interactiveshell.py\", line 2662, in run_cell\n    raw_cell, store_history, silent, shell_futures)\n  File \"/home/manuel/anaconda3/lib/python3.6/site-packages/IPython/core/interactiveshell.py\", line 2785, in _run_cell\n    interactivity=interactivity, compiler=compiler, result=result)\n  File \"/home/manuel/anaconda3/lib/python3.6/site-packages/IPython/core/interactiveshell.py\", line 2903, in run_ast_nodes\n    if self.run_code(code, result):\n  File \"/home/manuel/anaconda3/lib/python3.6/site-packages/IPython/core/interactiveshell.py\", line 2963, in run_code\n    exec(code_obj, self.user_global_ns, self.user_ns)\n  File \"<ipython-input-27-01cf3570a977>\", line 7, in <module>\n    X = tf.placeholder(tf.float32, shape=(None, 4))\n  File \"/home/manuel/anaconda3/lib/python3.6/site-packages/tensorflow/python/ops/array_ops.py\", line 1735, in placeholder\n    return gen_array_ops.placeholder(dtype=dtype, shape=shape, name=name)\n  File \"/home/manuel/anaconda3/lib/python3.6/site-packages/tensorflow/python/ops/gen_array_ops.py\", line 4925, in placeholder\n    \"Placeholder\", dtype=dtype, shape=shape, name=name)\n  File \"/home/manuel/anaconda3/lib/python3.6/site-packages/tensorflow/python/framework/op_def_library.py\", line 787, in _apply_op_helper\n    op_def=op_def)\n  File \"/home/manuel/anaconda3/lib/python3.6/site-packages/tensorflow/python/util/deprecation.py\", line 454, in new_func\n    return func(*args, **kwargs)\n  File \"/home/manuel/anaconda3/lib/python3.6/site-packages/tensorflow/python/framework/ops.py\", line 3155, in create_op\n    op_def=op_def)\n  File \"/home/manuel/anaconda3/lib/python3.6/site-packages/tensorflow/python/framework/ops.py\", line 1717, in __init__\n    self._traceback = tf_stack.extract_stack()\n\nInvalidArgumentError (see above for traceback): You must feed a value for placeholder tensor 'Placeholder' with dtype float and shape [?,4]\n\t [[Node: Placeholder = Placeholder[dtype=DT_FLOAT, shape=[?,4], _device=\"/job:localhost/replica:0/task:0/device:CPU:0\"]()]]\n"
     ]
    }
   ],
   "source": [
    "# Si ejecutamos esta linea, tendremos un error dado que tenemos que especificar\n",
    "# los valores de X e Y, que son necesarios para calcular la perdida.\n",
    "loss.eval()"
   ]
  },
  {
   "cell_type": "code",
   "execution_count": 32,
   "metadata": {},
   "outputs": [
    {
     "data": {
      "text/plain": [
       "11.312658"
      ]
     },
     "execution_count": 32,
     "metadata": {},
     "output_type": "execute_result"
    }
   ],
   "source": [
    "# Obtenemos la perdida con los primeros 5 ejemplos\n",
    "sess.run(loss, feed_dict={X: x_train[:5], Y:y_train[:5]})"
   ]
  },
  {
   "cell_type": "code",
   "execution_count": 33,
   "metadata": {},
   "outputs": [
    {
     "data": {
      "text/plain": [
       "[array([[-3.8883476 , -1.0938337 ,  4.9821815 ],\n",
       "        [-2.911059  , -0.4785728 ,  3.3896317 ],\n",
       "        [-1.0768864 , -0.75523347,  1.83212   ],\n",
       "        [-0.19921532, -0.24477468,  0.44399002]], dtype=float32)]"
      ]
     },
     "execution_count": 33,
     "metadata": {},
     "output_type": "execute_result"
    }
   ],
   "source": [
    "# vemos las gradientes\n",
    "sess.run(tf.gradients(loss, W), feed_dict={X: x_train[:5], Y:y_train[:5]})"
   ]
  },
  {
   "cell_type": "markdown",
   "metadata": {},
   "source": [
    "## Optimizacion: Mini-batch gradient descent"
   ]
  },
  {
   "cell_type": "code",
   "execution_count": 34,
   "metadata": {},
   "outputs": [
    {
     "data": {
      "text/plain": [
       "4"
      ]
     },
     "execution_count": 34,
     "metadata": {},
     "output_type": "execute_result"
    }
   ],
   "source": [
    "# Params\n",
    "bs = 32 # Batch size\n",
    "epochs = 25\n",
    "lr = 0.1\n",
    "optimizer = tf.train.GradientDescentOptimizer(lr).minimize(loss)\n",
    "nb = math.ceil(len(x_train) / bs)\n",
    "nb # Numero de batches por epoch"
   ]
  },
  {
   "cell_type": "code",
   "execution_count": 35,
   "metadata": {},
   "outputs": [
    {
     "data": {
      "application/vnd.jupyter.widget-view+json": {
       "model_id": "dd9685394a094b79b54921fd4cb11bbe",
       "version_major": 2,
       "version_minor": 0
      },
      "text/plain": [
       "HBox(children=(IntProgress(value=0, max=25), HTML(value='')))"
      ]
     },
     "metadata": {},
     "output_type": "display_data"
    },
    {
     "name": "stdout",
     "output_type": "stream",
     "text": [
      "\n"
     ]
    },
    {
     "data": {
      "image/png": "[encoded data removed]",
      "text/plain": [
       "<Figure size 432x288 with 1 Axes>"
      ]
     },
     "metadata": {},
     "output_type": "display_data"
    }
   ],
   "source": [
    "# Train loop\n",
    "train_losses = []\n",
    "val_losses = []\n",
    "\n",
    "for epoch in tnrange(epochs):\n",
    "    # Cada epoch es un recorrido por todo el train set\n",
    "    for i in range(nb):\n",
    "        batch_x = x_train[i*bs:(i+1)*bs]\n",
    "        batch_y = y_train[i*bs:(i+1)*bs]\n",
    "        sess.run(optimizer, feed_dict={X: batch_x, Y:batch_y})\n",
    "\n",
    "    # Calculamos la perdida en el train y validation set luego de cada epoch\n",
    "    train_loss = sess.run(loss, feed_dict={X: x_train, Y:y_train})\n",
    "    train_losses.append(train_loss)\n",
    "    val_loss = sess.run(loss, feed_dict={X: x_val, Y:y_val})\n",
    "    val_losses.append(val_loss)\n",
    "\n",
    "plt.plot(train_losses, label='train')\n",
    "plt.plot(val_losses, label='validation')\n",
    "plt.legend();"
   ]
  },
  {
   "cell_type": "markdown",
   "metadata": {},
   "source": [
    "## Veamos el resultado"
   ]
  },
  {
   "cell_type": "code",
   "execution_count": 36,
   "metadata": {},
   "outputs": [
    {
     "data": {
      "text/plain": [
       "0.5961635"
      ]
     },
     "execution_count": 36,
     "metadata": {},
     "output_type": "execute_result"
    }
   ],
   "source": [
    "pred, pred_loss = sess.run([y_, loss], feed_dict={X: x_val, Y:y_val})\n",
    "pred_loss"
   ]
  },
  {
   "cell_type": "code",
   "execution_count": 37,
   "metadata": {},
   "outputs": [
    {
     "data": {
      "text/plain": [
       "(array([0., 1., 0.]),\n",
       " array([0.01604017, 0.14354417, 0.84041566], dtype=float32))"
      ]
     },
     "execution_count": 37,
     "metadata": {},
     "output_type": "execute_result"
    }
   ],
   "source": [
    "y_val[0], pred[0]"
   ]
  },
  {
   "cell_type": "code",
   "execution_count": 38,
   "metadata": {},
   "outputs": [
    {
     "data": {
      "text/plain": [
       "(1, 2)"
      ]
     },
     "execution_count": 38,
     "metadata": {},
     "output_type": "execute_result"
    }
   ],
   "source": [
    "# Para obtener las predicciones finales vamos a usar np.argmax,\n",
    "# que devuelve el indice con el mayor valor\n",
    "np.argmax(y_val[0]), np.argmax(pred[0])"
   ]
  },
  {
   "cell_type": "code",
   "execution_count": 41,
   "metadata": {},
   "outputs": [
    {
     "data": {
      "text/plain": [
       "(array([1, 0, 2, 1, 1, 0, 1, 2, 1, 1]), array([2, 0, 2, 2, 2, 0, 2, 2, 2, 2]))"
      ]
     },
     "execution_count": 41,
     "metadata": {},
     "output_type": "execute_result"
    }
   ],
   "source": [
    "# Obtenemos todos los labels\n",
    "real_labels = np.argmax(y_val, axis=1)\n",
    "pred_labels = np.argmax(pred, axis=1)\n",
    "real_labels[:10], pred_labels[:10]"
   ]
  },
  {
   "cell_type": "code",
   "execution_count": 42,
   "metadata": {},
   "outputs": [
    {
     "data": {
      "text/plain": [
       "0.7"
      ]
     },
     "execution_count": 42,
     "metadata": {},
     "output_type": "execute_result"
    }
   ],
   "source": [
    "# Vamos a usar una metrica de accuracy para comparar los resultados\n",
    "pred_acc = (real_labels == pred_labels).mean()\n",
    "pred_acc"
   ]
  },
  {
   "cell_type": "code",
   "execution_count": 43,
   "metadata": {},
   "outputs": [
    {
     "name": "stdout",
     "output_type": "stream",
     "text": [
      "Loss = 0.60\n",
      "Accuracy = 0.70\n"
     ]
    }
   ],
   "source": [
    "print(f'Loss = {pred_loss:.2f}\\nAccuracy = {pred_acc:.2f}')"
   ]
  },
  {
   "cell_type": "markdown",
   "metadata": {},
   "source": [
    "# Keras"
   ]
  },
  {
   "cell_type": "markdown",
   "metadata": {},
   "source": [
    "Ahora vamos a ver el codigo equivalente usando keras."
   ]
  },
  {
   "cell_type": "code",
   "execution_count": 44,
   "metadata": {},
   "outputs": [
    {
     "name": "stdout",
     "output_type": "stream",
     "text": [
      "_________________________________________________________________\n",
      "Layer (type)                 Output Shape              Param #   \n",
      "=================================================================\n",
      "dense_1 (Dense)              (None, 3)                 15        \n",
      "=================================================================\n",
      "Total params: 15\n",
      "Trainable params: 15\n",
      "Non-trainable params: 0\n",
      "_________________________________________________________________\n"
     ]
    },
    {
     "name": "stderr",
     "output_type": "stream",
     "text": [
      "Using TensorFlow backend.\n"
     ]
    }
   ],
   "source": [
    "import keras\n",
    "from keras.layers import Dense\n",
    "from keras.models import Sequential\n",
    "from keras.optimizers import SGD\n",
    "\n",
    "# Params\n",
    "bs = 32 # Batch size\n",
    "epochs = 25\n",
    "lr = 0.1\n",
    "\n",
    "# Modelo\n",
    "model = Sequential()\n",
    "model.add(Dense(3, activation='softmax', input_shape=(4,)))\n",
    "\n",
    "model.compile(optimizer=SGD(lr), loss='categorical_crossentropy', metrics=['accuracy'])\n",
    "\n",
    "model.summary()"
   ]
  },
  {
   "cell_type": "code",
   "execution_count": 45,
   "metadata": {
    "scrolled": true
   },
   "outputs": [
    {
     "name": "stdout",
     "output_type": "stream",
     "text": [
      "Train on 120 samples, validate on 30 samples\n",
      "Epoch 1/25\n",
      "120/120 [==============================] - 0s 468us/step - loss: 3.1179 - acc: 0.3583 - val_loss: 0.8858 - val_acc: 0.5000\n",
      "Epoch 2/25\n",
      "120/120 [==============================] - 0s 66us/step - loss: 0.7992 - acc: 0.6000 - val_loss: 0.9868 - val_acc: 0.6333\n",
      "Epoch 3/25\n",
      "120/120 [==============================] - 0s 106us/step - loss: 0.8784 - acc: 0.6250 - val_loss: 1.3607 - val_acc: 0.6333\n",
      "Epoch 4/25\n",
      "120/120 [==============================] - 0s 70us/step - loss: 1.2071 - acc: 0.6250 - val_loss: 0.9084 - val_acc: 0.6333\n",
      "Epoch 5/25\n",
      "120/120 [==============================] - 0s 58us/step - loss: 0.7162 - acc: 0.7083 - val_loss: 0.7615 - val_acc: 0.6333\n",
      "Epoch 6/25\n",
      "120/120 [==============================] - 0s 106us/step - loss: 0.6176 - acc: 0.6583 - val_loss: 0.8301 - val_acc: 0.6333\n",
      "Epoch 7/25\n",
      "120/120 [==============================] - 0s 50us/step - loss: 0.5697 - acc: 0.7083 - val_loss: 0.5339 - val_acc: 0.7333\n",
      "Epoch 8/25\n",
      "120/120 [==============================] - 0s 75us/step - loss: 0.5968 - acc: 0.6917 - val_loss: 0.5617 - val_acc: 0.6333\n",
      "Epoch 9/25\n",
      "120/120 [==============================] - 0s 74us/step - loss: 0.8284 - acc: 0.6250 - val_loss: 1.4501 - val_acc: 0.6333\n",
      "Epoch 10/25\n",
      "120/120 [==============================] - 0s 121us/step - loss: 0.6552 - acc: 0.7583 - val_loss: 0.5699 - val_acc: 0.6333\n",
      "Epoch 11/25\n",
      "120/120 [==============================] - 0s 71us/step - loss: 0.5157 - acc: 0.7250 - val_loss: 1.1425 - val_acc: 0.7000\n",
      "Epoch 12/25\n",
      "120/120 [==============================] - 0s 60us/step - loss: 0.6933 - acc: 0.7083 - val_loss: 0.4771 - val_acc: 0.7000\n",
      "Epoch 13/25\n",
      "120/120 [==============================] - 0s 114us/step - loss: 0.4786 - acc: 0.7250 - val_loss: 0.4447 - val_acc: 0.8333\n",
      "Epoch 14/25\n",
      "120/120 [==============================] - 0s 84us/step - loss: 0.5683 - acc: 0.6917 - val_loss: 0.4673 - val_acc: 0.7000\n",
      "Epoch 15/25\n",
      "120/120 [==============================] - 0s 59us/step - loss: 0.4382 - acc: 0.7917 - val_loss: 0.4356 - val_acc: 0.8333\n",
      "Epoch 16/25\n",
      "120/120 [==============================] - 0s 62us/step - loss: 0.5177 - acc: 0.7417 - val_loss: 0.5208 - val_acc: 0.7000\n",
      "Epoch 17/25\n",
      "120/120 [==============================] - 0s 82us/step - loss: 0.5730 - acc: 0.6833 - val_loss: 0.7817 - val_acc: 0.7000\n",
      "Epoch 18/25\n",
      "120/120 [==============================] - 0s 71us/step - loss: 0.6067 - acc: 0.7333 - val_loss: 0.4037 - val_acc: 0.8333\n",
      "Epoch 19/25\n",
      "120/120 [==============================] - 0s 74us/step - loss: 0.5683 - acc: 0.7250 - val_loss: 0.6372 - val_acc: 0.7000\n",
      "Epoch 20/25\n",
      "120/120 [==============================] - 0s 52us/step - loss: 0.4710 - acc: 0.8167 - val_loss: 0.3898 - val_acc: 0.8333\n",
      "Epoch 21/25\n",
      "120/120 [==============================] - 0s 61us/step - loss: 0.4108 - acc: 0.8417 - val_loss: 0.9689 - val_acc: 0.6333\n",
      "Epoch 22/25\n",
      "120/120 [==============================] - 0s 55us/step - loss: 0.4852 - acc: 0.7833 - val_loss: 0.4111 - val_acc: 0.9000\n",
      "Epoch 23/25\n",
      "120/120 [==============================] - 0s 78us/step - loss: 0.3730 - acc: 0.8833 - val_loss: 0.3841 - val_acc: 0.9000\n",
      "Epoch 24/25\n",
      "120/120 [==============================] - 0s 69us/step - loss: 0.4469 - acc: 0.7750 - val_loss: 0.3763 - val_acc: 0.9000\n",
      "Epoch 25/25\n",
      "120/120 [==============================] - 0s 91us/step - loss: 0.4662 - acc: 0.7833 - val_loss: 0.5328 - val_acc: 0.6333\n"
     ]
    }
   ],
   "source": [
    "# Entrenamiento\n",
    "log = model.fit(x_train, y_train, batch_size=bs, epochs=epochs, validation_data=[x_val, y_val])"
   ]
  },
  {
   "cell_type": "code",
   "execution_count": 47,
   "metadata": {},
   "outputs": [
    {
     "data": {
      "text/plain": [
       "{'val_loss': [0.8858291506767273,\n",
       "  0.9868078827857971,\n",
       "  1.3607330322265625,\n",
       "  0.9083755612373352,\n",
       "  0.7615073323249817,\n",
       "  0.8301265835762024,\n",
       "  0.5339279770851135,\n",
       "  0.5616985559463501,\n",
       "  1.4501030445098877,\n",
       "  0.5698545575141907,\n",
       "  1.1424915790557861,\n",
       "  0.4771072268486023,\n",
       "  0.44468334317207336,\n",
       "  0.4672784209251404,\n",
       "  0.4355997145175934,\n",
       "  0.5208075046539307,\n",
       "  0.7817392945289612,\n",
       "  0.4036843180656433,\n",
       "  0.6372350454330444,\n",
       "  0.38984569907188416,\n",
       "  0.9689329266548157,\n",
       "  0.4111267328262329,\n",
       "  0.3840949833393097,\n",
       "  0.37626850605010986,\n",
       "  0.5327864289283752],\n",
       " 'val_acc': [0.5,\n",
       "  0.6333333253860474,\n",
       "  0.6333333253860474,\n",
       "  0.6333333253860474,\n",
       "  0.6333333253860474,\n",
       "  0.6333333253860474,\n",
       "  0.7333333492279053,\n",
       "  0.6333333253860474,\n",
       "  0.6333333253860474,\n",
       "  0.6333333253860474,\n",
       "  0.699999988079071,\n",
       "  0.699999988079071,\n",
       "  0.8333333134651184,\n",
       "  0.699999988079071,\n",
       "  0.8333333134651184,\n",
       "  0.699999988079071,\n",
       "  0.699999988079071,\n",
       "  0.8333333134651184,\n",
       "  0.699999988079071,\n",
       "  0.8333333134651184,\n",
       "  0.6333333253860474,\n",
       "  0.8999999761581421,\n",
       "  0.8999999761581421,\n",
       "  0.8999999761581421,\n",
       "  0.6333333253860474],\n",
       " 'loss': [3.117888323465983,\n",
       "  0.7992409745852153,\n",
       "  0.8784332990646362,\n",
       "  1.207058596611023,\n",
       "  0.716195152203242,\n",
       "  0.6176175594329834,\n",
       "  0.5696524103482564,\n",
       "  0.5967798590660095,\n",
       "  0.8284342845280965,\n",
       "  0.6552025119463603,\n",
       "  0.5157483498255412,\n",
       "  0.6933372358481089,\n",
       "  0.4785731474558512,\n",
       "  0.5683421691258749,\n",
       "  0.43815011779467267,\n",
       "  0.5177110354105632,\n",
       "  0.5730292836825053,\n",
       "  0.6066875000794728,\n",
       "  0.5682546893755595,\n",
       "  0.4709876994291941,\n",
       "  0.41080422401428224,\n",
       "  0.485233211517334,\n",
       "  0.37304582397143043,\n",
       "  0.44693079590797424,\n",
       "  0.4662134846051534],\n",
       " 'acc': [0.3583333343267441,\n",
       "  0.6,\n",
       "  0.625000003973643,\n",
       "  0.624999996026357,\n",
       "  0.7083333333333334,\n",
       "  0.6583333373069763,\n",
       "  0.7083333333333334,\n",
       "  0.6916666626930237,\n",
       "  0.625000003973643,\n",
       "  0.7583333333333333,\n",
       "  0.725,\n",
       "  0.7083333373069763,\n",
       "  0.725,\n",
       "  0.6916666626930237,\n",
       "  0.7916666666666666,\n",
       "  0.7416666706403097,\n",
       "  0.6833333333333333,\n",
       "  0.7333333373069764,\n",
       "  0.725000003973643,\n",
       "  0.8166666666666667,\n",
       "  0.8416666706403096,\n",
       "  0.7833333373069763,\n",
       "  0.8833333373069763,\n",
       "  0.775,\n",
       "  0.7833333373069763]}"
      ]
     },
     "execution_count": 47,
     "metadata": {},
     "output_type": "execute_result"
    }
   ],
   "source": [
    "log.history"
   ]
  },
  {
   "cell_type": "code",
   "execution_count": 46,
   "metadata": {},
   "outputs": [
    {
     "data": {
      "image/png": "[encoded data removed]",
      "text/plain": [
       "<Figure size 432x288 with 1 Axes>"
      ]
     },
     "metadata": {},
     "output_type": "display_data"
    }
   ],
   "source": [
    "plt.plot(log.history['loss'], label='train')\n",
    "plt.plot(log.history['val_loss'], label='validation')\n",
    "plt.legend();"
   ]
  },
  {
   "cell_type": "markdown",
   "metadata": {},
   "source": [
    "## Resultados"
   ]
  },
  {
   "cell_type": "code",
   "execution_count": 48,
   "metadata": {},
   "outputs": [
    {
     "name": "stdout",
     "output_type": "stream",
     "text": [
      "30/30 [==============================] - 0s 20us/step\n",
      "Loss = 0.53\n",
      "Accuracy = 0.63\n"
     ]
    }
   ],
   "source": [
    "val_loss, val_acc = model.evaluate(x_val, y_val)\n",
    "print(f'Loss = {val_loss:.2f}\\nAccuracy = {val_acc:.2f}')"
   ]
  },
  {
   "cell_type": "markdown",
   "metadata": {},
   "source": [
    "# Redes Neuronales"
   ]
  },
  {
   "cell_type": "code",
   "execution_count": 50,
   "metadata": {},
   "outputs": [],
   "source": [
    "i = np.random.choice(len(x_train))\n",
    "i = 0\n",
    "eg_x = x_train[i][:,None]\n",
    "eg_y = y_train[i]\n",
    "eg_w = np.random.normal(size=4*3).reshape((3,4))\n",
    "eg_b = np.random.normal(size=3)"
   ]
  },
  {
   "cell_type": "markdown",
   "metadata": {},
   "source": [
    "Si vemos nuevamente el ejemplo, la capacidad del modelo depende en parte de la cantidad de parametros que puede aprender:"
   ]
  },
  {
   "cell_type": "code",
   "execution_count": 51,
   "metadata": {},
   "outputs": [
    {
     "data": {
      "text/plain": [
       "((4, 1), (3, 4), (3,))"
      ]
     },
     "execution_count": 51,
     "metadata": {},
     "output_type": "execute_result"
    }
   ],
   "source": [
    "eg_x.shape, eg_w.shape, eg_b.shape"
   ]
  },
  {
   "cell_type": "markdown",
   "metadata": {},
   "source": [
    "En este caso la matriz **eg_w** tiene 12 parámetros y **eg_b** tiene 3 parámetros. Por lo que nuestro modelo tiene un **total de 15 parámetros**.\n",
    "\n",
    "**¿Cómo incrementamos el número de parámetros?**\n",
    "\n",
    "Tenemos: `w(3x4) @ x(4x1) = (3x1)` (3x4 = 12 parámetros)\n",
    "\n",
    "Agregamos una matriz intermedia: `w1(10x4) @ x(4x1) = (10x1) -->  w2(3x10) @ (10x1) = (3x1)` (10x4 + 3x10 = 70 parámetros)\n",
    "\n",
    "**Agregando una matriz intermedia incrementamos los parámetros de 12 a 70.**"
   ]
  },
  {
   "cell_type": "code",
   "execution_count": 52,
   "metadata": {},
   "outputs": [],
   "source": [
    "i = np.random.choice(len(x_train))\n",
    "i = 0\n",
    "eg_x = x_train[i][:,None]\n",
    "eg_y = y_train[i]\n",
    "eg_w1 = np.random.normal(size=10*4).reshape((10,4))\n",
    "eg_b1 = np.random.normal(size=10).reshape((10,1))\n",
    "eg_w2 = np.random.normal(size=3*10).reshape((3,10))\n",
    "eg_b2 = np.random.normal(size=3).reshape((3,1))"
   ]
  },
  {
   "cell_type": "code",
   "execution_count": 53,
   "metadata": {},
   "outputs": [
    {
     "data": {
      "text/plain": [
       "(10, 1)"
      ]
     },
     "execution_count": 53,
     "metadata": {},
     "output_type": "execute_result"
    }
   ],
   "source": [
    "temp = ((eg_w1 @ eg_x) + eg_b1)\n",
    "temp.shape"
   ]
  },
  {
   "cell_type": "code",
   "execution_count": 54,
   "metadata": {},
   "outputs": [
    {
     "data": {
      "text/plain": [
       "(3,)"
      ]
     },
     "execution_count": 54,
     "metadata": {},
     "output_type": "execute_result"
    }
   ],
   "source": [
    "y_ = ((eg_w2 @ temp) + eg_b2).ravel()\n",
    "y_.shape"
   ]
  },
  {
   "cell_type": "markdown",
   "metadata": {},
   "source": [
    "**Pero hay un problema con esta formulación:** un conjunto de operaciones lineales (multiplicaciones y sumas), se pueden reducir a una sola multiplicacion y suma:\n",
    "\n",
    "$ y_1 = 2x + 10 $\n",
    "\n",
    "$ y_2 = softmax(3y_1 - 5) = softmax(((2x + 10) * 3) - 5) = softmax(6x + 25) $\n",
    "\n",
    "<br>\n",
    "\n",
    "**Solucion: Funciones de activación**\n",
    "\n",
    "La idea de las funciones de activación es agregar funciones no lineales entre capa y capa (capa = multiplicacion+suma).\n",
    "\n",
    "$ y_1 = \\sigma(2x + 10) $\n",
    "\n",
    "$ y_2 = softmax(3y_1 - 5) $\n",
    "\n",
    "\\* *La funcion softmax se considera una funcion de activación.*"
   ]
  },
  {
   "cell_type": "markdown",
   "metadata": {},
   "source": [
    "## Tensorflow"
   ]
  },
  {
   "cell_type": "code",
   "execution_count": 55,
   "metadata": {},
   "outputs": [],
   "source": [
    "import tensorflow as tf\n",
    "\n",
    "# Iniciamos una session de tf, si no existe una\n",
    "if 'sess' not in locals(): sess = tf.InteractiveSession()\n",
    "\n",
    "# tf Graph Input\n",
    "X = tf.placeholder(tf.float32, shape=(None, 4))\n",
    "Y = tf.placeholder(tf.float32, shape=(None, 3))\n",
    "\n",
    "# Set model weights\n",
    "W1 = tf.Variable(tf.random_normal([4,10]))\n",
    "b1 = tf.Variable(tf.random_normal([10]))\n",
    "\n",
    "W2 = tf.Variable(tf.random_normal([10,3]))\n",
    "b2 = tf.Variable(tf.random_normal([3]))\n",
    "\n",
    "# Outputs\n",
    "y_ = tf.nn.relu((X @ W1) + b1)\n",
    "y_ = tf.nn.softmax((y_ @ W2) + b2)\n",
    "\n",
    "# Loss\n",
    "loss = tf.reduce_mean(-tf.reduce_sum(Y * tf.log(y_ + 1e-9), axis=1))\n",
    "\n",
    "# Se inicializan las variables\n",
    "sess.run(tf.global_variables_initializer())"
   ]
  },
  {
   "cell_type": "code",
   "execution_count": 56,
   "metadata": {},
   "outputs": [
    {
     "data": {
      "text/plain": [
       "4"
      ]
     },
     "execution_count": 56,
     "metadata": {},
     "output_type": "execute_result"
    }
   ],
   "source": [
    "# Params\n",
    "bs = 32 # Batch size\n",
    "epochs = 100\n",
    "lr = 0.01\n",
    "optimizer = tf.train.GradientDescentOptimizer(lr).minimize(loss)\n",
    "nb = math.ceil(len(x_train) / bs)\n",
    "nb # Numero de batches por epoch"
   ]
  },
  {
   "cell_type": "code",
   "execution_count": 62,
   "metadata": {},
   "outputs": [
    {
     "data": {
      "application/vnd.jupyter.widget-view+json": {
       "model_id": "2aae9389299b4281a16396700c9f2845",
       "version_major": 2,
       "version_minor": 0
      },
      "text/plain": [
       "HBox(children=(IntProgress(value=0), HTML(value='')))"
      ]
     },
     "metadata": {},
     "output_type": "display_data"
    },
    {
     "name": "stdout",
     "output_type": "stream",
     "text": [
      "\n"
     ]
    },
    {
     "data": {
      "image/png": "[encoded data removed]",
      "text/plain": [
       "<Figure size 432x288 with 1 Axes>"
      ]
     },
     "metadata": {},
     "output_type": "display_data"
    }
   ],
   "source": [
    "# Train loop\n",
    "train_losses = []\n",
    "val_losses = []\n",
    "\n",
    "for epoch in tnrange(epochs):\n",
    "    # Cada epoch es un recorrido por todo el train set\n",
    "    for i in range(nb):\n",
    "        batch_x = x_train[i*bs:(i+1)*bs]\n",
    "        batch_y = y_train[i*bs:(i+1)*bs]\n",
    "        sess.run(optimizer, feed_dict={X: batch_x, Y:batch_y})\n",
    "\n",
    "    # Calculamos la perdida en el train y validation set luego de cada epoch\n",
    "    train_loss = sess.run(loss, feed_dict={X: x_train, Y:y_train})\n",
    "    train_losses.append(train_loss)\n",
    "    val_loss = sess.run(loss, feed_dict={X: x_val, Y:y_val})\n",
    "    val_losses.append(val_loss)\n",
    "\n",
    "plt.plot(train_losses, label='train')\n",
    "plt.plot(val_losses, label='validation')\n",
    "plt.legend();"
   ]
  },
  {
   "cell_type": "code",
   "execution_count": 61,
   "metadata": {},
   "outputs": [
    {
     "name": "stdout",
     "output_type": "stream",
     "text": [
      "Loss = 7.02\n",
      "Accuracy = 0.63\n"
     ]
    }
   ],
   "source": [
    "pred, pred_loss = sess.run([y_, loss], feed_dict={X: x_val, Y:y_val})\n",
    "\n",
    "real_labels = np.argmax(y_val, axis=1)\n",
    "pred_labels = np.argmax(pred, axis=1)\n",
    "\n",
    "pred_acc = (real_labels == pred_labels).mean()\n",
    "\n",
    "print(f'Loss = {pred_loss:.2f}\\nAccuracy = {pred_acc:.2f}')"
   ]
  },
  {
   "cell_type": "markdown",
   "metadata": {},
   "source": [
    "## Keras"
   ]
  },
  {
   "cell_type": "code",
   "execution_count": 63,
   "metadata": {},
   "outputs": [
    {
     "name": "stdout",
     "output_type": "stream",
     "text": [
      "_________________________________________________________________\n",
      "Layer (type)                 Output Shape              Param #   \n",
      "=================================================================\n",
      "dense_2 (Dense)              (None, 10)                50        \n",
      "_________________________________________________________________\n",
      "dense_3 (Dense)              (None, 3)                 33        \n",
      "=================================================================\n",
      "Total params: 83\n",
      "Trainable params: 83\n",
      "Non-trainable params: 0\n",
      "_________________________________________________________________\n"
     ]
    }
   ],
   "source": [
    "import keras\n",
    "from keras.layers import Dense\n",
    "from keras.models import Sequential\n",
    "from keras.optimizers import SGD\n",
    "\n",
    "# Params\n",
    "bs = 32 # Batch size\n",
    "epochs = 100\n",
    "lr = 0.01\n",
    "\n",
    "# Modelo\n",
    "model = Sequential()\n",
    "model.add(Dense(10, activation='relu', input_shape=(4,)))\n",
    "model.add(Dense(3, activation='softmax'))\n",
    "\n",
    "model.compile(optimizer=SGD(lr), loss='categorical_crossentropy', metrics=['accuracy'])\n",
    "\n",
    "model.summary()"
   ]
  },
  {
   "cell_type": "code",
   "execution_count": 64,
   "metadata": {},
   "outputs": [
    {
     "name": "stdout",
     "output_type": "stream",
     "text": [
      "Train on 120 samples, validate on 30 samples\n",
      "Epoch 1/100\n",
      "120/120 [==============================] - 0s 669us/step - loss: 1.4524 - acc: 0.5083 - val_loss: 0.8505 - val_acc: 0.7000\n",
      "Epoch 2/100\n",
      "120/120 [==============================] - 0s 52us/step - loss: 0.8654 - acc: 0.6583 - val_loss: 0.7876 - val_acc: 0.7333\n",
      "Epoch 3/100\n",
      "120/120 [==============================] - 0s 98us/step - loss: 0.7973 - acc: 0.6833 - val_loss: 0.7650 - val_acc: 0.8000\n",
      "Epoch 4/100\n",
      "120/120 [==============================] - 0s 48us/step - loss: 0.7592 - acc: 0.8000 - val_loss: 0.7313 - val_acc: 0.7000\n",
      "Epoch 5/100\n",
      "120/120 [==============================] - 0s 51us/step - loss: 0.7400 - acc: 0.7000 - val_loss: 0.7149 - val_acc: 0.7000\n",
      "Epoch 6/100\n",
      "120/120 [==============================] - 0s 50us/step - loss: 0.7211 - acc: 0.7083 - val_loss: 0.6990 - val_acc: 0.8000\n",
      "Epoch 7/100\n",
      "120/120 [==============================] - 0s 79us/step - loss: 0.7001 - acc: 0.7917 - val_loss: 0.6806 - val_acc: 0.7000\n",
      "Epoch 8/100\n",
      "120/120 [==============================] - 0s 97us/step - loss: 0.6917 - acc: 0.7333 - val_loss: 0.6615 - val_acc: 0.7333\n",
      "Epoch 9/100\n",
      "120/120 [==============================] - 0s 54us/step - loss: 0.6675 - acc: 0.7083 - val_loss: 0.6509 - val_acc: 0.8000\n",
      "Epoch 10/100\n",
      "120/120 [==============================] - 0s 53us/step - loss: 0.6506 - acc: 0.7500 - val_loss: 0.6398 - val_acc: 0.8000\n",
      "Epoch 11/100\n",
      "120/120 [==============================] - 0s 96us/step - loss: 0.6419 - acc: 0.8333 - val_loss: 0.6261 - val_acc: 0.7333\n",
      "Epoch 12/100\n",
      "120/120 [==============================] - 0s 81us/step - loss: 0.6262 - acc: 0.7000 - val_loss: 0.6241 - val_acc: 0.8333\n",
      "Epoch 13/100\n",
      "120/120 [==============================] - 0s 55us/step - loss: 0.6152 - acc: 0.8500 - val_loss: 0.6031 - val_acc: 0.8000\n",
      "Epoch 14/100\n",
      "120/120 [==============================] - 0s 72us/step - loss: 0.6092 - acc: 0.8083 - val_loss: 0.5927 - val_acc: 0.8000\n",
      "Epoch 15/100\n",
      "120/120 [==============================] - 0s 97us/step - loss: 0.5961 - acc: 0.8000 - val_loss: 0.5896 - val_acc: 0.8667\n",
      "Epoch 16/100\n",
      "120/120 [==============================] - 0s 59us/step - loss: 0.5874 - acc: 0.7667 - val_loss: 0.5988 - val_acc: 0.8000\n",
      "Epoch 17/100\n",
      "120/120 [==============================] - 0s 70us/step - loss: 0.5852 - acc: 0.8167 - val_loss: 0.5675 - val_acc: 0.8000\n",
      "Epoch 18/100\n",
      "120/120 [==============================] - 0s 49us/step - loss: 0.5667 - acc: 0.8417 - val_loss: 0.5626 - val_acc: 0.8667\n",
      "Epoch 19/100\n",
      "120/120 [==============================] - 0s 101us/step - loss: 0.5646 - acc: 0.8750 - val_loss: 0.5514 - val_acc: 0.7333\n",
      "Epoch 20/100\n",
      "120/120 [==============================] - 0s 63us/step - loss: 0.5639 - acc: 0.7833 - val_loss: 0.5507 - val_acc: 0.8333\n",
      "Epoch 21/100\n",
      "120/120 [==============================] - 0s 57us/step - loss: 0.5516 - acc: 0.8250 - val_loss: 0.5464 - val_acc: 0.8667\n",
      "Epoch 22/100\n",
      "120/120 [==============================] - 0s 57us/step - loss: 0.5441 - acc: 0.8417 - val_loss: 0.5495 - val_acc: 0.8000\n",
      "Epoch 23/100\n",
      "120/120 [==============================] - 0s 128us/step - loss: 0.5457 - acc: 0.7750 - val_loss: 0.5277 - val_acc: 0.9000\n",
      "Epoch 24/100\n",
      "120/120 [==============================] - 0s 63us/step - loss: 0.5330 - acc: 0.8917 - val_loss: 0.5171 - val_acc: 0.7333\n",
      "Epoch 25/100\n",
      "120/120 [==============================] - 0s 56us/step - loss: 0.5203 - acc: 0.7500 - val_loss: 0.5317 - val_acc: 0.8000\n",
      "Epoch 26/100\n",
      "120/120 [==============================] - 0s 58us/step - loss: 0.5177 - acc: 0.9167 - val_loss: 0.5044 - val_acc: 0.8000\n",
      "Epoch 27/100\n",
      "120/120 [==============================] - 0s 101us/step - loss: 0.5196 - acc: 0.8250 - val_loss: 0.5000 - val_acc: 0.7333\n",
      "Epoch 28/100\n",
      "120/120 [==============================] - 0s 74us/step - loss: 0.5023 - acc: 0.8167 - val_loss: 0.4987 - val_acc: 0.8667\n",
      "Epoch 29/100\n",
      "120/120 [==============================] - 0s 63us/step - loss: 0.4983 - acc: 0.8667 - val_loss: 0.4993 - val_acc: 0.8667\n",
      "Epoch 30/100\n",
      "120/120 [==============================] - 0s 50us/step - loss: 0.4921 - acc: 0.9000 - val_loss: 0.4894 - val_acc: 0.9000\n",
      "Epoch 31/100\n",
      "120/120 [==============================] - 0s 109us/step - loss: 0.4874 - acc: 0.9333 - val_loss: 0.4799 - val_acc: 0.8000\n",
      "Epoch 32/100\n",
      "120/120 [==============================] - 0s 73us/step - loss: 0.5101 - acc: 0.7500 - val_loss: 0.4746 - val_acc: 0.8000\n",
      "Epoch 33/100\n",
      "120/120 [==============================] - 0s 55us/step - loss: 0.4849 - acc: 0.8333 - val_loss: 0.4889 - val_acc: 0.8333\n",
      "Epoch 34/100\n",
      "120/120 [==============================] - 0s 55us/step - loss: 0.4765 - acc: 0.9167 - val_loss: 0.4691 - val_acc: 0.8667\n",
      "Epoch 35/100\n",
      "120/120 [==============================] - 0s 65us/step - loss: 0.4759 - acc: 0.8500 - val_loss: 0.4641 - val_acc: 0.8667\n",
      "Epoch 36/100\n",
      "120/120 [==============================] - 0s 70us/step - loss: 0.4659 - acc: 0.9000 - val_loss: 0.4593 - val_acc: 0.8667\n",
      "Epoch 37/100\n",
      "120/120 [==============================] - 0s 83us/step - loss: 0.4593 - acc: 0.8750 - val_loss: 0.4663 - val_acc: 0.8333\n",
      "Epoch 38/100\n",
      "120/120 [==============================] - 0s 63us/step - loss: 0.4587 - acc: 0.9500 - val_loss: 0.4523 - val_acc: 0.8333\n",
      "Epoch 39/100\n",
      "120/120 [==============================] - 0s 111us/step - loss: 0.4625 - acc: 0.8667 - val_loss: 0.4494 - val_acc: 0.8667\n",
      "Epoch 40/100\n",
      "120/120 [==============================] - 0s 65us/step - loss: 0.4552 - acc: 0.8833 - val_loss: 0.4474 - val_acc: 0.9000\n",
      "Epoch 41/100\n",
      "120/120 [==============================] - 0s 72us/step - loss: 0.4478 - acc: 0.8917 - val_loss: 0.4446 - val_acc: 0.9000\n",
      "Epoch 42/100\n",
      "120/120 [==============================] - 0s 64us/step - loss: 0.4424 - acc: 0.9167 - val_loss: 0.4489 - val_acc: 0.7333\n",
      "Epoch 43/100\n",
      "120/120 [==============================] - 0s 65us/step - loss: 0.4523 - acc: 0.8083 - val_loss: 0.4443 - val_acc: 0.8667\n",
      "Epoch 44/100\n",
      "120/120 [==============================] - 0s 102us/step - loss: 0.4372 - acc: 0.9167 - val_loss: 0.4333 - val_acc: 0.8667\n",
      "Epoch 45/100\n",
      "120/120 [==============================] - 0s 63us/step - loss: 0.4341 - acc: 0.8917 - val_loss: 0.4433 - val_acc: 0.8333\n",
      "Epoch 46/100\n",
      "120/120 [==============================] - 0s 63us/step - loss: 0.4285 - acc: 0.9583 - val_loss: 0.4280 - val_acc: 0.9000\n",
      "Epoch 47/100\n",
      "120/120 [==============================] - 0s 63us/step - loss: 0.4264 - acc: 0.9167 - val_loss: 0.4259 - val_acc: 0.9000\n",
      "Epoch 48/100\n",
      "120/120 [==============================] - 0s 56us/step - loss: 0.4286 - acc: 0.9167 - val_loss: 0.4233 - val_acc: 0.8000\n",
      "Epoch 49/100\n",
      "120/120 [==============================] - 0s 81us/step - loss: 0.4222 - acc: 0.8833 - val_loss: 0.4189 - val_acc: 0.8667\n",
      "Epoch 50/100\n",
      "120/120 [==============================] - 0s 130us/step - loss: 0.4183 - acc: 0.8833 - val_loss: 0.4393 - val_acc: 0.8000\n",
      "Epoch 51/100\n",
      "120/120 [==============================] - 0s 60us/step - loss: 0.4192 - acc: 0.9333 - val_loss: 0.4188 - val_acc: 0.9333\n",
      "Epoch 52/100\n",
      "120/120 [==============================] - 0s 52us/step - loss: 0.4253 - acc: 0.9083 - val_loss: 0.4126 - val_acc: 0.9000\n",
      "Epoch 53/100\n",
      "120/120 [==============================] - 0s 80us/step - loss: 0.4079 - acc: 0.9583 - val_loss: 0.4084 - val_acc: 0.8667\n",
      "Epoch 54/100\n",
      "120/120 [==============================] - 0s 97us/step - loss: 0.4057 - acc: 0.9000 - val_loss: 0.4278 - val_acc: 0.8000\n",
      "Epoch 55/100\n",
      "120/120 [==============================] - 0s 61us/step - loss: 0.4211 - acc: 0.8917 - val_loss: 0.4048 - val_acc: 0.9000\n",
      "Epoch 56/100\n",
      "120/120 [==============================] - 0s 114us/step - loss: 0.4037 - acc: 0.9167 - val_loss: 0.4135 - val_acc: 0.8333\n",
      "Epoch 57/100\n",
      "120/120 [==============================] - 0s 68us/step - loss: 0.3996 - acc: 0.9333 - val_loss: 0.3990 - val_acc: 0.8667\n",
      "Epoch 58/100\n",
      "120/120 [==============================] - 0s 78us/step - loss: 0.4001 - acc: 0.9000 - val_loss: 0.4019 - val_acc: 0.9333\n",
      "Epoch 59/100\n",
      "120/120 [==============================] - 0s 102us/step - loss: 0.3972 - acc: 0.9417 - val_loss: 0.3958 - val_acc: 0.9667\n",
      "Epoch 60/100\n",
      "120/120 [==============================] - 0s 69us/step - loss: 0.3953 - acc: 0.9500 - val_loss: 0.3951 - val_acc: 0.8333\n",
      "Epoch 61/100\n"
     ]
    },
    {
     "name": "stdout",
     "output_type": "stream",
     "text": [
      "120/120 [==============================] - 0s 67us/step - loss: 0.3920 - acc: 0.9083 - val_loss: 0.3906 - val_acc: 0.9000\n",
      "Epoch 62/100\n",
      "120/120 [==============================] - 0s 108us/step - loss: 0.3894 - acc: 0.9500 - val_loss: 0.4000 - val_acc: 0.8333\n",
      "Epoch 63/100\n",
      "120/120 [==============================] - 0s 90us/step - loss: 0.3855 - acc: 0.9583 - val_loss: 0.3910 - val_acc: 0.9333\n",
      "Epoch 64/100\n",
      "120/120 [==============================] - 0s 55us/step - loss: 0.3887 - acc: 0.9500 - val_loss: 0.3962 - val_acc: 0.7667\n",
      "Epoch 65/100\n",
      "120/120 [==============================] - 0s 70us/step - loss: 0.3880 - acc: 0.8750 - val_loss: 0.3860 - val_acc: 0.9333\n",
      "Epoch 66/100\n",
      "120/120 [==============================] - 0s 108us/step - loss: 0.3781 - acc: 0.9667 - val_loss: 0.3877 - val_acc: 0.8000\n",
      "Epoch 67/100\n",
      "120/120 [==============================] - 0s 112us/step - loss: 0.3821 - acc: 0.8750 - val_loss: 0.3804 - val_acc: 0.9667\n",
      "Epoch 68/100\n",
      "120/120 [==============================] - 0s 80us/step - loss: 0.3726 - acc: 0.9583 - val_loss: 0.3778 - val_acc: 0.9667\n",
      "Epoch 69/100\n",
      "120/120 [==============================] - 0s 66us/step - loss: 0.3861 - acc: 0.8833 - val_loss: 0.3759 - val_acc: 0.8333\n",
      "Epoch 70/100\n",
      "120/120 [==============================] - 0s 70us/step - loss: 0.3821 - acc: 0.9250 - val_loss: 0.3726 - val_acc: 0.9000\n",
      "Epoch 71/100\n",
      "120/120 [==============================] - 0s 59us/step - loss: 0.3669 - acc: 0.9417 - val_loss: 0.3806 - val_acc: 0.8333\n",
      "Epoch 72/100\n",
      "120/120 [==============================] - 0s 64us/step - loss: 0.3696 - acc: 0.9167 - val_loss: 0.3925 - val_acc: 0.8000\n",
      "Epoch 73/100\n",
      "120/120 [==============================] - 0s 72us/step - loss: 0.3646 - acc: 0.9250 - val_loss: 0.3678 - val_acc: 0.8667\n",
      "Epoch 74/100\n",
      "120/120 [==============================] - 0s 79us/step - loss: 0.3712 - acc: 0.9083 - val_loss: 0.3668 - val_acc: 0.9667\n",
      "Epoch 75/100\n",
      "120/120 [==============================] - 0s 77us/step - loss: 0.3613 - acc: 0.9500 - val_loss: 0.3645 - val_acc: 0.8667\n",
      "Epoch 76/100\n",
      "120/120 [==============================] - 0s 81us/step - loss: 0.3777 - acc: 0.8917 - val_loss: 0.3624 - val_acc: 0.8667\n",
      "Epoch 77/100\n",
      "120/120 [==============================] - 0s 69us/step - loss: 0.3629 - acc: 0.9417 - val_loss: 0.3604 - val_acc: 0.8667\n",
      "Epoch 78/100\n",
      "120/120 [==============================] - 0s 81us/step - loss: 0.3569 - acc: 0.9583 - val_loss: 0.3598 - val_acc: 0.8667\n",
      "Epoch 79/100\n",
      "120/120 [==============================] - 0s 90us/step - loss: 0.3539 - acc: 0.9667 - val_loss: 0.3570 - val_acc: 0.9000\n",
      "Epoch 80/100\n",
      "120/120 [==============================] - 0s 165us/step - loss: 0.3554 - acc: 0.9333 - val_loss: 0.3614 - val_acc: 0.8333\n",
      "Epoch 81/100\n",
      "120/120 [==============================] - 0s 88us/step - loss: 0.3637 - acc: 0.9000 - val_loss: 0.3585 - val_acc: 0.8333\n",
      "Epoch 82/100\n",
      "120/120 [==============================] - 0s 101us/step - loss: 0.3530 - acc: 0.9333 - val_loss: 0.3531 - val_acc: 0.9667\n",
      "Epoch 83/100\n",
      "120/120 [==============================] - 0s 66us/step - loss: 0.3472 - acc: 0.9667 - val_loss: 0.3521 - val_acc: 0.8667\n",
      "Epoch 84/100\n",
      "120/120 [==============================] - 0s 59us/step - loss: 0.3445 - acc: 0.9500 - val_loss: 0.3490 - val_acc: 0.9667\n",
      "Epoch 85/100\n",
      "120/120 [==============================] - 0s 65us/step - loss: 0.3459 - acc: 0.9500 - val_loss: 0.3483 - val_acc: 0.8667\n",
      "Epoch 86/100\n",
      "120/120 [==============================] - 0s 69us/step - loss: 0.3417 - acc: 0.9333 - val_loss: 0.3518 - val_acc: 0.8667\n",
      "Epoch 87/100\n",
      "120/120 [==============================] - 0s 80us/step - loss: 0.3363 - acc: 0.9667 - val_loss: 0.3447 - val_acc: 0.9333\n",
      "Epoch 88/100\n",
      "120/120 [==============================] - 0s 101us/step - loss: 0.3364 - acc: 0.9750 - val_loss: 0.3432 - val_acc: 0.9667\n",
      "Epoch 89/100\n",
      "120/120 [==============================] - 0s 69us/step - loss: 0.3388 - acc: 0.9667 - val_loss: 0.3414 - val_acc: 0.9667\n",
      "Epoch 90/100\n",
      "120/120 [==============================] - 0s 68us/step - loss: 0.3388 - acc: 0.9250 - val_loss: 0.3465 - val_acc: 0.8667\n",
      "Epoch 91/100\n",
      "120/120 [==============================] - 0s 73us/step - loss: 0.3335 - acc: 0.9667 - val_loss: 0.3409 - val_acc: 0.9333\n",
      "Epoch 92/100\n",
      "120/120 [==============================] - 0s 76us/step - loss: 0.3331 - acc: 0.9583 - val_loss: 0.3389 - val_acc: 0.9667\n",
      "Epoch 93/100\n",
      "120/120 [==============================] - 0s 68us/step - loss: 0.3275 - acc: 0.9667 - val_loss: 0.3450 - val_acc: 0.8333\n",
      "Epoch 94/100\n",
      "120/120 [==============================] - 0s 70us/step - loss: 0.3267 - acc: 0.9667 - val_loss: 0.3380 - val_acc: 0.9333\n",
      "Epoch 95/100\n",
      "120/120 [==============================] - 0s 80us/step - loss: 0.3263 - acc: 0.9417 - val_loss: 0.3440 - val_acc: 0.8333\n",
      "Epoch 96/100\n",
      "120/120 [==============================] - 0s 75us/step - loss: 0.3262 - acc: 0.9417 - val_loss: 0.3352 - val_acc: 0.9333\n",
      "Epoch 97/100\n",
      "120/120 [==============================] - 0s 77us/step - loss: 0.3197 - acc: 0.9750 - val_loss: 0.3308 - val_acc: 0.8667\n",
      "Epoch 98/100\n",
      "120/120 [==============================] - 0s 105us/step - loss: 0.3326 - acc: 0.9083 - val_loss: 0.3338 - val_acc: 0.9000\n",
      "Epoch 99/100\n",
      "120/120 [==============================] - 0s 72us/step - loss: 0.3182 - acc: 0.9583 - val_loss: 0.3297 - val_acc: 0.9333\n",
      "Epoch 100/100\n",
      "120/120 [==============================] - 0s 76us/step - loss: 0.3163 - acc: 0.9833 - val_loss: 0.3295 - val_acc: 0.9333\n"
     ]
    }
   ],
   "source": [
    "# Entrenamiento\n",
    "log = model.fit(x_train, y_train, batch_size=bs, epochs=epochs, validation_data=[x_val, y_val])"
   ]
  },
  {
   "cell_type": "code",
   "execution_count": 65,
   "metadata": {},
   "outputs": [
    {
     "data": {
      "image/png": "[encoded data removed]",
      "text/plain": [
       "<Figure size 432x288 with 1 Axes>"
      ]
     },
     "metadata": {},
     "output_type": "display_data"
    }
   ],
   "source": [
    "plt.plot(log.history['loss'], label='train')\n",
    "plt.plot(log.history['val_loss'], label='validation')\n",
    "plt.legend();"
   ]
  },
  {
   "cell_type": "code",
   "execution_count": 66,
   "metadata": {},
   "outputs": [
    {
     "name": "stdout",
     "output_type": "stream",
     "text": [
      "30/30 [==============================] - 0s 24us/step\n",
      "Loss = 0.33\n",
      "Accuracy = 0.93\n"
     ]
    }
   ],
   "source": [
    "val_loss, val_acc = model.evaluate(x_val, y_val)\n",
    "print(f'Loss = {val_loss:.2f}\\nAccuracy = {val_acc:.2f}')"
   ]
  },
  {
   "cell_type": "markdown",
   "metadata": {},
   "source": [
    "# Ejercicio"
   ]
  },
  {
   "cell_type": "markdown",
   "metadata": {},
   "source": [
    "**Faulty Steel Plates**\n",
    "\n",
    "Steel plate faults classified into seven types\n",
    "\n",
    "This dataset comes from research by Semeion, Research Center of Sciences of Communication. The original aim of the research was to correctly classify the type of surface defects in stainless steel plates, with six types of possible defects (plus \"other\"). The Input vector was made up of 27 indicators that approximately describe the geometric shape of the defect and its outline. According to the research paper, Semeion was commissioned by the Centro Sviluppo Materiali (Italy) for this task and therefore it is not possible to provide details on the nature of the 27 indicators used as Input vectors or the types of the 6 classes of defects. "
   ]
  },
  {
   "cell_type": "code",
   "execution_count": null,
   "metadata": {},
   "outputs": [],
   "source": [
    "data = pd.read_csv('data/faults.csv')\n",
    "print(data.shape)\n",
    "data.head()"
   ]
  },
  {
   "cell_type": "code",
   "execution_count": null,
   "metadata": {},
   "outputs": [],
   "source": [
    "x = data.iloc[:, :-7]\n",
    "y = data.iloc[:, -7:]\n",
    "\n",
    "x.columns, y.columns"
   ]
  },
  {
   "cell_type": "code",
   "execution_count": null,
   "metadata": {},
   "outputs": [],
   "source": [
    "# Armamos un diccionario para el target\n",
    "idx2class = {i:e for i,e in enumerate(y.columns)}\n",
    "idx2class"
   ]
  },
  {
   "cell_type": "code",
   "execution_count": null,
   "metadata": {},
   "outputs": [],
   "source": [
    "# Train validation split\n",
    "x_train, x_val, y_train, y_val = train_test_split(x, y.values, test_size=0.3, random_state=42)\n",
    "x_train.shape, x_val.shape, y_train.shape, y_val.shape"
   ]
  },
  {
   "cell_type": "code",
   "execution_count": null,
   "metadata": {},
   "outputs": [],
   "source": [
    "# preprocess\n",
    "from sklearn.preprocessing import StandardScaler\n",
    "\n",
    "scaler = StandardScaler()\n",
    "x_train = scaler.fit_transform(x_train)\n",
    "x_val = scaler.transform(x_val)"
   ]
  },
  {
   "cell_type": "code",
   "execution_count": null,
   "metadata": {},
   "outputs": [],
   "source": [
    "x_train[0]"
   ]
  },
  {
   "cell_type": "code",
   "execution_count": null,
   "metadata": {},
   "outputs": [],
   "source": [
    "y_train[0], idx2class[np.argmax(y_train[0])]"
   ]
  },
  {
   "cell_type": "markdown",
   "metadata": {},
   "source": [
    "## Completar\n",
    "**Entrenar una red neuronal para predecir el tipo de fallo usando Tensorflow o Keras**"
   ]
  },
  {
   "cell_type": "code",
   "execution_count": null,
   "metadata": {},
   "outputs": [],
   "source": []
  },
  {
   "cell_type": "code",
   "execution_count": null,
   "metadata": {},
   "outputs": [],
   "source": []
  },
  {
   "cell_type": "code",
   "execution_count": null,
   "metadata": {},
   "outputs": [],
   "source": []
  },
  {
   "cell_type": "code",
   "execution_count": null,
   "metadata": {},
   "outputs": [],
   "source": []
  }
 ],
 "metadata": {
  "kernelspec": {
   "display_name": "Python 3",
   "language": "python",
   "name": "python3"
  },
  "language_info": {
   "codemirror_mode": {
    "name": "ipython",
    "version": 3
   },
   "file_extension": ".py",
   "mimetype": "text/x-python",
   "name": "python",
   "nbconvert_exporter": "python",
   "pygments_lexer": "ipython3",
   "version": "3.6.5"
  },
  "toc": {
   "base_numbering": 1,
   "nav_menu": {},
   "number_sections": true,
   "sideBar": true,
   "skip_h1_title": false,
   "title_cell": "Table of Contents",
   "title_sidebar": "Contents",
   "toc_cell": false,
   "toc_position": {
    "height": "calc(100% - 180px)",
    "left": "10px",
    "top": "150px",
    "width": "206px"
   },
   "toc_section_display": true,
   "toc_window_display": true
  }
 },
 "nbformat": 4,
 "nbformat_minor": 2
}
