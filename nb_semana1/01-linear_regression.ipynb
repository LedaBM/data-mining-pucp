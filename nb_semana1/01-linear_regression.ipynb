{
 "cells": [
  {
   "cell_type": "markdown",
   "metadata": {},
   "source": [
    "**Algunos hotkeys útiles en jupyter:**\n",
    "\n",
    "* **control+enter**: correr celda.\n",
    "* **enter**: editar celda.\n",
    "* **escape**: salir del modo edición.\n",
    "* **control+s**: guardar notebook.\n",
    "\n",
    "**Fuera del modo edición se pueden utilizar los siguientes hotkeys:**\n",
    "* **a**: agregar celda arriba.\n",
    "* **b**: agregar celda abajo.\n",
    "* **x**: borrar celda.\n",
    "* **z**: deshacer borrar celda.\n",
    "* **y**: setear celda en modo python (código).\n",
    "* **m**: setear celda en modo markdown (texto).\n",
    "* **o**: mostrar/ocultar resultado.\n",
    "\n",
    "**Líbrerias:**\n",
    "\n",
    "* **Jupyter notebook**: Entorno de trabajo [(cheat sheet)](https://s3.amazonaws.com/assets.datacamp.com/blog_assets/Jupyter_Notebook_Cheat_Sheet.pdf)\n",
    "* **Numpy**: librería de funciones matemáticas de alto nivel para operar con vectores y matrices [(cheat sheet)](https://s3.amazonaws.com/assets.datacamp.com/blog_assets/Numpy_Python_Cheat_Sheet.pdf)\n",
    "* **Pandas**: librería destinada al análisis de datos, permiten trabajar con datos estructurados de forma muy eficiente [(cheat sheet)](https://github.com/pandas-dev/pandas/blob/master/doc/cheatsheet/Pandas_Cheat_Sheet.pdf)\n",
    "* **Matplotlib**: librería para la generación de gráficos [(cheat sheet)](https://s3.amazonaws.com/assets.datacamp.com/blog_assets/Python_Matplotlib_Cheat_Sheet.pdf)"
   ]
  },
  {
   "cell_type": "code",
   "execution_count": 1,
   "metadata": {},
   "outputs": [],
   "source": [
    "import numpy as np\n",
    "import pandas as pd\n",
    "import matplotlib.pyplot as plt\n",
    "import plotly.graph_objs as go\n",
    "from ipywidgets import FloatSlider, interact\n",
    "from tqdm import tqdm_notebook, tnrange\n",
    "from sklearn.model_selection import train_test_split\n",
    "from sklearn.preprocessing import StandardScaler\n",
    "\n",
    "%matplotlib inline"
   ]
  },
  {
   "cell_type": "markdown",
   "metadata": {},
   "source": [
    "# Generamos data"
   ]
  },
  {
   "cell_type": "code",
   "execution_count": 2,
   "metadata": {},
   "outputs": [
    {
     "data": {
      "image/png": "[encoded data removed]",
      "text/plain": [
       "<Figure size 432x288 with 1 Axes>"
      ]
     },
     "metadata": {},
     "output_type": "display_data"
    }
   ],
   "source": [
    "np.random.seed(10)\n",
    "\n",
    "n = 100 # Nro de datos\n",
    "x = np.linspace(0, 1, n)\n",
    "y = x**0.5 + np.random.normal(0, 0.05, n)\n",
    "\n",
    "plt.plot(x, y, 'o')\n",
    "plt.xlabel('x')\n",
    "plt.ylabel('y');"
   ]
  },
  {
   "cell_type": "markdown",
   "metadata": {},
   "source": [
    "# Definimos el modelo"
   ]
  },
  {
   "cell_type": "markdown",
   "metadata": {},
   "source": [
    "$ f(x_i) = ax_i + b $"
   ]
  },
  {
   "cell_type": "code",
   "execution_count": 3,
   "metadata": {},
   "outputs": [],
   "source": [
    "a = 1\n",
    "b = 0\n",
    "\n",
    "def f(x): return a*x + b\n",
    "\n",
    "y_ = f(x)"
   ]
  },
  {
   "cell_type": "code",
   "execution_count": 4,
   "metadata": {},
   "outputs": [
    {
     "data": {
      "text/plain": [
       "array([0.06657933, 0.13626773, 0.0648638 , 0.17365846, 0.23207436,\n",
       "       0.18872901, 0.25945856, 0.27133544, 0.28448219, 0.29278133])"
      ]
     },
     "execution_count": 4,
     "metadata": {},
     "output_type": "execute_result"
    }
   ],
   "source": [
    "y[:10]"
   ]
  },
  {
   "cell_type": "code",
   "execution_count": 5,
   "metadata": {},
   "outputs": [
    {
     "data": {
      "text/plain": [
       "array([0.        , 0.01010101, 0.02020202, 0.03030303, 0.04040404,\n",
       "       0.05050505, 0.06060606, 0.07070707, 0.08080808, 0.09090909])"
      ]
     },
     "execution_count": 5,
     "metadata": {},
     "output_type": "execute_result"
    }
   ],
   "source": [
    "y_[:10]"
   ]
  },
  {
   "cell_type": "code",
   "execution_count": 6,
   "metadata": {},
   "outputs": [
    {
     "data": {
      "image/png": "[encoded data removed]",
      "text/plain": [
       "<Figure size 432x288 with 1 Axes>"
      ]
     },
     "metadata": {},
     "output_type": "display_data"
    }
   ],
   "source": [
    "def plot(title=''):\n",
    "    plt.plot(x, y, 'o', label='data')\n",
    "    plt.plot(x, y_, label='model')\n",
    "    plt.title(title)\n",
    "    plt.xlabel('x')\n",
    "    plt.ylabel('y')\n",
    "    plt.legend()\n",
    "    plt.show()\n",
    "    \n",
    "plot(f'f(x) = {a}*x + {b}')"
   ]
  },
  {
   "cell_type": "markdown",
   "metadata": {},
   "source": [
    "# Función de pérdida"
   ]
  },
  {
   "cell_type": "markdown",
   "metadata": {},
   "source": [
    "$ L = \\frac{1}{2m}\\sum\\limits_{i=1}^m (f(x_i) - y_i)^2 $"
   ]
  },
  {
   "cell_type": "code",
   "execution_count": 7,
   "metadata": {},
   "outputs": [
    {
     "data": {
      "text/plain": [
       "0.01857300630707608"
      ]
     },
     "execution_count": 7,
     "metadata": {},
     "output_type": "execute_result"
    }
   ],
   "source": [
    "def L(y, y_): return ((y_ - y)**2).mean() / 2\n",
    "\n",
    "loss = L(y, y_)\n",
    "loss"
   ]
  },
  {
   "cell_type": "code",
   "execution_count": 8,
   "metadata": {},
   "outputs": [
    {
     "data": {
      "application/vnd.jupyter.widget-view+json": {
       "model_id": "85d06923e4d444d6a5822816dbdd0176",
       "version_major": 2,
       "version_minor": 0
      },
      "text/plain": [
       "interactive(children=(FloatSlider(value=0.0, description='slope (a)', max=2.5, min=-2.5), FloatSlider(value=0.…"
      ]
     },
     "metadata": {},
     "output_type": "display_data"
    },
    {
     "data": {
      "application/vnd.jupyter.widget-view+json": {
       "model_id": "3632687053c64619a97a13f405fbefac",
       "version_major": 2,
       "version_minor": 0
      },
      "text/plain": [
       "FigureWidget({\n",
       "    'data': [{'mode': 'markers',\n",
       "              'name': 'data',\n",
       "              'type': 'scatter',…"
      ]
     },
     "metadata": {},
     "output_type": "display_data"
    }
   ],
   "source": [
    "slider_a = FloatSlider(value=0, min=-2.5, max=2.5, step=0.1, description='slope (a)')\n",
    "slider_b = FloatSlider(value=0.5, min=0, max=1, step=0.1, description='intercept (b)')\n",
    "\n",
    "trace_data = go.Scatter(x=x, y=y, mode='markers', name='data')\n",
    "trace_model = go.Scatter(x=x, y=y_, name='model')\n",
    "fig = go.FigureWidget(data=[trace_data, trace_model], layout={'width': 500, 'height':400})\n",
    "\n",
    "def anim(a, b):\n",
    "    y_ = a*x + b\n",
    "    fig.layout.title = f'Loss = {L(y, y_):.4}'\n",
    "    with fig.batch_animate(duration=100):\n",
    "        fig.data[1].y = y_\n",
    "    \n",
    "interact(anim, a=slider_a, b=slider_b)\n",
    "fig"
   ]
  },
  {
   "cell_type": "code",
   "execution_count": 9,
   "metadata": {},
   "outputs": [
    {
     "data": {
      "image/png": "[encoded data removed]",
      "text/plain": [
       "<Figure size 432x288 with 1 Axes>"
      ]
     },
     "metadata": {},
     "output_type": "display_data"
    }
   ],
   "source": [
    "# Veamos la función de pérdida en distintos puntos de a, teniendo b=0\n",
    "test_a = np.linspace(0, 2.4, 20)\n",
    "losses = [L(y, single_a*x + b) for single_a in test_a]\n",
    "\n",
    "plt.plot(test_a, losses, 'o')\n",
    "plt.title('Función de pérdida')\n",
    "plt.xlabel('a')\n",
    "plt.ylabel('Loss')\n",
    "plt.show()"
   ]
  },
  {
   "cell_type": "markdown",
   "metadata": {},
   "source": [
    "# Optimización"
   ]
  },
  {
   "cell_type": "markdown",
   "metadata": {},
   "source": [
    "## Gradients"
   ]
  },
  {
   "cell_type": "markdown",
   "metadata": {},
   "source": [
    "$ \\frac{dL}{da} = \\sum\\limits_{i=1}^m (f(x_i) - y_i)(x_i)$\n",
    "\n",
    "$ \\frac{dL}{db} = \\sum\\limits_{i=1}^m (f(x_i) - y_i)$"
   ]
  },
  {
   "cell_type": "code",
   "execution_count": 10,
   "metadata": {},
   "outputs": [
    {
     "data": {
      "text/plain": [
       "(-0.06688629743731625, -0.16876610837831105)"
      ]
     },
     "execution_count": 10,
     "metadata": {},
     "output_type": "execute_result"
    }
   ],
   "source": [
    "def gradients(x, y, y_):\n",
    "    da = ((y_ - y) * x).mean()\n",
    "    db = (y_ - y).mean()\n",
    "    return da, db\n",
    "\n",
    "gradients(x, y, y_)"
   ]
  },
  {
   "cell_type": "markdown",
   "metadata": {},
   "source": [
    "## Gradient descent"
   ]
  },
  {
   "cell_type": "code",
   "execution_count": 11,
   "metadata": {},
   "outputs": [
    {
     "data": {
      "application/vnd.jupyter.widget-view+json": {
       "model_id": "6b995d6fa73e410aab36db6b057a0efe",
       "version_major": 2,
       "version_minor": 0
      },
      "text/plain": [
       "HBox(children=(IntProgress(value=0, max=10000), HTML(value='')))"
      ]
     },
     "metadata": {},
     "output_type": "display_data"
    },
    {
     "name": "stdout",
     "output_type": "stream",
     "text": [
      "\n"
     ]
    },
    {
     "data": {
      "image/png": "[encoded data removed]",
      "text/plain": [
       "<Figure size 432x288 with 1 Axes>"
      ]
     },
     "metadata": {},
     "output_type": "display_data"
    },
    {
     "data": {
      "image/png": "[encoded data removed]",
      "text/plain": [
       "<Figure size 432x288 with 1 Axes>"
      ]
     },
     "metadata": {},
     "output_type": "display_data"
    }
   ],
   "source": [
    "# initial params\n",
    "\n",
    "a = 1\n",
    "b = 0\n",
    "lr = 0.1\n",
    "steps = 10_000\n",
    "losses = []\n",
    "\n",
    "for i in tnrange(steps):\n",
    "    y_ = f(x)\n",
    "    loss = L(y, y_)\n",
    "    losses.append(loss)\n",
    "    da, db = gradients(x, y, y_)\n",
    "    a -= da*lr\n",
    "    b -= db*lr\n",
    "    \n",
    "plot(f'f(x) = {a:.2}*x + {b:.2}\\nL={loss:.2}')\n",
    "plt.plot(losses);"
   ]
  },
  {
   "cell_type": "markdown",
   "metadata": {},
   "source": [
    "# Ejercicio 1: Casas Simple"
   ]
  },
  {
   "cell_type": "code",
   "execution_count": 15,
   "metadata": {},
   "outputs": [
    {
     "name": "stdout",
     "output_type": "stream",
     "text": [
      "(58, 2)\n"
     ]
    },
    {
     "data": {
      "text/html": [
       "<div>\n",
       "<style scoped>\n",
       "    .dataframe tbody tr th:only-of-type {\n",
       "        vertical-align: middle;\n",
       "    }\n",
       "\n",
       "    .dataframe tbody tr th {\n",
       "        vertical-align: top;\n",
       "    }\n",
       "\n",
       "    .dataframe thead th {\n",
       "        text-align: right;\n",
       "    }\n",
       "</style>\n",
       "<table border=\"1\" class=\"dataframe\">\n",
       "  <thead>\n",
       "    <tr style=\"text-align: right;\">\n",
       "      <th></th>\n",
       "      <th>metros_cuadrados</th>\n",
       "      <th>precio</th>\n",
       "    </tr>\n",
       "  </thead>\n",
       "  <tbody>\n",
       "    <tr>\n",
       "      <th>0</th>\n",
       "      <td>132.3</td>\n",
       "      <td>319000.0</td>\n",
       "    </tr>\n",
       "    <tr>\n",
       "      <th>1</th>\n",
       "      <td>141.5</td>\n",
       "      <td>389000.0</td>\n",
       "    </tr>\n",
       "    <tr>\n",
       "      <th>2</th>\n",
       "      <td>71.2</td>\n",
       "      <td>199000.0</td>\n",
       "    </tr>\n",
       "    <tr>\n",
       "      <th>3</th>\n",
       "      <td>277.4</td>\n",
       "      <td>599000.0</td>\n",
       "    </tr>\n",
       "    <tr>\n",
       "      <th>4</th>\n",
       "      <td>338.7</td>\n",
       "      <td>750000.0</td>\n",
       "    </tr>\n",
       "  </tbody>\n",
       "</table>\n",
       "</div>"
      ],
      "text/plain": [
       "   metros_cuadrados    precio\n",
       "0             132.3  319000.0\n",
       "1             141.5  389000.0\n",
       "2              71.2  199000.0\n",
       "3             277.4  599000.0\n",
       "4             338.7  750000.0"
      ]
     },
     "execution_count": 15,
     "metadata": {},
     "output_type": "execute_result"
    }
   ],
   "source": [
    "df = pd.read_table('data/CasasSimple.txt', names=['metros_cuadrados', 'precio'])\n",
    "print(df.shape)\n",
    "df.head()"
   ]
  },
  {
   "cell_type": "markdown",
   "metadata": {},
   "source": [
    "Es importante tener en cuenta lo que estamos evaluando, en el caso de precios es bastante común tener mayor interes en el ratio del error que en el valor del error.\n",
    "\n",
    "Ej, ¿Qué error es más grave?:\n",
    "\n",
    "* ¿Un error de S/.10 en la predicción ó un error de 10% en la predicción?\n",
    "* ¿Un error de S/.100 en un precio de S/.1,000,000 ó un error de S/.100 en un precio de S/.1000?\n",
    "\n",
    "Por eso vamos a considerar el **log** del precio."
   ]
  },
  {
   "cell_type": "code",
   "execution_count": 16,
   "metadata": {},
   "outputs": [],
   "source": [
    "# Separamos las variables dependientes e independientes\n",
    "x = df['metros_cuadrados'].values\n",
    "y = np.log(df['precio'].values)"
   ]
  },
  {
   "cell_type": "code",
   "execution_count": 17,
   "metadata": {},
   "outputs": [
    {
     "data": {
      "text/plain": [
       "((38,), (20,))"
      ]
     },
     "execution_count": 17,
     "metadata": {},
     "output_type": "execute_result"
    }
   ],
   "source": [
    "# Para evaluar el modelo dividimos la data en un conjunto de entrenamiento y validación\n",
    "x_train, x_val, y_train, y_val = train_test_split(x, y, test_size=0.33, random_state=42)\n",
    "x_train.shape, x_val.shape"
   ]
  },
  {
   "cell_type": "code",
   "execution_count": 18,
   "metadata": {},
   "outputs": [],
   "source": [
    "# Normalizamos la data\n",
    "x_mean = x_train.mean()\n",
    "x_std = x_train.std()\n",
    "x_train = (x_train - x_mean) / x_std\n",
    "\n",
    "# Aplicamos la misma normalizacion al conjunto de validacion\n",
    "x_val = (x_val - x_mean) / x_std"
   ]
  },
  {
   "cell_type": "code",
   "execution_count": 19,
   "metadata": {},
   "outputs": [],
   "source": [
    "# Algunas funciones para graficar\n",
    "def plot_train_val(title=''):\n",
    "    y_train_ = f(x_train)\n",
    "    y_val_ = f(x_val)\n",
    "    fig, [ax1, ax2] = plt.subplots(1, 2, sharex=True, sharey=True, figsize=(10,4))\n",
    "    ax1.plot(x_train, y_train, 'o', label='data')\n",
    "    ax1.plot(x_train, y_train_, label='model')\n",
    "    ax1.set_title(f'Train (L={L(y_train, y_train_):.4f})')\n",
    "    ax1.legend()\n",
    "    ax2.plot(x_val, y_val, 'o', label='data')\n",
    "    ax2.plot(x_val, y_val_, label='model')\n",
    "    ax2.set_title(f'Validation (L={L(y_val, y_val_):.4f})')\n",
    "    plt.tight_layout()\n",
    "    plt.show()\n",
    "    \n",
    "def plot_losses():\n",
    "    plt.plot(losses_train, label='train')\n",
    "    plt.plot(losses_val, label='validation')\n",
    "    plt.legend()\n",
    "    plt.show()"
   ]
  },
  {
   "cell_type": "code",
   "execution_count": 20,
   "metadata": {},
   "outputs": [
    {
     "data": {
      "image/png": "[encoded data removed]",
      "text/plain": [
       "<Figure size 720x288 with 2 Axes>"
      ]
     },
     "metadata": {},
     "output_type": "display_data"
    }
   ],
   "source": [
    "# Definimos el modelo\n",
    "a = 1\n",
    "b = 0\n",
    "def f(x): return a*x + b\n",
    "\n",
    "y_train = f(x_train)\n",
    "y_train_ = f(x_val)\n",
    "   \n",
    "plot_train_val()"
   ]
  },
  {
   "cell_type": "code",
   "execution_count": null,
   "metadata": {},
   "outputs": [],
   "source": [
    "# initial params\n",
    "a = 1\n",
    "b = 0\n",
    "lr = 0.01\n",
    "steps = 10_000\n",
    "losses_train = []\n",
    "losses_val = []\n",
    "\n",
    "# Gradient descent\n",
    "for i in tnrange(steps):\n",
    "    # COMPLETAR\n",
    "    \n",
    "    # Guardamos las perdidas\n",
    "    loss_train = L(y_train, y_)\n",
    "    loss_val = L(y_val, f(x_val))\n",
    "    losses_train.append(loss_train)\n",
    "    losses_val.append(loss_val)\n",
    "    \n",
    "print(f'f(x) = {a:.2f}*x + {b:.2f}')\n",
    "plot_train_val()\n",
    "plot_losses()"
   ]
  },
  {
   "cell_type": "markdown",
   "metadata": {},
   "source": [
    "# Multiple linear regression"
   ]
  },
  {
   "cell_type": "markdown",
   "metadata": {},
   "source": [
    "$ f(x_{1i}, x_{2i}) = ax_{1i} + bx_{2i} + c $"
   ]
  },
  {
   "cell_type": "code",
   "execution_count": null,
   "metadata": {},
   "outputs": [],
   "source": [
    "np.random.seed(10)\n",
    "\n",
    "n = 100\n",
    "\n",
    "x1 = np.random.normal(size=n) + np.random.normal(0, 0.5, n)\n",
    "x2 = np.random.normal(size=n) + np.random.normal(0, 0.5, n)\n",
    "y = x1 + x2*2 + np.random.normal(1, 1, n)"
   ]
  },
  {
   "cell_type": "code",
   "execution_count": null,
   "metadata": {},
   "outputs": [],
   "source": [
    "a = 1.0\n",
    "b = 1.0\n",
    "c = 0.0\n",
    "\n",
    "def f(x1,x2): return a*x1 + b*x2 + c\n",
    "\n",
    "y_ = f(x1,x2)"
   ]
  },
  {
   "cell_type": "code",
   "execution_count": null,
   "metadata": {},
   "outputs": [],
   "source": [
    "def plot3d(title=''):\n",
    "    trace = go.Scatter3d(\n",
    "        x=x1, y=x2, z=y,\n",
    "        mode='markers',\n",
    "        marker={'size':2, 'opacity':0.8}\n",
    "    )\n",
    "\n",
    "    mesh_x1 = [-4,-4,4,4]\n",
    "    mesh_x2 = [-4,4,-4,4]\n",
    "    mesh_y = [f(x1,x2) for x1,x2 in zip(mesh_x1,mesh_x2)]\n",
    "\n",
    "    mesh = go.Mesh3d(x=mesh_x1, y=mesh_x2, z=mesh_y, opacity=0.5)\n",
    "\n",
    "    layout = go.Layout({\n",
    "        'title': title,\n",
    "        'scene':{\n",
    "            'xaxis':{'title':'x1'},\n",
    "            'yaxis':{'title':'x2'},\n",
    "            'zaxis':{'title':'y'}\n",
    "        }\n",
    "    })\n",
    "\n",
    "    fig = go.FigureWidget(data=[trace, mesh], layout=layout)\n",
    "    \n",
    "    return fig\n",
    "\n",
    "loss = L(y, y_)\n",
    "plot3d(f'f(x) = {a:.2}(x1) + {b:.2}(x2) + {c:.2}<br>L={loss:.2}')"
   ]
  },
  {
   "cell_type": "markdown",
   "metadata": {},
   "source": [
    "$ \\hat{y} = f(x_{1i}, x_{2i}) = ax_{1i} + bx_{2i} + c $\n",
    "\n",
    "$ L = \\frac{1}{2m}\\sum\\limits_{i=1}^m (\\hat{y} - y_i)^2 $\n",
    "\n",
    "$ \\frac{dL}{da} = \\sum\\limits_{i=1}^m (\\hat{y} - y_i)(x_{1i})$\n",
    "\n",
    "$ \\frac{dL}{db} = \\sum\\limits_{i=1}^m (\\hat{y} - y_i)(x_{2i})$\n",
    "\n",
    "$ \\frac{dL}{dc} = \\sum\\limits_{i=1}^m (\\hat{y} - y_i)$"
   ]
  },
  {
   "cell_type": "code",
   "execution_count": null,
   "metadata": {},
   "outputs": [],
   "source": [
    "def gradients_mult(x1, x2, y, y_):\n",
    "    da = ((y_ - y) * x1).mean()\n",
    "    db = ((y_ - y) * x2).mean()\n",
    "    dc = (y_ - y).mean()\n",
    "\n",
    "    return da, db, dc\n",
    "\n",
    "gradients_mult(x1, x2, y, y_)"
   ]
  },
  {
   "cell_type": "code",
   "execution_count": null,
   "metadata": {},
   "outputs": [],
   "source": [
    "# initial params\n",
    "a = 1\n",
    "b = 1\n",
    "c = 0\n",
    "lr = 0.1\n",
    "steps = 10_000\n",
    "losses = []\n",
    "\n",
    "for i in tnrange(steps):\n",
    "    y_ = f(x1, x2)\n",
    "    loss = L(y, y_)\n",
    "    losses.append(loss)\n",
    "    da, db, dc = gradients_mult(x1, x2, y, y_)\n",
    "    a -= da*lr\n",
    "    b -= db*lr\n",
    "    c -= dc*lr\n",
    "    \n",
    "loss = L(y, y_)\n",
    "display(plot3d(f'f(x) = {a:.2}(x1) + {b:.2}(x2) + {c:.2}<br>L={loss:.2}'))\n",
    "plt.plot(losses);"
   ]
  },
  {
   "cell_type": "markdown",
   "metadata": {},
   "source": [
    "# Ejercicio 2: Casas Multi"
   ]
  },
  {
   "cell_type": "code",
   "execution_count": null,
   "metadata": {},
   "outputs": [],
   "source": [
    "df = pd.read_table('data/CasasMulti.txt', names=['m2_construidos', 'num_cuartos', 'num_banos', 'm2_habitables', 'precio'])\n",
    "print(df.shape)\n",
    "df.head()"
   ]
  },
  {
   "cell_type": "code",
   "execution_count": null,
   "metadata": {},
   "outputs": [],
   "source": [
    "# Separamos las variables dependientes e independientes\n",
    "x = df.drop('precio', axis=1)\n",
    "y = np.log(df['precio'].values)\n",
    "\n",
    "# Para evaluar el modelo dividimos la data en un conjunto de entrenamiento y validación\n",
    "x_train, x_val, y_train, y_val = train_test_split(x, y, test_size=0.33, random_state=42)\n",
    "x_train.shape, x_val.shape"
   ]
  },
  {
   "cell_type": "code",
   "execution_count": null,
   "metadata": {},
   "outputs": [],
   "source": [
    "# Usamos el metodo StandardScaler para normalizar todas las variables\n",
    "scaler = StandardScaler()\n",
    "x_train = scaler.fit_transform(x_train)\n",
    "\n",
    "# Aplicamos el scaler al conjunto de validación\n",
    "x_val = scaler.transform(x_val)"
   ]
  },
  {
   "cell_type": "code",
   "execution_count": null,
   "metadata": {},
   "outputs": [],
   "source": [
    "# Separamos las variables\n",
    "x1_train, x1_val = x_train[:, 0], x_val[:, 0]\n",
    "x2_train, x2_val = x_train[:, 1], x_val[:, 1]\n",
    "x3_train, x3_val = x_train[:, 2], x_val[:, 2]\n",
    "x4_train, x4_val = x_train[:, 3], x_val[:, 3]"
   ]
  },
  {
   "cell_type": "markdown",
   "metadata": {},
   "source": [
    "$ f(x_{1i}, x_{2i}) = ax_{1i} + bx_{2i} + cx_{3i} + dx_{4i} + e $"
   ]
  },
  {
   "cell_type": "code",
   "execution_count": null,
   "metadata": {},
   "outputs": [],
   "source": [
    "# Definimos el modelo\n",
    "# COMPLETAR\n",
    "\n",
    "y_train_ = f(x1_train, x2_train, x3_train, x4_train)\n",
    "y_val_ = f(x1_val, x2_val, x3_val, x4_val)\n",
    "\n",
    "print(f'Train loss      = {L(y_train, y_train_):.4f}')\n",
    "print(f'Validation loss = {L(y_val, y_val_):.4f}')"
   ]
  },
  {
   "cell_type": "code",
   "execution_count": null,
   "metadata": {},
   "outputs": [],
   "source": [
    "def gradients_mult(x1, x2, x3, x4, y, y_):\n",
    "    # COMPLETAR\n",
    "\n",
    "    return da, db, dc, dd, de\n",
    "\n",
    "gradients_mult(x1_train, x2_train, x3_train, x4_train, y_train, y_train_)"
   ]
  },
  {
   "cell_type": "code",
   "execution_count": null,
   "metadata": {},
   "outputs": [],
   "source": [
    "# initial params\n",
    "# COMPLETAR\n",
    "\n",
    "# gradient descent\n",
    "# COMPLETAR\n",
    "    \n",
    "print(f'f(x) = {a:.2f}*x1 + {b:.2f}*x2 + {c:.2f}*x3 + {d:.2f}*x4 + {e:.2f}')\n",
    "print(f'Train loss      = {loss_train:.4f}')\n",
    "print(f'Validation loss = {loss_val:.4f}')\n",
    "plot_losses()"
   ]
  },
  {
   "cell_type": "markdown",
   "metadata": {},
   "source": [
    "# Usando matrices"
   ]
  },
  {
   "cell_type": "markdown",
   "metadata": {},
   "source": [
    "http://matrixmultiplication.xyz/\n",
    "![](imgs/mm.png)"
   ]
  },
  {
   "cell_type": "code",
   "execution_count": null,
   "metadata": {},
   "outputs": [],
   "source": [
    "# Usamos la misma data del ejercicio 2\n",
    "df = pd.read_table('data/CasasMulti.txt', names=['m2_construidos', 'num_cuartos', 'num_banos', 'm2_habitables', 'precio'])\n",
    "\n",
    "# Separamos las variables dependientes e independientes\n",
    "x = df.drop('precio', axis=1)\n",
    "y = np.log(df['precio'].values)\n",
    "\n",
    "# Para evaluar el modelo dividimos la data en un conjunto de entrenamiento y validación\n",
    "x_train, x_val, y_train, y_val = train_test_split(x, y, test_size=0.33, random_state=42)\n",
    "\n",
    "# Usamos el metodo StandardScaler para normalizar todas las variables\n",
    "scaler = StandardScaler()\n",
    "x_train = scaler.fit_transform(x_train)\n",
    "\n",
    "# Aplicamos el scaler al conjunto de validación\n",
    "x_val = scaler.transform(x_val)\n",
    "\n",
    "x_train.shape, x_val.shape, y_train.shape, y_val.shape"
   ]
  },
  {
   "cell_type": "code",
   "execution_count": null,
   "metadata": {},
   "outputs": [],
   "source": [
    "# Creamos una matriz de pesos y un valor para el bias\n",
    "w = np.ones([x.shape[1], 1])\n",
    "b = 0\n",
    "\n",
    "w.shape"
   ]
  },
  {
   "cell_type": "code",
   "execution_count": null,
   "metadata": {},
   "outputs": [],
   "source": [
    "# Definimos el modelo\n",
    "def f(x): return x@w + b\n",
    "\n",
    "y_train_ = f(x_train)\n",
    "y_train_.shape, y_train.shape"
   ]
  },
  {
   "cell_type": "code",
   "execution_count": null,
   "metadata": {},
   "outputs": [],
   "source": [
    "# Usamos la funcion ravel() para que el resultado tenga solo 1 dimension\n",
    "def f(x): return (x@w + b).ravel()\n",
    "\n",
    "y_train_ = f(x_train)\n",
    "y_train_.shape, y_train.shape"
   ]
  },
  {
   "cell_type": "code",
   "execution_count": null,
   "metadata": {},
   "outputs": [],
   "source": [
    "y_val_ = f(x_val)\n",
    "print(f'Train loss      = {L(y_train, y_train_):.4f}')\n",
    "print(f'Validation loss = {L(y_val, y_val_):.4f}')"
   ]
  },
  {
   "cell_type": "code",
   "execution_count": null,
   "metadata": {},
   "outputs": [],
   "source": [
    "def gradients_matrices(x, y, y_):\n",
    "    dw = (x.T @ (y_ - y)) / len(x)\n",
    "    db = (y_ - y).mean()\n",
    "    return dw[:,None], db\n",
    "\n",
    "gradients_matrices(x_train, y_train, y_train_)"
   ]
  },
  {
   "cell_type": "code",
   "execution_count": null,
   "metadata": {},
   "outputs": [],
   "source": [
    "# initial params\n",
    "w = np.ones([x.shape[1], 1])\n",
    "b = 0\n",
    "lr = 0.1\n",
    "steps = 10_000\n",
    "losses_train = []\n",
    "losses_val = []\n",
    "\n",
    "for i in tnrange(steps):\n",
    "    y_ = f(x_train)\n",
    "    \n",
    "    loss_train = L(y_train, y_)\n",
    "    loss_val = L(y_val, f(x_val))\n",
    "    losses_train.append(loss_train)\n",
    "    losses_val.append(loss_val)\n",
    "    \n",
    "    dw, db = gradients_matrices(x_train, y_train, y_)\n",
    "    w -= dw*lr\n",
    "    b -= db*lr\n",
    "    \n",
    "print(f'w = {w.ravel().round(2)}')\n",
    "print(f'b = {b:.2f}')\n",
    "print(f'Train loss      = {loss_train:.4f}')\n",
    "print(f'Validation loss = {loss_val:.4f}')\n",
    "plot_losses()"
   ]
  },
  {
   "cell_type": "code",
   "execution_count": null,
   "metadata": {},
   "outputs": [],
   "source": [
    "n = 15\n",
    "results = pd.DataFrame({'real': y_val, 'pred': f(x_val)})\n",
    "results['error'] = results['pred'] - results['real']\n",
    "results.head(n).round(4).T"
   ]
  },
  {
   "cell_type": "markdown",
   "metadata": {},
   "source": [
    "# Ejercicio 3: Diabetes Dataset"
   ]
  },
  {
   "cell_type": "code",
   "execution_count": null,
   "metadata": {},
   "outputs": [],
   "source": [
    "from sklearn.datasets import load_diabetes\n",
    "data = load_diabetes()"
   ]
  },
  {
   "cell_type": "code",
   "execution_count": null,
   "metadata": {},
   "outputs": [],
   "source": [
    "data.keys()"
   ]
  },
  {
   "cell_type": "code",
   "execution_count": null,
   "metadata": {},
   "outputs": [],
   "source": [
    "print(data['DESCR'])"
   ]
  },
  {
   "cell_type": "code",
   "execution_count": null,
   "metadata": {},
   "outputs": [],
   "source": [
    "x = data['data']\n",
    "y = data['target']\n",
    "x.shape, y.shape"
   ]
  },
  {
   "cell_type": "code",
   "execution_count": null,
   "metadata": {},
   "outputs": [],
   "source": [
    "# Para evaluar el modelo dividimos la data en un conjunto de entrenamiento y validación\n",
    "x_train, x_val, y_train, y_val = train_test_split(x, y, test_size=0.33, random_state=42)\n",
    "x_train.shape, x_val.shape"
   ]
  },
  {
   "cell_type": "code",
   "execution_count": null,
   "metadata": {},
   "outputs": [],
   "source": [
    "# COMPLETAR"
   ]
  },
  {
   "cell_type": "code",
   "execution_count": null,
   "metadata": {},
   "outputs": [],
   "source": [
    "n = 15\n",
    "results = pd.DataFrame({'real': y_val, 'pred': f(x_val)})\n",
    "results['error'] = results['pred'] - results['real']\n",
    "results.head(n).round(4).T"
   ]
  },
  {
   "cell_type": "code",
   "execution_count": null,
   "metadata": {},
   "outputs": [],
   "source": []
  }
 ],
 "metadata": {
  "kernelspec": {
   "display_name": "Python 3",
   "language": "python",
   "name": "python3"
  },
  "language_info": {
   "codemirror_mode": {
    "name": "ipython",
    "version": 3
   },
   "file_extension": ".py",
   "mimetype": "text/x-python",
   "name": "python",
   "nbconvert_exporter": "python",
   "pygments_lexer": "ipython3",
   "version": "3.6.5"
  },
  "toc": {
   "base_numbering": 1,
   "nav_menu": {},
   "number_sections": true,
   "sideBar": true,
   "skip_h1_title": false,
   "title_cell": "Table of Contents",
   "title_sidebar": "Contents",
   "toc_cell": false,
   "toc_position": {
    "height": "calc(100% - 180px)",
    "left": "10px",
    "top": "150px",
    "width": "294.6px"
   },
   "toc_section_display": true,
   "toc_window_display": true
  }
 },
 "nbformat": 4,
 "nbformat_minor": 2
}
